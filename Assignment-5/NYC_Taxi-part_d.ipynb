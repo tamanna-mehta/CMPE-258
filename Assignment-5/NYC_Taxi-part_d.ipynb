{
  "nbformat": 4,
  "nbformat_minor": 0,
  "metadata": {
    "colab": {
      "name": "NYC-partd.ipynb",
      "provenance": []
    },
    "kernelspec": {
      "name": "python3",
      "display_name": "Python 3"
    },
    "language_info": {
      "name": "python"
    }
  },
  "cells": [
    {
      "cell_type": "markdown",
      "metadata": {
        "id": "YYXq8gn3P-kk"
      },
      "source": [
        "#Part d) -NYC TaxiFare price Prediction using XG boost Model"
      ]
    },
    {
      "cell_type": "code",
      "metadata": {
        "colab": {
          "base_uri": "https://localhost:8080/"
        },
        "id": "zF6R-ZXYN0lT",
        "outputId": "35c70a8d-6cde-4323-f115-9e4b44a43bf2"
      },
      "source": [
        "import pandas as pd\n",
        "import seaborn as sns\n",
        "import matplotlib.pyplot as plt\n",
        "import numpy as np\n",
        "import folium\n",
        "from folium import plugins\n",
        "import tensorflow as tf\n",
        "import requests\n",
        "from io import BytesIO\n",
        "import tensorflow.keras as keras\n",
        "print(tf.__version__)\n",
        "import xgboost as xgb\n",
        "\n",
        "from sklearn.model_selection import train_test_split"
      ],
      "execution_count": 1,
      "outputs": [
        {
          "output_type": "stream",
          "text": [
            "2.4.1\n"
          ],
          "name": "stdout"
        }
      ]
    },
    {
      "cell_type": "markdown",
      "metadata": {
        "id": "ZdLJUF-jQFW4"
      },
      "source": [
        "LOADING PREPROCESSED DATA FROM PART-A"
      ]
    },
    {
      "cell_type": "code",
      "metadata": {
        "id": "BAw72FOFN7L0"
      },
      "source": [
        "r = requests.get('https://docs.google.com/spreadsheets/d/e/2PACX-1vQTEKkXqgTzdkc1X6HGorLIz73LrMqMd3QE1MrrbzIRKCY0no68p2ubg6e-bplKVfq4frtkjtcnLTY_/pub?gid=64899473&single=true&output=csv')\n",
        "file = r.content\n",
        "\n",
        "df = pd.read_csv(BytesIO(file))"
      ],
      "execution_count": 2,
      "outputs": []
    },
    {
      "cell_type": "code",
      "metadata": {
        "colab": {
          "base_uri": "https://localhost:8080/",
          "height": 204
        },
        "id": "eU8QdjCvO5Cz",
        "outputId": "17dfd179-1c0f-41d6-d81c-eb7cc912d783"
      },
      "source": [
        "df.head()"
      ],
      "execution_count": 3,
      "outputs": [
        {
          "output_type": "execute_result",
          "data": {
            "text/html": [
              "<div>\n",
              "<style scoped>\n",
              "    .dataframe tbody tr th:only-of-type {\n",
              "        vertical-align: middle;\n",
              "    }\n",
              "\n",
              "    .dataframe tbody tr th {\n",
              "        vertical-align: top;\n",
              "    }\n",
              "\n",
              "    .dataframe thead th {\n",
              "        text-align: right;\n",
              "    }\n",
              "</style>\n",
              "<table border=\"1\" class=\"dataframe\">\n",
              "  <thead>\n",
              "    <tr style=\"text-align: right;\">\n",
              "      <th></th>\n",
              "      <th>fare_amount</th>\n",
              "      <th>pickup_longitude</th>\n",
              "      <th>pickup_latitude</th>\n",
              "      <th>dropoff_longitude</th>\n",
              "      <th>dropoff_latitude</th>\n",
              "      <th>passenger_count</th>\n",
              "      <th>pickup_day_no</th>\n",
              "      <th>pickup_hour</th>\n",
              "      <th>pickup_month</th>\n",
              "      <th>distance</th>\n",
              "    </tr>\n",
              "  </thead>\n",
              "  <tbody>\n",
              "    <tr>\n",
              "      <th>0</th>\n",
              "      <td>4.5</td>\n",
              "      <td>-73.844311</td>\n",
              "      <td>40.721319</td>\n",
              "      <td>-73.841610</td>\n",
              "      <td>40.712278</td>\n",
              "      <td>1</td>\n",
              "      <td>0</td>\n",
              "      <td>17</td>\n",
              "      <td>6</td>\n",
              "      <td>0.943584</td>\n",
              "    </tr>\n",
              "    <tr>\n",
              "      <th>1</th>\n",
              "      <td>16.9</td>\n",
              "      <td>-74.016048</td>\n",
              "      <td>40.711303</td>\n",
              "      <td>-73.979268</td>\n",
              "      <td>40.782004</td>\n",
              "      <td>1</td>\n",
              "      <td>1</td>\n",
              "      <td>16</td>\n",
              "      <td>1</td>\n",
              "      <td>7.969567</td>\n",
              "    </tr>\n",
              "    <tr>\n",
              "      <th>2</th>\n",
              "      <td>5.7</td>\n",
              "      <td>-73.982738</td>\n",
              "      <td>40.761270</td>\n",
              "      <td>-73.991242</td>\n",
              "      <td>40.750562</td>\n",
              "      <td>2</td>\n",
              "      <td>3</td>\n",
              "      <td>0</td>\n",
              "      <td>8</td>\n",
              "      <td>1.367404</td>\n",
              "    </tr>\n",
              "    <tr>\n",
              "      <th>3</th>\n",
              "      <td>7.7</td>\n",
              "      <td>-73.987130</td>\n",
              "      <td>40.733143</td>\n",
              "      <td>-73.991567</td>\n",
              "      <td>40.758092</td>\n",
              "      <td>1</td>\n",
              "      <td>5</td>\n",
              "      <td>4</td>\n",
              "      <td>4</td>\n",
              "      <td>2.534047</td>\n",
              "    </tr>\n",
              "    <tr>\n",
              "      <th>4</th>\n",
              "      <td>5.3</td>\n",
              "      <td>-73.968095</td>\n",
              "      <td>40.768008</td>\n",
              "      <td>-73.956655</td>\n",
              "      <td>40.783762</td>\n",
              "      <td>1</td>\n",
              "      <td>1</td>\n",
              "      <td>7</td>\n",
              "      <td>3</td>\n",
              "      <td>1.946952</td>\n",
              "    </tr>\n",
              "  </tbody>\n",
              "</table>\n",
              "</div>"
            ],
            "text/plain": [
              "   fare_amount  pickup_longitude  ...  pickup_month  distance\n",
              "0          4.5        -73.844311  ...             6  0.943584\n",
              "1         16.9        -74.016048  ...             1  7.969567\n",
              "2          5.7        -73.982738  ...             8  1.367404\n",
              "3          7.7        -73.987130  ...             4  2.534047\n",
              "4          5.3        -73.968095  ...             3  1.946952\n",
              "\n",
              "[5 rows x 10 columns]"
            ]
          },
          "metadata": {
            "tags": []
          },
          "execution_count": 3
        }
      ]
    },
    {
      "cell_type": "markdown",
      "metadata": {
        "id": "NzkgY4kbQM2W"
      },
      "source": [
        "DEFINING PARAMETERS FOR XG BOOST"
      ]
    },
    {
      "cell_type": "code",
      "metadata": {
        "id": "y0KqXezRN-x_"
      },
      "source": [
        "params = {\n",
        "   \n",
        "    'max_depth': 7,\n",
        "    'gamma' :0,\n",
        "    'eta':.05, \n",
        "    'subsample': 1,\n",
        "    'colsample_bytree': 1.0, \n",
        "    'objective':'reg:linear',\n",
        "    'eval_metric':'rmse',\n",
        "    'silent': 0\n",
        "}"
      ],
      "execution_count": 4,
      "outputs": []
    },
    {
      "cell_type": "code",
      "metadata": {
        "id": "d0tx6quMOyXJ"
      },
      "source": [
        "#setting X and (features and label for dataset)\n",
        "X=df.drop(columns=['fare_amount'])\n",
        "Y=df['fare_amount']"
      ],
      "execution_count": 5,
      "outputs": []
    },
    {
      "cell_type": "code",
      "metadata": {
        "colab": {
          "base_uri": "https://localhost:8080/",
          "height": 204
        },
        "id": "Cwy1iEVVOvwM",
        "outputId": "59616e86-2df1-4cac-f0b1-5b59ac87ad10"
      },
      "source": [
        "X_train, X_test, y_train, y_test = train_test_split(X, Y, test_size=0.20, random_state=42,shuffle=True ) \n",
        "X_train.head()"
      ],
      "execution_count": 6,
      "outputs": [
        {
          "output_type": "execute_result",
          "data": {
            "text/html": [
              "<div>\n",
              "<style scoped>\n",
              "    .dataframe tbody tr th:only-of-type {\n",
              "        vertical-align: middle;\n",
              "    }\n",
              "\n",
              "    .dataframe tbody tr th {\n",
              "        vertical-align: top;\n",
              "    }\n",
              "\n",
              "    .dataframe thead th {\n",
              "        text-align: right;\n",
              "    }\n",
              "</style>\n",
              "<table border=\"1\" class=\"dataframe\">\n",
              "  <thead>\n",
              "    <tr style=\"text-align: right;\">\n",
              "      <th></th>\n",
              "      <th>pickup_longitude</th>\n",
              "      <th>pickup_latitude</th>\n",
              "      <th>dropoff_longitude</th>\n",
              "      <th>dropoff_latitude</th>\n",
              "      <th>passenger_count</th>\n",
              "      <th>pickup_day_no</th>\n",
              "      <th>pickup_hour</th>\n",
              "      <th>pickup_month</th>\n",
              "      <th>distance</th>\n",
              "    </tr>\n",
              "  </thead>\n",
              "  <tbody>\n",
              "    <tr>\n",
              "      <th>2420</th>\n",
              "      <td>-73.976727</td>\n",
              "      <td>40.765018</td>\n",
              "      <td>-73.982138</td>\n",
              "      <td>40.775040</td>\n",
              "      <td>2</td>\n",
              "      <td>4</td>\n",
              "      <td>17</td>\n",
              "      <td>3</td>\n",
              "      <td>1.138944</td>\n",
              "    </tr>\n",
              "    <tr>\n",
              "      <th>729</th>\n",
              "      <td>-73.926383</td>\n",
              "      <td>40.808057</td>\n",
              "      <td>-73.935130</td>\n",
              "      <td>40.814371</td>\n",
              "      <td>1</td>\n",
              "      <td>6</td>\n",
              "      <td>16</td>\n",
              "      <td>7</td>\n",
              "      <td>1.078780</td>\n",
              "    </tr>\n",
              "    <tr>\n",
              "      <th>8253</th>\n",
              "      <td>-73.988640</td>\n",
              "      <td>40.748565</td>\n",
              "      <td>-73.952244</td>\n",
              "      <td>40.776462</td>\n",
              "      <td>1</td>\n",
              "      <td>6</td>\n",
              "      <td>23</td>\n",
              "      <td>12</td>\n",
              "      <td>4.585751</td>\n",
              "    </tr>\n",
              "    <tr>\n",
              "      <th>14208</th>\n",
              "      <td>-73.959452</td>\n",
              "      <td>40.781993</td>\n",
              "      <td>-73.975275</td>\n",
              "      <td>40.786032</td>\n",
              "      <td>3</td>\n",
              "      <td>4</td>\n",
              "      <td>11</td>\n",
              "      <td>12</td>\n",
              "      <td>1.633037</td>\n",
              "    </tr>\n",
              "    <tr>\n",
              "      <th>6167</th>\n",
              "      <td>-73.982122</td>\n",
              "      <td>40.778511</td>\n",
              "      <td>-73.979104</td>\n",
              "      <td>40.763083</td>\n",
              "      <td>1</td>\n",
              "      <td>6</td>\n",
              "      <td>7</td>\n",
              "      <td>6</td>\n",
              "      <td>1.572042</td>\n",
              "    </tr>\n",
              "  </tbody>\n",
              "</table>\n",
              "</div>"
            ],
            "text/plain": [
              "       pickup_longitude  pickup_latitude  ...  pickup_month  distance\n",
              "2420         -73.976727        40.765018  ...             3  1.138944\n",
              "729          -73.926383        40.808057  ...             7  1.078780\n",
              "8253         -73.988640        40.748565  ...            12  4.585751\n",
              "14208        -73.959452        40.781993  ...            12  1.633037\n",
              "6167         -73.982122        40.778511  ...             6  1.572042\n",
              "\n",
              "[5 rows x 9 columns]"
            ]
          },
          "metadata": {
            "tags": []
          },
          "execution_count": 6
        }
      ]
    },
    {
      "cell_type": "code",
      "metadata": {
        "colab": {
          "base_uri": "https://localhost:8080/"
        },
        "id": "FxMDncOEPYfB",
        "outputId": "6bef41cf-95a1-4ac1-dcf4-445968f70ff6"
      },
      "source": [
        "X_train.shape\n",
        "y_train.shape\n",
        "X_test.shape\n",
        "y_test.shape"
      ],
      "execution_count": 7,
      "outputs": [
        {
          "output_type": "execute_result",
          "data": {
            "text/plain": [
              "(2991,)"
            ]
          },
          "metadata": {
            "tags": []
          },
          "execution_count": 7
        }
      ]
    },
    {
      "cell_type": "code",
      "metadata": {
        "colab": {
          "base_uri": "https://localhost:8080/"
        },
        "id": "ZkANCpuGONpD",
        "outputId": "d41e9b17-be39-4c68-e667-f130e506aec4"
      },
      "source": [
        "def XGBoost_model(X_train,X_test,y_train,y_test,params):\n",
        "    matrix_train = xgb.DMatrix(X_train,label=y_train)\n",
        "    matrix_test = xgb.DMatrix(X_test,label=y_test)\n",
        "    model=xgb.train(params=params,\n",
        "                    dtrain=matrix_train,num_boost_round=2000, \n",
        "                    early_stopping_rounds=15,evals=[(matrix_test,'test')])\n",
        "    return model\n",
        "\n",
        "model = XGBoost_model(X_train,X_test,y_train,y_test,params)"
      ],
      "execution_count": 8,
      "outputs": [
        {
          "output_type": "stream",
          "text": [
            "[20:18:51] WARNING: /workspace/src/objective/regression_obj.cu:152: reg:linear is now deprecated in favor of reg:squarederror.\n",
            "[0]\ttest-rmse:13.5327\n",
            "Will train until test-rmse hasn't improved in 15 rounds.\n",
            "[1]\ttest-rmse:12.9382\n",
            "[2]\ttest-rmse:12.3798\n",
            "[3]\ttest-rmse:11.8498\n",
            "[4]\ttest-rmse:11.3533\n",
            "[5]\ttest-rmse:10.8825\n",
            "[6]\ttest-rmse:10.4354\n",
            "[7]\ttest-rmse:10.0181\n",
            "[8]\ttest-rmse:9.62383\n",
            "[9]\ttest-rmse:9.25296\n",
            "[10]\ttest-rmse:8.90548\n",
            "[11]\ttest-rmse:8.57406\n",
            "[12]\ttest-rmse:8.26992\n",
            "[13]\ttest-rmse:7.98115\n",
            "[14]\ttest-rmse:7.71224\n",
            "[15]\ttest-rmse:7.45894\n",
            "[16]\ttest-rmse:7.22305\n",
            "[17]\ttest-rmse:7.001\n",
            "[18]\ttest-rmse:6.79366\n",
            "[19]\ttest-rmse:6.6048\n",
            "[20]\ttest-rmse:6.42986\n",
            "[21]\ttest-rmse:6.26111\n",
            "[22]\ttest-rmse:6.11222\n",
            "[23]\ttest-rmse:5.96606\n",
            "[24]\ttest-rmse:5.83001\n",
            "[25]\ttest-rmse:5.70746\n",
            "[26]\ttest-rmse:5.59252\n",
            "[27]\ttest-rmse:5.49286\n",
            "[28]\ttest-rmse:5.3944\n",
            "[29]\ttest-rmse:5.30839\n",
            "[30]\ttest-rmse:5.22957\n",
            "[31]\ttest-rmse:5.15359\n",
            "[32]\ttest-rmse:5.08464\n",
            "[33]\ttest-rmse:5.02032\n",
            "[34]\ttest-rmse:4.96031\n",
            "[35]\ttest-rmse:4.8991\n",
            "[36]\ttest-rmse:4.84508\n",
            "[37]\ttest-rmse:4.79793\n",
            "[38]\ttest-rmse:4.75615\n",
            "[39]\ttest-rmse:4.71282\n",
            "[40]\ttest-rmse:4.6721\n",
            "[41]\ttest-rmse:4.63906\n",
            "[42]\ttest-rmse:4.60642\n",
            "[43]\ttest-rmse:4.58079\n",
            "[44]\ttest-rmse:4.55821\n",
            "[45]\ttest-rmse:4.53366\n",
            "[46]\ttest-rmse:4.51268\n",
            "[47]\ttest-rmse:4.49519\n",
            "[48]\ttest-rmse:4.48071\n",
            "[49]\ttest-rmse:4.46582\n",
            "[50]\ttest-rmse:4.453\n",
            "[51]\ttest-rmse:4.43895\n",
            "[52]\ttest-rmse:4.4299\n",
            "[53]\ttest-rmse:4.42112\n",
            "[54]\ttest-rmse:4.41294\n",
            "[55]\ttest-rmse:4.40476\n",
            "[56]\ttest-rmse:4.39609\n",
            "[57]\ttest-rmse:4.38958\n",
            "[58]\ttest-rmse:4.38479\n",
            "[59]\ttest-rmse:4.381\n",
            "[60]\ttest-rmse:4.37928\n",
            "[61]\ttest-rmse:4.37583\n",
            "[62]\ttest-rmse:4.37343\n",
            "[63]\ttest-rmse:4.37132\n",
            "[64]\ttest-rmse:4.36927\n",
            "[65]\ttest-rmse:4.36652\n",
            "[66]\ttest-rmse:4.36513\n",
            "[67]\ttest-rmse:4.36104\n",
            "[68]\ttest-rmse:4.35707\n",
            "[69]\ttest-rmse:4.35528\n",
            "[70]\ttest-rmse:4.35525\n",
            "[71]\ttest-rmse:4.35614\n",
            "[72]\ttest-rmse:4.35504\n",
            "[73]\ttest-rmse:4.35461\n",
            "[74]\ttest-rmse:4.35349\n",
            "[75]\ttest-rmse:4.35434\n",
            "[76]\ttest-rmse:4.35131\n",
            "[77]\ttest-rmse:4.35135\n",
            "[78]\ttest-rmse:4.35013\n",
            "[79]\ttest-rmse:4.35065\n",
            "[80]\ttest-rmse:4.3493\n",
            "[81]\ttest-rmse:4.34878\n",
            "[82]\ttest-rmse:4.34667\n",
            "[83]\ttest-rmse:4.34213\n",
            "[84]\ttest-rmse:4.34245\n",
            "[85]\ttest-rmse:4.34128\n",
            "[86]\ttest-rmse:4.34093\n",
            "[87]\ttest-rmse:4.33925\n",
            "[88]\ttest-rmse:4.33885\n",
            "[89]\ttest-rmse:4.33741\n",
            "[90]\ttest-rmse:4.33605\n",
            "[91]\ttest-rmse:4.33567\n",
            "[92]\ttest-rmse:4.33498\n",
            "[93]\ttest-rmse:4.33466\n",
            "[94]\ttest-rmse:4.33431\n",
            "[95]\ttest-rmse:4.33262\n",
            "[96]\ttest-rmse:4.33325\n",
            "[97]\ttest-rmse:4.33148\n",
            "[98]\ttest-rmse:4.33009\n",
            "[99]\ttest-rmse:4.3296\n",
            "[100]\ttest-rmse:4.32891\n",
            "[101]\ttest-rmse:4.32833\n",
            "[102]\ttest-rmse:4.32918\n",
            "[103]\ttest-rmse:4.32886\n",
            "[104]\ttest-rmse:4.32784\n",
            "[105]\ttest-rmse:4.329\n",
            "[106]\ttest-rmse:4.32707\n",
            "[107]\ttest-rmse:4.32613\n",
            "[108]\ttest-rmse:4.32676\n",
            "[109]\ttest-rmse:4.32445\n",
            "[110]\ttest-rmse:4.3239\n",
            "[111]\ttest-rmse:4.322\n",
            "[112]\ttest-rmse:4.32323\n",
            "[113]\ttest-rmse:4.3224\n",
            "[114]\ttest-rmse:4.32565\n",
            "[115]\ttest-rmse:4.32464\n",
            "[116]\ttest-rmse:4.32302\n",
            "[117]\ttest-rmse:4.32294\n",
            "[118]\ttest-rmse:4.3228\n",
            "[119]\ttest-rmse:4.32338\n",
            "[120]\ttest-rmse:4.32152\n",
            "[121]\ttest-rmse:4.3204\n",
            "[122]\ttest-rmse:4.31833\n",
            "[123]\ttest-rmse:4.31813\n",
            "[124]\ttest-rmse:4.31733\n",
            "[125]\ttest-rmse:4.31783\n",
            "[126]\ttest-rmse:4.318\n",
            "[127]\ttest-rmse:4.31719\n",
            "[128]\ttest-rmse:4.31635\n",
            "[129]\ttest-rmse:4.31619\n",
            "[130]\ttest-rmse:4.31718\n",
            "[131]\ttest-rmse:4.31692\n",
            "[132]\ttest-rmse:4.31644\n",
            "[133]\ttest-rmse:4.31792\n",
            "[134]\ttest-rmse:4.31671\n",
            "[135]\ttest-rmse:4.3157\n",
            "[136]\ttest-rmse:4.31614\n",
            "[137]\ttest-rmse:4.31591\n",
            "[138]\ttest-rmse:4.31539\n",
            "[139]\ttest-rmse:4.31576\n",
            "[140]\ttest-rmse:4.3157\n",
            "[141]\ttest-rmse:4.31552\n",
            "[142]\ttest-rmse:4.31443\n",
            "[143]\ttest-rmse:4.31508\n",
            "[144]\ttest-rmse:4.31485\n",
            "[145]\ttest-rmse:4.31513\n",
            "[146]\ttest-rmse:4.31483\n",
            "[147]\ttest-rmse:4.31471\n",
            "[148]\ttest-rmse:4.31459\n",
            "[149]\ttest-rmse:4.31467\n",
            "[150]\ttest-rmse:4.31442\n",
            "[151]\ttest-rmse:4.31425\n",
            "[152]\ttest-rmse:4.31418\n",
            "[153]\ttest-rmse:4.31521\n",
            "[154]\ttest-rmse:4.31387\n",
            "[155]\ttest-rmse:4.31405\n",
            "[156]\ttest-rmse:4.31393\n",
            "[157]\ttest-rmse:4.3138\n",
            "[158]\ttest-rmse:4.31375\n",
            "[159]\ttest-rmse:4.31516\n",
            "[160]\ttest-rmse:4.31621\n",
            "[161]\ttest-rmse:4.31632\n",
            "[162]\ttest-rmse:4.3165\n",
            "[163]\ttest-rmse:4.31618\n",
            "[164]\ttest-rmse:4.31541\n",
            "[165]\ttest-rmse:4.31524\n",
            "[166]\ttest-rmse:4.31545\n",
            "[167]\ttest-rmse:4.31607\n",
            "[168]\ttest-rmse:4.3151\n",
            "[169]\ttest-rmse:4.31533\n",
            "[170]\ttest-rmse:4.31442\n",
            "[171]\ttest-rmse:4.31596\n",
            "[172]\ttest-rmse:4.31821\n",
            "[173]\ttest-rmse:4.31855\n",
            "Stopping. Best iteration:\n",
            "[158]\ttest-rmse:4.31375\n",
            "\n"
          ],
          "name": "stdout"
        }
      ]
    },
    {
      "cell_type": "code",
      "metadata": {
        "id": "zxlUXgKZONx0"
      },
      "source": [
        ""
      ],
      "execution_count": 8,
      "outputs": []
    }
  ]
}