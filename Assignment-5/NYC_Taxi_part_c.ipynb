{
  "nbformat": 4,
  "nbformat_minor": 0,
  "metadata": {
    "colab": {
      "name": "NYC_Taxi_PyTorch.ipynb",
      "provenance": [],
      "collapsed_sections": [],
      "toc_visible": true
    },
    "kernelspec": {
      "name": "python3",
      "display_name": "Python 3"
    },
    "accelerator": "GPU",
    "widgets": {
      "application/vnd.jupyter.widget-state+json": {
        "1730006f99d2437ebf7efd283c1e10d6": {
          "model_module": "@jupyter-widgets/controls",
          "model_name": "HBoxModel",
          "state": {
            "_view_name": "HBoxView",
            "_dom_classes": [],
            "_model_name": "HBoxModel",
            "_view_module": "@jupyter-widgets/controls",
            "_model_module_version": "1.5.0",
            "_view_count": null,
            "_view_module_version": "1.5.0",
            "box_style": "",
            "layout": "IPY_MODEL_3a754bb107684ef4a6a8b0b7626fe5d9",
            "_model_module": "@jupyter-widgets/controls",
            "children": [
              "IPY_MODEL_24d594f18da6462ab678993bbf442bba",
              "IPY_MODEL_3895e046480a4cf6867d14244c6a23cf"
            ]
          }
        },
        "3a754bb107684ef4a6a8b0b7626fe5d9": {
          "model_module": "@jupyter-widgets/base",
          "model_name": "LayoutModel",
          "state": {
            "_view_name": "LayoutView",
            "grid_template_rows": null,
            "right": null,
            "justify_content": null,
            "_view_module": "@jupyter-widgets/base",
            "overflow": null,
            "_model_module_version": "1.2.0",
            "_view_count": null,
            "flex_flow": null,
            "width": null,
            "min_width": null,
            "border": null,
            "align_items": null,
            "bottom": null,
            "_model_module": "@jupyter-widgets/base",
            "top": null,
            "grid_column": null,
            "overflow_y": null,
            "overflow_x": null,
            "grid_auto_flow": null,
            "grid_area": null,
            "grid_template_columns": null,
            "flex": null,
            "_model_name": "LayoutModel",
            "justify_items": null,
            "grid_row": null,
            "max_height": null,
            "align_content": null,
            "visibility": null,
            "align_self": null,
            "height": null,
            "min_height": null,
            "padding": null,
            "grid_auto_rows": null,
            "grid_gap": null,
            "max_width": null,
            "order": null,
            "_view_module_version": "1.2.0",
            "grid_template_areas": null,
            "object_position": null,
            "object_fit": null,
            "grid_auto_columns": null,
            "margin": null,
            "display": null,
            "left": null
          }
        },
        "24d594f18da6462ab678993bbf442bba": {
          "model_module": "@jupyter-widgets/controls",
          "model_name": "FloatProgressModel",
          "state": {
            "_view_name": "ProgressView",
            "style": "IPY_MODEL_64fad78bf720458a91524fbd2a3e94a7",
            "_dom_classes": [],
            "description": "100%",
            "_model_name": "FloatProgressModel",
            "bar_style": "success",
            "max": 10,
            "_view_module": "@jupyter-widgets/controls",
            "_model_module_version": "1.5.0",
            "value": 10,
            "_view_count": null,
            "_view_module_version": "1.5.0",
            "orientation": "horizontal",
            "min": 0,
            "description_tooltip": null,
            "_model_module": "@jupyter-widgets/controls",
            "layout": "IPY_MODEL_6f816eb8a57c4eaeb8a0f5992e201937"
          }
        },
        "3895e046480a4cf6867d14244c6a23cf": {
          "model_module": "@jupyter-widgets/controls",
          "model_name": "HTMLModel",
          "state": {
            "_view_name": "HTMLView",
            "style": "IPY_MODEL_2d6601f0fbf54686a523b9e971f9be95",
            "_dom_classes": [],
            "description": "",
            "_model_name": "HTMLModel",
            "placeholder": "​",
            "_view_module": "@jupyter-widgets/controls",
            "_model_module_version": "1.5.0",
            "value": " 10/10 [02:23&lt;00:00, 14.35s/it]",
            "_view_count": null,
            "_view_module_version": "1.5.0",
            "description_tooltip": null,
            "_model_module": "@jupyter-widgets/controls",
            "layout": "IPY_MODEL_2cf8359b069948dfa303c46967e3a402"
          }
        },
        "64fad78bf720458a91524fbd2a3e94a7": {
          "model_module": "@jupyter-widgets/controls",
          "model_name": "ProgressStyleModel",
          "state": {
            "_view_name": "StyleView",
            "_model_name": "ProgressStyleModel",
            "description_width": "initial",
            "_view_module": "@jupyter-widgets/base",
            "_model_module_version": "1.5.0",
            "_view_count": null,
            "_view_module_version": "1.2.0",
            "bar_color": null,
            "_model_module": "@jupyter-widgets/controls"
          }
        },
        "6f816eb8a57c4eaeb8a0f5992e201937": {
          "model_module": "@jupyter-widgets/base",
          "model_name": "LayoutModel",
          "state": {
            "_view_name": "LayoutView",
            "grid_template_rows": null,
            "right": null,
            "justify_content": null,
            "_view_module": "@jupyter-widgets/base",
            "overflow": null,
            "_model_module_version": "1.2.0",
            "_view_count": null,
            "flex_flow": null,
            "width": null,
            "min_width": null,
            "border": null,
            "align_items": null,
            "bottom": null,
            "_model_module": "@jupyter-widgets/base",
            "top": null,
            "grid_column": null,
            "overflow_y": null,
            "overflow_x": null,
            "grid_auto_flow": null,
            "grid_area": null,
            "grid_template_columns": null,
            "flex": null,
            "_model_name": "LayoutModel",
            "justify_items": null,
            "grid_row": null,
            "max_height": null,
            "align_content": null,
            "visibility": null,
            "align_self": null,
            "height": null,
            "min_height": null,
            "padding": null,
            "grid_auto_rows": null,
            "grid_gap": null,
            "max_width": null,
            "order": null,
            "_view_module_version": "1.2.0",
            "grid_template_areas": null,
            "object_position": null,
            "object_fit": null,
            "grid_auto_columns": null,
            "margin": null,
            "display": null,
            "left": null
          }
        },
        "2d6601f0fbf54686a523b9e971f9be95": {
          "model_module": "@jupyter-widgets/controls",
          "model_name": "DescriptionStyleModel",
          "state": {
            "_view_name": "StyleView",
            "_model_name": "DescriptionStyleModel",
            "description_width": "",
            "_view_module": "@jupyter-widgets/base",
            "_model_module_version": "1.5.0",
            "_view_count": null,
            "_view_module_version": "1.2.0",
            "_model_module": "@jupyter-widgets/controls"
          }
        },
        "2cf8359b069948dfa303c46967e3a402": {
          "model_module": "@jupyter-widgets/base",
          "model_name": "LayoutModel",
          "state": {
            "_view_name": "LayoutView",
            "grid_template_rows": null,
            "right": null,
            "justify_content": null,
            "_view_module": "@jupyter-widgets/base",
            "overflow": null,
            "_model_module_version": "1.2.0",
            "_view_count": null,
            "flex_flow": null,
            "width": null,
            "min_width": null,
            "border": null,
            "align_items": null,
            "bottom": null,
            "_model_module": "@jupyter-widgets/base",
            "top": null,
            "grid_column": null,
            "overflow_y": null,
            "overflow_x": null,
            "grid_auto_flow": null,
            "grid_area": null,
            "grid_template_columns": null,
            "flex": null,
            "_model_name": "LayoutModel",
            "justify_items": null,
            "grid_row": null,
            "max_height": null,
            "align_content": null,
            "visibility": null,
            "align_self": null,
            "height": null,
            "min_height": null,
            "padding": null,
            "grid_auto_rows": null,
            "grid_gap": null,
            "max_width": null,
            "order": null,
            "_view_module_version": "1.2.0",
            "grid_template_areas": null,
            "object_position": null,
            "object_fit": null,
            "grid_auto_columns": null,
            "margin": null,
            "display": null,
            "left": null
          }
        },
        "0c130f4341ab4385afc0b628bb6c12cc": {
          "model_module": "@jupyter-widgets/controls",
          "model_name": "HBoxModel",
          "state": {
            "_view_name": "HBoxView",
            "_dom_classes": [],
            "_model_name": "HBoxModel",
            "_view_module": "@jupyter-widgets/controls",
            "_model_module_version": "1.5.0",
            "_view_count": null,
            "_view_module_version": "1.5.0",
            "box_style": "",
            "layout": "IPY_MODEL_1583c93d715d4265add25821505f58df",
            "_model_module": "@jupyter-widgets/controls",
            "children": [
              "IPY_MODEL_7ecc6a0a5cc74fdc9a664f78ce2a12cc",
              "IPY_MODEL_c55d60abd3f64f2084b4237cd22ea0eb"
            ]
          }
        },
        "1583c93d715d4265add25821505f58df": {
          "model_module": "@jupyter-widgets/base",
          "model_name": "LayoutModel",
          "state": {
            "_view_name": "LayoutView",
            "grid_template_rows": null,
            "right": null,
            "justify_content": null,
            "_view_module": "@jupyter-widgets/base",
            "overflow": null,
            "_model_module_version": "1.2.0",
            "_view_count": null,
            "flex_flow": null,
            "width": null,
            "min_width": null,
            "border": null,
            "align_items": null,
            "bottom": null,
            "_model_module": "@jupyter-widgets/base",
            "top": null,
            "grid_column": null,
            "overflow_y": null,
            "overflow_x": null,
            "grid_auto_flow": null,
            "grid_area": null,
            "grid_template_columns": null,
            "flex": null,
            "_model_name": "LayoutModel",
            "justify_items": null,
            "grid_row": null,
            "max_height": null,
            "align_content": null,
            "visibility": null,
            "align_self": null,
            "height": null,
            "min_height": null,
            "padding": null,
            "grid_auto_rows": null,
            "grid_gap": null,
            "max_width": null,
            "order": null,
            "_view_module_version": "1.2.0",
            "grid_template_areas": null,
            "object_position": null,
            "object_fit": null,
            "grid_auto_columns": null,
            "margin": null,
            "display": null,
            "left": null
          }
        },
        "7ecc6a0a5cc74fdc9a664f78ce2a12cc": {
          "model_module": "@jupyter-widgets/controls",
          "model_name": "FloatProgressModel",
          "state": {
            "_view_name": "ProgressView",
            "style": "IPY_MODEL_eae0b6f888ce44eebc7608ce6c4fb891",
            "_dom_classes": [],
            "description": "Epoch 0: 100%",
            "_model_name": "FloatProgressModel",
            "bar_style": "",
            "max": 1563,
            "_view_module": "@jupyter-widgets/controls",
            "_model_module_version": "1.5.0",
            "value": 1563,
            "_view_count": null,
            "_view_module_version": "1.5.0",
            "orientation": "horizontal",
            "min": 0,
            "description_tooltip": null,
            "_model_module": "@jupyter-widgets/controls",
            "layout": "IPY_MODEL_ac5050abda854eac9f74a563a17a0063"
          }
        },
        "c55d60abd3f64f2084b4237cd22ea0eb": {
          "model_module": "@jupyter-widgets/controls",
          "model_name": "HTMLModel",
          "state": {
            "_view_name": "HTMLView",
            "style": "IPY_MODEL_3cfb5650e0314f95970d268521e21d8f",
            "_dom_classes": [],
            "description": "",
            "_model_name": "HTMLModel",
            "placeholder": "​",
            "_view_module": "@jupyter-widgets/controls",
            "_model_module_version": "1.5.0",
            "value": " 1563/1563 [00:12&lt;00:00, 125.29it/s, loss=0.396]",
            "_view_count": null,
            "_view_module_version": "1.5.0",
            "description_tooltip": null,
            "_model_module": "@jupyter-widgets/controls",
            "layout": "IPY_MODEL_f4805148771b4273814cec9b2d3e9575"
          }
        },
        "eae0b6f888ce44eebc7608ce6c4fb891": {
          "model_module": "@jupyter-widgets/controls",
          "model_name": "ProgressStyleModel",
          "state": {
            "_view_name": "StyleView",
            "_model_name": "ProgressStyleModel",
            "description_width": "initial",
            "_view_module": "@jupyter-widgets/base",
            "_model_module_version": "1.5.0",
            "_view_count": null,
            "_view_module_version": "1.2.0",
            "bar_color": null,
            "_model_module": "@jupyter-widgets/controls"
          }
        },
        "ac5050abda854eac9f74a563a17a0063": {
          "model_module": "@jupyter-widgets/base",
          "model_name": "LayoutModel",
          "state": {
            "_view_name": "LayoutView",
            "grid_template_rows": null,
            "right": null,
            "justify_content": null,
            "_view_module": "@jupyter-widgets/base",
            "overflow": null,
            "_model_module_version": "1.2.0",
            "_view_count": null,
            "flex_flow": null,
            "width": null,
            "min_width": null,
            "border": null,
            "align_items": null,
            "bottom": null,
            "_model_module": "@jupyter-widgets/base",
            "top": null,
            "grid_column": null,
            "overflow_y": null,
            "overflow_x": null,
            "grid_auto_flow": null,
            "grid_area": null,
            "grid_template_columns": null,
            "flex": null,
            "_model_name": "LayoutModel",
            "justify_items": null,
            "grid_row": null,
            "max_height": null,
            "align_content": null,
            "visibility": null,
            "align_self": null,
            "height": null,
            "min_height": null,
            "padding": null,
            "grid_auto_rows": null,
            "grid_gap": null,
            "max_width": null,
            "order": null,
            "_view_module_version": "1.2.0",
            "grid_template_areas": null,
            "object_position": null,
            "object_fit": null,
            "grid_auto_columns": null,
            "margin": null,
            "display": null,
            "left": null
          }
        },
        "3cfb5650e0314f95970d268521e21d8f": {
          "model_module": "@jupyter-widgets/controls",
          "model_name": "DescriptionStyleModel",
          "state": {
            "_view_name": "StyleView",
            "_model_name": "DescriptionStyleModel",
            "description_width": "",
            "_view_module": "@jupyter-widgets/base",
            "_model_module_version": "1.5.0",
            "_view_count": null,
            "_view_module_version": "1.2.0",
            "_model_module": "@jupyter-widgets/controls"
          }
        },
        "f4805148771b4273814cec9b2d3e9575": {
          "model_module": "@jupyter-widgets/base",
          "model_name": "LayoutModel",
          "state": {
            "_view_name": "LayoutView",
            "grid_template_rows": null,
            "right": null,
            "justify_content": null,
            "_view_module": "@jupyter-widgets/base",
            "overflow": null,
            "_model_module_version": "1.2.0",
            "_view_count": null,
            "flex_flow": null,
            "width": null,
            "min_width": null,
            "border": null,
            "align_items": null,
            "bottom": null,
            "_model_module": "@jupyter-widgets/base",
            "top": null,
            "grid_column": null,
            "overflow_y": null,
            "overflow_x": null,
            "grid_auto_flow": null,
            "grid_area": null,
            "grid_template_columns": null,
            "flex": null,
            "_model_name": "LayoutModel",
            "justify_items": null,
            "grid_row": null,
            "max_height": null,
            "align_content": null,
            "visibility": null,
            "align_self": null,
            "height": null,
            "min_height": null,
            "padding": null,
            "grid_auto_rows": null,
            "grid_gap": null,
            "max_width": null,
            "order": null,
            "_view_module_version": "1.2.0",
            "grid_template_areas": null,
            "object_position": null,
            "object_fit": null,
            "grid_auto_columns": null,
            "margin": null,
            "display": null,
            "left": null
          }
        },
        "1b21ca41d1524e0db6202171e79f9328": {
          "model_module": "@jupyter-widgets/controls",
          "model_name": "HBoxModel",
          "state": {
            "_view_name": "HBoxView",
            "_dom_classes": [],
            "_model_name": "HBoxModel",
            "_view_module": "@jupyter-widgets/controls",
            "_model_module_version": "1.5.0",
            "_view_count": null,
            "_view_module_version": "1.5.0",
            "box_style": "",
            "layout": "IPY_MODEL_4d3cdd0a4c824f5f8843eb9703b91574",
            "_model_module": "@jupyter-widgets/controls",
            "children": [
              "IPY_MODEL_949bb9546f9d4151b1f4d0822071a8fc",
              "IPY_MODEL_c105a555531e4609893b6fa770f94191"
            ]
          }
        },
        "4d3cdd0a4c824f5f8843eb9703b91574": {
          "model_module": "@jupyter-widgets/base",
          "model_name": "LayoutModel",
          "state": {
            "_view_name": "LayoutView",
            "grid_template_rows": null,
            "right": null,
            "justify_content": null,
            "_view_module": "@jupyter-widgets/base",
            "overflow": null,
            "_model_module_version": "1.2.0",
            "_view_count": null,
            "flex_flow": null,
            "width": null,
            "min_width": null,
            "border": null,
            "align_items": null,
            "bottom": null,
            "_model_module": "@jupyter-widgets/base",
            "top": null,
            "grid_column": null,
            "overflow_y": null,
            "overflow_x": null,
            "grid_auto_flow": null,
            "grid_area": null,
            "grid_template_columns": null,
            "flex": null,
            "_model_name": "LayoutModel",
            "justify_items": null,
            "grid_row": null,
            "max_height": null,
            "align_content": null,
            "visibility": null,
            "align_self": null,
            "height": null,
            "min_height": null,
            "padding": null,
            "grid_auto_rows": null,
            "grid_gap": null,
            "max_width": null,
            "order": null,
            "_view_module_version": "1.2.0",
            "grid_template_areas": null,
            "object_position": null,
            "object_fit": null,
            "grid_auto_columns": null,
            "margin": null,
            "display": null,
            "left": null
          }
        },
        "949bb9546f9d4151b1f4d0822071a8fc": {
          "model_module": "@jupyter-widgets/controls",
          "model_name": "FloatProgressModel",
          "state": {
            "_view_name": "ProgressView",
            "style": "IPY_MODEL_c5a24f5b3f2f4a27a44a4223b619a240",
            "_dom_classes": [],
            "description": "100%",
            "_model_name": "FloatProgressModel",
            "bar_style": "",
            "max": 391,
            "_view_module": "@jupyter-widgets/controls",
            "_model_module_version": "1.5.0",
            "value": 391,
            "_view_count": null,
            "_view_module_version": "1.5.0",
            "orientation": "horizontal",
            "min": 0,
            "description_tooltip": null,
            "_model_module": "@jupyter-widgets/controls",
            "layout": "IPY_MODEL_1c2e38a1858244eb9e0b5320047372a8"
          }
        },
        "c105a555531e4609893b6fa770f94191": {
          "model_module": "@jupyter-widgets/controls",
          "model_name": "HTMLModel",
          "state": {
            "_view_name": "HTMLView",
            "style": "IPY_MODEL_6379a0065b394b158bd9e0d354e45a47",
            "_dom_classes": [],
            "description": "",
            "_model_name": "HTMLModel",
            "placeholder": "​",
            "_view_module": "@jupyter-widgets/controls",
            "_model_module_version": "1.5.0",
            "value": " 391/391 [00:00&lt;00:00, 414.85it/s]",
            "_view_count": null,
            "_view_module_version": "1.5.0",
            "description_tooltip": null,
            "_model_module": "@jupyter-widgets/controls",
            "layout": "IPY_MODEL_c3f0baf01a01463b96f00d97f5263935"
          }
        },
        "c5a24f5b3f2f4a27a44a4223b619a240": {
          "model_module": "@jupyter-widgets/controls",
          "model_name": "ProgressStyleModel",
          "state": {
            "_view_name": "StyleView",
            "_model_name": "ProgressStyleModel",
            "description_width": "initial",
            "_view_module": "@jupyter-widgets/base",
            "_model_module_version": "1.5.0",
            "_view_count": null,
            "_view_module_version": "1.2.0",
            "bar_color": null,
            "_model_module": "@jupyter-widgets/controls"
          }
        },
        "1c2e38a1858244eb9e0b5320047372a8": {
          "model_module": "@jupyter-widgets/base",
          "model_name": "LayoutModel",
          "state": {
            "_view_name": "LayoutView",
            "grid_template_rows": null,
            "right": null,
            "justify_content": null,
            "_view_module": "@jupyter-widgets/base",
            "overflow": null,
            "_model_module_version": "1.2.0",
            "_view_count": null,
            "flex_flow": null,
            "width": null,
            "min_width": null,
            "border": null,
            "align_items": null,
            "bottom": null,
            "_model_module": "@jupyter-widgets/base",
            "top": null,
            "grid_column": null,
            "overflow_y": null,
            "overflow_x": null,
            "grid_auto_flow": null,
            "grid_area": null,
            "grid_template_columns": null,
            "flex": null,
            "_model_name": "LayoutModel",
            "justify_items": null,
            "grid_row": null,
            "max_height": null,
            "align_content": null,
            "visibility": null,
            "align_self": null,
            "height": null,
            "min_height": null,
            "padding": null,
            "grid_auto_rows": null,
            "grid_gap": null,
            "max_width": null,
            "order": null,
            "_view_module_version": "1.2.0",
            "grid_template_areas": null,
            "object_position": null,
            "object_fit": null,
            "grid_auto_columns": null,
            "margin": null,
            "display": null,
            "left": null
          }
        },
        "6379a0065b394b158bd9e0d354e45a47": {
          "model_module": "@jupyter-widgets/controls",
          "model_name": "DescriptionStyleModel",
          "state": {
            "_view_name": "StyleView",
            "_model_name": "DescriptionStyleModel",
            "description_width": "",
            "_view_module": "@jupyter-widgets/base",
            "_model_module_version": "1.5.0",
            "_view_count": null,
            "_view_module_version": "1.2.0",
            "_model_module": "@jupyter-widgets/controls"
          }
        },
        "c3f0baf01a01463b96f00d97f5263935": {
          "model_module": "@jupyter-widgets/base",
          "model_name": "LayoutModel",
          "state": {
            "_view_name": "LayoutView",
            "grid_template_rows": null,
            "right": null,
            "justify_content": null,
            "_view_module": "@jupyter-widgets/base",
            "overflow": null,
            "_model_module_version": "1.2.0",
            "_view_count": null,
            "flex_flow": null,
            "width": null,
            "min_width": null,
            "border": null,
            "align_items": null,
            "bottom": null,
            "_model_module": "@jupyter-widgets/base",
            "top": null,
            "grid_column": null,
            "overflow_y": null,
            "overflow_x": null,
            "grid_auto_flow": null,
            "grid_area": null,
            "grid_template_columns": null,
            "flex": null,
            "_model_name": "LayoutModel",
            "justify_items": null,
            "grid_row": null,
            "max_height": null,
            "align_content": null,
            "visibility": null,
            "align_self": null,
            "height": null,
            "min_height": null,
            "padding": null,
            "grid_auto_rows": null,
            "grid_gap": null,
            "max_width": null,
            "order": null,
            "_view_module_version": "1.2.0",
            "grid_template_areas": null,
            "object_position": null,
            "object_fit": null,
            "grid_auto_columns": null,
            "margin": null,
            "display": null,
            "left": null
          }
        },
        "40ad81d4361c486cad88b198b5bf9c40": {
          "model_module": "@jupyter-widgets/controls",
          "model_name": "HBoxModel",
          "state": {
            "_view_name": "HBoxView",
            "_dom_classes": [],
            "_model_name": "HBoxModel",
            "_view_module": "@jupyter-widgets/controls",
            "_model_module_version": "1.5.0",
            "_view_count": null,
            "_view_module_version": "1.5.0",
            "box_style": "",
            "layout": "IPY_MODEL_60307fd3f72542f2b708d79465627858",
            "_model_module": "@jupyter-widgets/controls",
            "children": [
              "IPY_MODEL_00307e0e0b1d4b5f85a04de6b100c03b",
              "IPY_MODEL_3f14d597462240a1b938d6c5f9f9761a"
            ]
          }
        },
        "60307fd3f72542f2b708d79465627858": {
          "model_module": "@jupyter-widgets/base",
          "model_name": "LayoutModel",
          "state": {
            "_view_name": "LayoutView",
            "grid_template_rows": null,
            "right": null,
            "justify_content": null,
            "_view_module": "@jupyter-widgets/base",
            "overflow": null,
            "_model_module_version": "1.2.0",
            "_view_count": null,
            "flex_flow": null,
            "width": null,
            "min_width": null,
            "border": null,
            "align_items": null,
            "bottom": null,
            "_model_module": "@jupyter-widgets/base",
            "top": null,
            "grid_column": null,
            "overflow_y": null,
            "overflow_x": null,
            "grid_auto_flow": null,
            "grid_area": null,
            "grid_template_columns": null,
            "flex": null,
            "_model_name": "LayoutModel",
            "justify_items": null,
            "grid_row": null,
            "max_height": null,
            "align_content": null,
            "visibility": null,
            "align_self": null,
            "height": null,
            "min_height": null,
            "padding": null,
            "grid_auto_rows": null,
            "grid_gap": null,
            "max_width": null,
            "order": null,
            "_view_module_version": "1.2.0",
            "grid_template_areas": null,
            "object_position": null,
            "object_fit": null,
            "grid_auto_columns": null,
            "margin": null,
            "display": null,
            "left": null
          }
        },
        "00307e0e0b1d4b5f85a04de6b100c03b": {
          "model_module": "@jupyter-widgets/controls",
          "model_name": "FloatProgressModel",
          "state": {
            "_view_name": "ProgressView",
            "style": "IPY_MODEL_159473600060448eb5031c2d9443330a",
            "_dom_classes": [],
            "description": "Epoch 1: 100%",
            "_model_name": "FloatProgressModel",
            "bar_style": "",
            "max": 1563,
            "_view_module": "@jupyter-widgets/controls",
            "_model_module_version": "1.5.0",
            "value": 1563,
            "_view_count": null,
            "_view_module_version": "1.5.0",
            "orientation": "horizontal",
            "min": 0,
            "description_tooltip": null,
            "_model_module": "@jupyter-widgets/controls",
            "layout": "IPY_MODEL_1055396019184fba9746a3d3550a4c67"
          }
        },
        "3f14d597462240a1b938d6c5f9f9761a": {
          "model_module": "@jupyter-widgets/controls",
          "model_name": "HTMLModel",
          "state": {
            "_view_name": "HTMLView",
            "style": "IPY_MODEL_f1617a98f8d8447e86f64dca71bce9a6",
            "_dom_classes": [],
            "description": "",
            "_model_name": "HTMLModel",
            "placeholder": "​",
            "_view_module": "@jupyter-widgets/controls",
            "_model_module_version": "1.5.0",
            "value": " 1563/1563 [00:13&lt;00:00, 120.23it/s, loss=0.337]",
            "_view_count": null,
            "_view_module_version": "1.5.0",
            "description_tooltip": null,
            "_model_module": "@jupyter-widgets/controls",
            "layout": "IPY_MODEL_78e06e9ea7d7402d8bfd13ca949bdbb1"
          }
        },
        "159473600060448eb5031c2d9443330a": {
          "model_module": "@jupyter-widgets/controls",
          "model_name": "ProgressStyleModel",
          "state": {
            "_view_name": "StyleView",
            "_model_name": "ProgressStyleModel",
            "description_width": "initial",
            "_view_module": "@jupyter-widgets/base",
            "_model_module_version": "1.5.0",
            "_view_count": null,
            "_view_module_version": "1.2.0",
            "bar_color": null,
            "_model_module": "@jupyter-widgets/controls"
          }
        },
        "1055396019184fba9746a3d3550a4c67": {
          "model_module": "@jupyter-widgets/base",
          "model_name": "LayoutModel",
          "state": {
            "_view_name": "LayoutView",
            "grid_template_rows": null,
            "right": null,
            "justify_content": null,
            "_view_module": "@jupyter-widgets/base",
            "overflow": null,
            "_model_module_version": "1.2.0",
            "_view_count": null,
            "flex_flow": null,
            "width": null,
            "min_width": null,
            "border": null,
            "align_items": null,
            "bottom": null,
            "_model_module": "@jupyter-widgets/base",
            "top": null,
            "grid_column": null,
            "overflow_y": null,
            "overflow_x": null,
            "grid_auto_flow": null,
            "grid_area": null,
            "grid_template_columns": null,
            "flex": null,
            "_model_name": "LayoutModel",
            "justify_items": null,
            "grid_row": null,
            "max_height": null,
            "align_content": null,
            "visibility": null,
            "align_self": null,
            "height": null,
            "min_height": null,
            "padding": null,
            "grid_auto_rows": null,
            "grid_gap": null,
            "max_width": null,
            "order": null,
            "_view_module_version": "1.2.0",
            "grid_template_areas": null,
            "object_position": null,
            "object_fit": null,
            "grid_auto_columns": null,
            "margin": null,
            "display": null,
            "left": null
          }
        },
        "f1617a98f8d8447e86f64dca71bce9a6": {
          "model_module": "@jupyter-widgets/controls",
          "model_name": "DescriptionStyleModel",
          "state": {
            "_view_name": "StyleView",
            "_model_name": "DescriptionStyleModel",
            "description_width": "",
            "_view_module": "@jupyter-widgets/base",
            "_model_module_version": "1.5.0",
            "_view_count": null,
            "_view_module_version": "1.2.0",
            "_model_module": "@jupyter-widgets/controls"
          }
        },
        "78e06e9ea7d7402d8bfd13ca949bdbb1": {
          "model_module": "@jupyter-widgets/base",
          "model_name": "LayoutModel",
          "state": {
            "_view_name": "LayoutView",
            "grid_template_rows": null,
            "right": null,
            "justify_content": null,
            "_view_module": "@jupyter-widgets/base",
            "overflow": null,
            "_model_module_version": "1.2.0",
            "_view_count": null,
            "flex_flow": null,
            "width": null,
            "min_width": null,
            "border": null,
            "align_items": null,
            "bottom": null,
            "_model_module": "@jupyter-widgets/base",
            "top": null,
            "grid_column": null,
            "overflow_y": null,
            "overflow_x": null,
            "grid_auto_flow": null,
            "grid_area": null,
            "grid_template_columns": null,
            "flex": null,
            "_model_name": "LayoutModel",
            "justify_items": null,
            "grid_row": null,
            "max_height": null,
            "align_content": null,
            "visibility": null,
            "align_self": null,
            "height": null,
            "min_height": null,
            "padding": null,
            "grid_auto_rows": null,
            "grid_gap": null,
            "max_width": null,
            "order": null,
            "_view_module_version": "1.2.0",
            "grid_template_areas": null,
            "object_position": null,
            "object_fit": null,
            "grid_auto_columns": null,
            "margin": null,
            "display": null,
            "left": null
          }
        },
        "37a8d84d8e0649e7a90e58c278cb1078": {
          "model_module": "@jupyter-widgets/controls",
          "model_name": "HBoxModel",
          "state": {
            "_view_name": "HBoxView",
            "_dom_classes": [],
            "_model_name": "HBoxModel",
            "_view_module": "@jupyter-widgets/controls",
            "_model_module_version": "1.5.0",
            "_view_count": null,
            "_view_module_version": "1.5.0",
            "box_style": "",
            "layout": "IPY_MODEL_339432f5743142b69a2a420a8310c94a",
            "_model_module": "@jupyter-widgets/controls",
            "children": [
              "IPY_MODEL_c639911e60ec4fc18e5c566dbe294070",
              "IPY_MODEL_69350e90a3244046adcdcdea4c63a950"
            ]
          }
        },
        "339432f5743142b69a2a420a8310c94a": {
          "model_module": "@jupyter-widgets/base",
          "model_name": "LayoutModel",
          "state": {
            "_view_name": "LayoutView",
            "grid_template_rows": null,
            "right": null,
            "justify_content": null,
            "_view_module": "@jupyter-widgets/base",
            "overflow": null,
            "_model_module_version": "1.2.0",
            "_view_count": null,
            "flex_flow": null,
            "width": null,
            "min_width": null,
            "border": null,
            "align_items": null,
            "bottom": null,
            "_model_module": "@jupyter-widgets/base",
            "top": null,
            "grid_column": null,
            "overflow_y": null,
            "overflow_x": null,
            "grid_auto_flow": null,
            "grid_area": null,
            "grid_template_columns": null,
            "flex": null,
            "_model_name": "LayoutModel",
            "justify_items": null,
            "grid_row": null,
            "max_height": null,
            "align_content": null,
            "visibility": null,
            "align_self": null,
            "height": null,
            "min_height": null,
            "padding": null,
            "grid_auto_rows": null,
            "grid_gap": null,
            "max_width": null,
            "order": null,
            "_view_module_version": "1.2.0",
            "grid_template_areas": null,
            "object_position": null,
            "object_fit": null,
            "grid_auto_columns": null,
            "margin": null,
            "display": null,
            "left": null
          }
        },
        "c639911e60ec4fc18e5c566dbe294070": {
          "model_module": "@jupyter-widgets/controls",
          "model_name": "FloatProgressModel",
          "state": {
            "_view_name": "ProgressView",
            "style": "IPY_MODEL_faa38e8fe4b943628b5e7b05ed595afb",
            "_dom_classes": [],
            "description": "100%",
            "_model_name": "FloatProgressModel",
            "bar_style": "",
            "max": 391,
            "_view_module": "@jupyter-widgets/controls",
            "_model_module_version": "1.5.0",
            "value": 391,
            "_view_count": null,
            "_view_module_version": "1.5.0",
            "orientation": "horizontal",
            "min": 0,
            "description_tooltip": null,
            "_model_module": "@jupyter-widgets/controls",
            "layout": "IPY_MODEL_7ea0faa7ad8e4ebb9f063d227ad67c4a"
          }
        },
        "69350e90a3244046adcdcdea4c63a950": {
          "model_module": "@jupyter-widgets/controls",
          "model_name": "HTMLModel",
          "state": {
            "_view_name": "HTMLView",
            "style": "IPY_MODEL_6ee2240883cf4d49820e23ae6e3ff69c",
            "_dom_classes": [],
            "description": "",
            "_model_name": "HTMLModel",
            "placeholder": "​",
            "_view_module": "@jupyter-widgets/controls",
            "_model_module_version": "1.5.0",
            "value": " 391/391 [00:00&lt;00:00, 418.12it/s]",
            "_view_count": null,
            "_view_module_version": "1.5.0",
            "description_tooltip": null,
            "_model_module": "@jupyter-widgets/controls",
            "layout": "IPY_MODEL_a5f24ab6b2464d93ad6555e9d2fb27b1"
          }
        },
        "faa38e8fe4b943628b5e7b05ed595afb": {
          "model_module": "@jupyter-widgets/controls",
          "model_name": "ProgressStyleModel",
          "state": {
            "_view_name": "StyleView",
            "_model_name": "ProgressStyleModel",
            "description_width": "initial",
            "_view_module": "@jupyter-widgets/base",
            "_model_module_version": "1.5.0",
            "_view_count": null,
            "_view_module_version": "1.2.0",
            "bar_color": null,
            "_model_module": "@jupyter-widgets/controls"
          }
        },
        "7ea0faa7ad8e4ebb9f063d227ad67c4a": {
          "model_module": "@jupyter-widgets/base",
          "model_name": "LayoutModel",
          "state": {
            "_view_name": "LayoutView",
            "grid_template_rows": null,
            "right": null,
            "justify_content": null,
            "_view_module": "@jupyter-widgets/base",
            "overflow": null,
            "_model_module_version": "1.2.0",
            "_view_count": null,
            "flex_flow": null,
            "width": null,
            "min_width": null,
            "border": null,
            "align_items": null,
            "bottom": null,
            "_model_module": "@jupyter-widgets/base",
            "top": null,
            "grid_column": null,
            "overflow_y": null,
            "overflow_x": null,
            "grid_auto_flow": null,
            "grid_area": null,
            "grid_template_columns": null,
            "flex": null,
            "_model_name": "LayoutModel",
            "justify_items": null,
            "grid_row": null,
            "max_height": null,
            "align_content": null,
            "visibility": null,
            "align_self": null,
            "height": null,
            "min_height": null,
            "padding": null,
            "grid_auto_rows": null,
            "grid_gap": null,
            "max_width": null,
            "order": null,
            "_view_module_version": "1.2.0",
            "grid_template_areas": null,
            "object_position": null,
            "object_fit": null,
            "grid_auto_columns": null,
            "margin": null,
            "display": null,
            "left": null
          }
        },
        "6ee2240883cf4d49820e23ae6e3ff69c": {
          "model_module": "@jupyter-widgets/controls",
          "model_name": "DescriptionStyleModel",
          "state": {
            "_view_name": "StyleView",
            "_model_name": "DescriptionStyleModel",
            "description_width": "",
            "_view_module": "@jupyter-widgets/base",
            "_model_module_version": "1.5.0",
            "_view_count": null,
            "_view_module_version": "1.2.0",
            "_model_module": "@jupyter-widgets/controls"
          }
        },
        "a5f24ab6b2464d93ad6555e9d2fb27b1": {
          "model_module": "@jupyter-widgets/base",
          "model_name": "LayoutModel",
          "state": {
            "_view_name": "LayoutView",
            "grid_template_rows": null,
            "right": null,
            "justify_content": null,
            "_view_module": "@jupyter-widgets/base",
            "overflow": null,
            "_model_module_version": "1.2.0",
            "_view_count": null,
            "flex_flow": null,
            "width": null,
            "min_width": null,
            "border": null,
            "align_items": null,
            "bottom": null,
            "_model_module": "@jupyter-widgets/base",
            "top": null,
            "grid_column": null,
            "overflow_y": null,
            "overflow_x": null,
            "grid_auto_flow": null,
            "grid_area": null,
            "grid_template_columns": null,
            "flex": null,
            "_model_name": "LayoutModel",
            "justify_items": null,
            "grid_row": null,
            "max_height": null,
            "align_content": null,
            "visibility": null,
            "align_self": null,
            "height": null,
            "min_height": null,
            "padding": null,
            "grid_auto_rows": null,
            "grid_gap": null,
            "max_width": null,
            "order": null,
            "_view_module_version": "1.2.0",
            "grid_template_areas": null,
            "object_position": null,
            "object_fit": null,
            "grid_auto_columns": null,
            "margin": null,
            "display": null,
            "left": null
          }
        },
        "c57abb4a503349b7a80eed78dbedb74d": {
          "model_module": "@jupyter-widgets/controls",
          "model_name": "HBoxModel",
          "state": {
            "_view_name": "HBoxView",
            "_dom_classes": [],
            "_model_name": "HBoxModel",
            "_view_module": "@jupyter-widgets/controls",
            "_model_module_version": "1.5.0",
            "_view_count": null,
            "_view_module_version": "1.5.0",
            "box_style": "",
            "layout": "IPY_MODEL_25f4fad5ceef43caad7c99d4001f84fe",
            "_model_module": "@jupyter-widgets/controls",
            "children": [
              "IPY_MODEL_690529d62d73492b9e1f5522644c9bdb",
              "IPY_MODEL_26e08f580a4f47588bbb890a2d3c3ccf"
            ]
          }
        },
        "25f4fad5ceef43caad7c99d4001f84fe": {
          "model_module": "@jupyter-widgets/base",
          "model_name": "LayoutModel",
          "state": {
            "_view_name": "LayoutView",
            "grid_template_rows": null,
            "right": null,
            "justify_content": null,
            "_view_module": "@jupyter-widgets/base",
            "overflow": null,
            "_model_module_version": "1.2.0",
            "_view_count": null,
            "flex_flow": null,
            "width": null,
            "min_width": null,
            "border": null,
            "align_items": null,
            "bottom": null,
            "_model_module": "@jupyter-widgets/base",
            "top": null,
            "grid_column": null,
            "overflow_y": null,
            "overflow_x": null,
            "grid_auto_flow": null,
            "grid_area": null,
            "grid_template_columns": null,
            "flex": null,
            "_model_name": "LayoutModel",
            "justify_items": null,
            "grid_row": null,
            "max_height": null,
            "align_content": null,
            "visibility": null,
            "align_self": null,
            "height": null,
            "min_height": null,
            "padding": null,
            "grid_auto_rows": null,
            "grid_gap": null,
            "max_width": null,
            "order": null,
            "_view_module_version": "1.2.0",
            "grid_template_areas": null,
            "object_position": null,
            "object_fit": null,
            "grid_auto_columns": null,
            "margin": null,
            "display": null,
            "left": null
          }
        },
        "690529d62d73492b9e1f5522644c9bdb": {
          "model_module": "@jupyter-widgets/controls",
          "model_name": "FloatProgressModel",
          "state": {
            "_view_name": "ProgressView",
            "style": "IPY_MODEL_db119974927d497dacecd948e6004795",
            "_dom_classes": [],
            "description": "Epoch 2: 100%",
            "_model_name": "FloatProgressModel",
            "bar_style": "",
            "max": 1563,
            "_view_module": "@jupyter-widgets/controls",
            "_model_module_version": "1.5.0",
            "value": 1563,
            "_view_count": null,
            "_view_module_version": "1.5.0",
            "orientation": "horizontal",
            "min": 0,
            "description_tooltip": null,
            "_model_module": "@jupyter-widgets/controls",
            "layout": "IPY_MODEL_0b13f5b5fd384155bb6e0e0ab2e65085"
          }
        },
        "26e08f580a4f47588bbb890a2d3c3ccf": {
          "model_module": "@jupyter-widgets/controls",
          "model_name": "HTMLModel",
          "state": {
            "_view_name": "HTMLView",
            "style": "IPY_MODEL_b15f9ba3fb174b68b45cc50089ac3436",
            "_dom_classes": [],
            "description": "",
            "_model_name": "HTMLModel",
            "placeholder": "​",
            "_view_module": "@jupyter-widgets/controls",
            "_model_module_version": "1.5.0",
            "value": " 1563/1563 [00:12&lt;00:00, 122.30it/s, loss=0.25]",
            "_view_count": null,
            "_view_module_version": "1.5.0",
            "description_tooltip": null,
            "_model_module": "@jupyter-widgets/controls",
            "layout": "IPY_MODEL_40f153d6d79042ef8863a23e166bad1b"
          }
        },
        "db119974927d497dacecd948e6004795": {
          "model_module": "@jupyter-widgets/controls",
          "model_name": "ProgressStyleModel",
          "state": {
            "_view_name": "StyleView",
            "_model_name": "ProgressStyleModel",
            "description_width": "initial",
            "_view_module": "@jupyter-widgets/base",
            "_model_module_version": "1.5.0",
            "_view_count": null,
            "_view_module_version": "1.2.0",
            "bar_color": null,
            "_model_module": "@jupyter-widgets/controls"
          }
        },
        "0b13f5b5fd384155bb6e0e0ab2e65085": {
          "model_module": "@jupyter-widgets/base",
          "model_name": "LayoutModel",
          "state": {
            "_view_name": "LayoutView",
            "grid_template_rows": null,
            "right": null,
            "justify_content": null,
            "_view_module": "@jupyter-widgets/base",
            "overflow": null,
            "_model_module_version": "1.2.0",
            "_view_count": null,
            "flex_flow": null,
            "width": null,
            "min_width": null,
            "border": null,
            "align_items": null,
            "bottom": null,
            "_model_module": "@jupyter-widgets/base",
            "top": null,
            "grid_column": null,
            "overflow_y": null,
            "overflow_x": null,
            "grid_auto_flow": null,
            "grid_area": null,
            "grid_template_columns": null,
            "flex": null,
            "_model_name": "LayoutModel",
            "justify_items": null,
            "grid_row": null,
            "max_height": null,
            "align_content": null,
            "visibility": null,
            "align_self": null,
            "height": null,
            "min_height": null,
            "padding": null,
            "grid_auto_rows": null,
            "grid_gap": null,
            "max_width": null,
            "order": null,
            "_view_module_version": "1.2.0",
            "grid_template_areas": null,
            "object_position": null,
            "object_fit": null,
            "grid_auto_columns": null,
            "margin": null,
            "display": null,
            "left": null
          }
        },
        "b15f9ba3fb174b68b45cc50089ac3436": {
          "model_module": "@jupyter-widgets/controls",
          "model_name": "DescriptionStyleModel",
          "state": {
            "_view_name": "StyleView",
            "_model_name": "DescriptionStyleModel",
            "description_width": "",
            "_view_module": "@jupyter-widgets/base",
            "_model_module_version": "1.5.0",
            "_view_count": null,
            "_view_module_version": "1.2.0",
            "_model_module": "@jupyter-widgets/controls"
          }
        },
        "40f153d6d79042ef8863a23e166bad1b": {
          "model_module": "@jupyter-widgets/base",
          "model_name": "LayoutModel",
          "state": {
            "_view_name": "LayoutView",
            "grid_template_rows": null,
            "right": null,
            "justify_content": null,
            "_view_module": "@jupyter-widgets/base",
            "overflow": null,
            "_model_module_version": "1.2.0",
            "_view_count": null,
            "flex_flow": null,
            "width": null,
            "min_width": null,
            "border": null,
            "align_items": null,
            "bottom": null,
            "_model_module": "@jupyter-widgets/base",
            "top": null,
            "grid_column": null,
            "overflow_y": null,
            "overflow_x": null,
            "grid_auto_flow": null,
            "grid_area": null,
            "grid_template_columns": null,
            "flex": null,
            "_model_name": "LayoutModel",
            "justify_items": null,
            "grid_row": null,
            "max_height": null,
            "align_content": null,
            "visibility": null,
            "align_self": null,
            "height": null,
            "min_height": null,
            "padding": null,
            "grid_auto_rows": null,
            "grid_gap": null,
            "max_width": null,
            "order": null,
            "_view_module_version": "1.2.0",
            "grid_template_areas": null,
            "object_position": null,
            "object_fit": null,
            "grid_auto_columns": null,
            "margin": null,
            "display": null,
            "left": null
          }
        },
        "9cb5eeb0a2e442709f25760327b2e064": {
          "model_module": "@jupyter-widgets/controls",
          "model_name": "HBoxModel",
          "state": {
            "_view_name": "HBoxView",
            "_dom_classes": [],
            "_model_name": "HBoxModel",
            "_view_module": "@jupyter-widgets/controls",
            "_model_module_version": "1.5.0",
            "_view_count": null,
            "_view_module_version": "1.5.0",
            "box_style": "",
            "layout": "IPY_MODEL_469e93586b0b4264b0701d7f0dbd98dd",
            "_model_module": "@jupyter-widgets/controls",
            "children": [
              "IPY_MODEL_de68c92013974c8c9c2cc25bd1c7ca7c",
              "IPY_MODEL_af871f63b1e94720b13a7e1990ae74ad"
            ]
          }
        },
        "469e93586b0b4264b0701d7f0dbd98dd": {
          "model_module": "@jupyter-widgets/base",
          "model_name": "LayoutModel",
          "state": {
            "_view_name": "LayoutView",
            "grid_template_rows": null,
            "right": null,
            "justify_content": null,
            "_view_module": "@jupyter-widgets/base",
            "overflow": null,
            "_model_module_version": "1.2.0",
            "_view_count": null,
            "flex_flow": null,
            "width": null,
            "min_width": null,
            "border": null,
            "align_items": null,
            "bottom": null,
            "_model_module": "@jupyter-widgets/base",
            "top": null,
            "grid_column": null,
            "overflow_y": null,
            "overflow_x": null,
            "grid_auto_flow": null,
            "grid_area": null,
            "grid_template_columns": null,
            "flex": null,
            "_model_name": "LayoutModel",
            "justify_items": null,
            "grid_row": null,
            "max_height": null,
            "align_content": null,
            "visibility": null,
            "align_self": null,
            "height": null,
            "min_height": null,
            "padding": null,
            "grid_auto_rows": null,
            "grid_gap": null,
            "max_width": null,
            "order": null,
            "_view_module_version": "1.2.0",
            "grid_template_areas": null,
            "object_position": null,
            "object_fit": null,
            "grid_auto_columns": null,
            "margin": null,
            "display": null,
            "left": null
          }
        },
        "de68c92013974c8c9c2cc25bd1c7ca7c": {
          "model_module": "@jupyter-widgets/controls",
          "model_name": "FloatProgressModel",
          "state": {
            "_view_name": "ProgressView",
            "style": "IPY_MODEL_06bc07d76b184ae1a070030c57e2f754",
            "_dom_classes": [],
            "description": "100%",
            "_model_name": "FloatProgressModel",
            "bar_style": "",
            "max": 391,
            "_view_module": "@jupyter-widgets/controls",
            "_model_module_version": "1.5.0",
            "value": 391,
            "_view_count": null,
            "_view_module_version": "1.5.0",
            "orientation": "horizontal",
            "min": 0,
            "description_tooltip": null,
            "_model_module": "@jupyter-widgets/controls",
            "layout": "IPY_MODEL_6aea451db0fa4eb487ecc8537e69d338"
          }
        },
        "af871f63b1e94720b13a7e1990ae74ad": {
          "model_module": "@jupyter-widgets/controls",
          "model_name": "HTMLModel",
          "state": {
            "_view_name": "HTMLView",
            "style": "IPY_MODEL_4aa0ac7a0698477fbad2a2c73a0c4635",
            "_dom_classes": [],
            "description": "",
            "_model_name": "HTMLModel",
            "placeholder": "​",
            "_view_module": "@jupyter-widgets/controls",
            "_model_module_version": "1.5.0",
            "value": " 391/391 [00:00&lt;00:00, 414.77it/s]",
            "_view_count": null,
            "_view_module_version": "1.5.0",
            "description_tooltip": null,
            "_model_module": "@jupyter-widgets/controls",
            "layout": "IPY_MODEL_25d01a3ffe994f64a163880be017a9ac"
          }
        },
        "06bc07d76b184ae1a070030c57e2f754": {
          "model_module": "@jupyter-widgets/controls",
          "model_name": "ProgressStyleModel",
          "state": {
            "_view_name": "StyleView",
            "_model_name": "ProgressStyleModel",
            "description_width": "initial",
            "_view_module": "@jupyter-widgets/base",
            "_model_module_version": "1.5.0",
            "_view_count": null,
            "_view_module_version": "1.2.0",
            "bar_color": null,
            "_model_module": "@jupyter-widgets/controls"
          }
        },
        "6aea451db0fa4eb487ecc8537e69d338": {
          "model_module": "@jupyter-widgets/base",
          "model_name": "LayoutModel",
          "state": {
            "_view_name": "LayoutView",
            "grid_template_rows": null,
            "right": null,
            "justify_content": null,
            "_view_module": "@jupyter-widgets/base",
            "overflow": null,
            "_model_module_version": "1.2.0",
            "_view_count": null,
            "flex_flow": null,
            "width": null,
            "min_width": null,
            "border": null,
            "align_items": null,
            "bottom": null,
            "_model_module": "@jupyter-widgets/base",
            "top": null,
            "grid_column": null,
            "overflow_y": null,
            "overflow_x": null,
            "grid_auto_flow": null,
            "grid_area": null,
            "grid_template_columns": null,
            "flex": null,
            "_model_name": "LayoutModel",
            "justify_items": null,
            "grid_row": null,
            "max_height": null,
            "align_content": null,
            "visibility": null,
            "align_self": null,
            "height": null,
            "min_height": null,
            "padding": null,
            "grid_auto_rows": null,
            "grid_gap": null,
            "max_width": null,
            "order": null,
            "_view_module_version": "1.2.0",
            "grid_template_areas": null,
            "object_position": null,
            "object_fit": null,
            "grid_auto_columns": null,
            "margin": null,
            "display": null,
            "left": null
          }
        },
        "4aa0ac7a0698477fbad2a2c73a0c4635": {
          "model_module": "@jupyter-widgets/controls",
          "model_name": "DescriptionStyleModel",
          "state": {
            "_view_name": "StyleView",
            "_model_name": "DescriptionStyleModel",
            "description_width": "",
            "_view_module": "@jupyter-widgets/base",
            "_model_module_version": "1.5.0",
            "_view_count": null,
            "_view_module_version": "1.2.0",
            "_model_module": "@jupyter-widgets/controls"
          }
        },
        "25d01a3ffe994f64a163880be017a9ac": {
          "model_module": "@jupyter-widgets/base",
          "model_name": "LayoutModel",
          "state": {
            "_view_name": "LayoutView",
            "grid_template_rows": null,
            "right": null,
            "justify_content": null,
            "_view_module": "@jupyter-widgets/base",
            "overflow": null,
            "_model_module_version": "1.2.0",
            "_view_count": null,
            "flex_flow": null,
            "width": null,
            "min_width": null,
            "border": null,
            "align_items": null,
            "bottom": null,
            "_model_module": "@jupyter-widgets/base",
            "top": null,
            "grid_column": null,
            "overflow_y": null,
            "overflow_x": null,
            "grid_auto_flow": null,
            "grid_area": null,
            "grid_template_columns": null,
            "flex": null,
            "_model_name": "LayoutModel",
            "justify_items": null,
            "grid_row": null,
            "max_height": null,
            "align_content": null,
            "visibility": null,
            "align_self": null,
            "height": null,
            "min_height": null,
            "padding": null,
            "grid_auto_rows": null,
            "grid_gap": null,
            "max_width": null,
            "order": null,
            "_view_module_version": "1.2.0",
            "grid_template_areas": null,
            "object_position": null,
            "object_fit": null,
            "grid_auto_columns": null,
            "margin": null,
            "display": null,
            "left": null
          }
        },
        "aea1f74909ad46359e6241f3dcc54580": {
          "model_module": "@jupyter-widgets/controls",
          "model_name": "HBoxModel",
          "state": {
            "_view_name": "HBoxView",
            "_dom_classes": [],
            "_model_name": "HBoxModel",
            "_view_module": "@jupyter-widgets/controls",
            "_model_module_version": "1.5.0",
            "_view_count": null,
            "_view_module_version": "1.5.0",
            "box_style": "",
            "layout": "IPY_MODEL_776f594420a841cfabcd409ffc74b73e",
            "_model_module": "@jupyter-widgets/controls",
            "children": [
              "IPY_MODEL_0e4af8cc08554058927be9f5f6239420",
              "IPY_MODEL_a6e28638565d449fb8f9ab4d23448120"
            ]
          }
        },
        "776f594420a841cfabcd409ffc74b73e": {
          "model_module": "@jupyter-widgets/base",
          "model_name": "LayoutModel",
          "state": {
            "_view_name": "LayoutView",
            "grid_template_rows": null,
            "right": null,
            "justify_content": null,
            "_view_module": "@jupyter-widgets/base",
            "overflow": null,
            "_model_module_version": "1.2.0",
            "_view_count": null,
            "flex_flow": null,
            "width": null,
            "min_width": null,
            "border": null,
            "align_items": null,
            "bottom": null,
            "_model_module": "@jupyter-widgets/base",
            "top": null,
            "grid_column": null,
            "overflow_y": null,
            "overflow_x": null,
            "grid_auto_flow": null,
            "grid_area": null,
            "grid_template_columns": null,
            "flex": null,
            "_model_name": "LayoutModel",
            "justify_items": null,
            "grid_row": null,
            "max_height": null,
            "align_content": null,
            "visibility": null,
            "align_self": null,
            "height": null,
            "min_height": null,
            "padding": null,
            "grid_auto_rows": null,
            "grid_gap": null,
            "max_width": null,
            "order": null,
            "_view_module_version": "1.2.0",
            "grid_template_areas": null,
            "object_position": null,
            "object_fit": null,
            "grid_auto_columns": null,
            "margin": null,
            "display": null,
            "left": null
          }
        },
        "0e4af8cc08554058927be9f5f6239420": {
          "model_module": "@jupyter-widgets/controls",
          "model_name": "FloatProgressModel",
          "state": {
            "_view_name": "ProgressView",
            "style": "IPY_MODEL_0f85eb397b264ae6997790d11b0a349e",
            "_dom_classes": [],
            "description": "Epoch 3: 100%",
            "_model_name": "FloatProgressModel",
            "bar_style": "",
            "max": 1563,
            "_view_module": "@jupyter-widgets/controls",
            "_model_module_version": "1.5.0",
            "value": 1563,
            "_view_count": null,
            "_view_module_version": "1.5.0",
            "orientation": "horizontal",
            "min": 0,
            "description_tooltip": null,
            "_model_module": "@jupyter-widgets/controls",
            "layout": "IPY_MODEL_0baa9bb4a5574908a8a06c7a92a02cd0"
          }
        },
        "a6e28638565d449fb8f9ab4d23448120": {
          "model_module": "@jupyter-widgets/controls",
          "model_name": "HTMLModel",
          "state": {
            "_view_name": "HTMLView",
            "style": "IPY_MODEL_f568c373911246d3a0d0feb02d210d98",
            "_dom_classes": [],
            "description": "",
            "_model_name": "HTMLModel",
            "placeholder": "​",
            "_view_module": "@jupyter-widgets/controls",
            "_model_module_version": "1.5.0",
            "value": " 1563/1563 [00:13&lt;00:00, 121.38it/s, loss=0.262]",
            "_view_count": null,
            "_view_module_version": "1.5.0",
            "description_tooltip": null,
            "_model_module": "@jupyter-widgets/controls",
            "layout": "IPY_MODEL_f44e62ae322440eaa8c1cabe5e9772d0"
          }
        },
        "0f85eb397b264ae6997790d11b0a349e": {
          "model_module": "@jupyter-widgets/controls",
          "model_name": "ProgressStyleModel",
          "state": {
            "_view_name": "StyleView",
            "_model_name": "ProgressStyleModel",
            "description_width": "initial",
            "_view_module": "@jupyter-widgets/base",
            "_model_module_version": "1.5.0",
            "_view_count": null,
            "_view_module_version": "1.2.0",
            "bar_color": null,
            "_model_module": "@jupyter-widgets/controls"
          }
        },
        "0baa9bb4a5574908a8a06c7a92a02cd0": {
          "model_module": "@jupyter-widgets/base",
          "model_name": "LayoutModel",
          "state": {
            "_view_name": "LayoutView",
            "grid_template_rows": null,
            "right": null,
            "justify_content": null,
            "_view_module": "@jupyter-widgets/base",
            "overflow": null,
            "_model_module_version": "1.2.0",
            "_view_count": null,
            "flex_flow": null,
            "width": null,
            "min_width": null,
            "border": null,
            "align_items": null,
            "bottom": null,
            "_model_module": "@jupyter-widgets/base",
            "top": null,
            "grid_column": null,
            "overflow_y": null,
            "overflow_x": null,
            "grid_auto_flow": null,
            "grid_area": null,
            "grid_template_columns": null,
            "flex": null,
            "_model_name": "LayoutModel",
            "justify_items": null,
            "grid_row": null,
            "max_height": null,
            "align_content": null,
            "visibility": null,
            "align_self": null,
            "height": null,
            "min_height": null,
            "padding": null,
            "grid_auto_rows": null,
            "grid_gap": null,
            "max_width": null,
            "order": null,
            "_view_module_version": "1.2.0",
            "grid_template_areas": null,
            "object_position": null,
            "object_fit": null,
            "grid_auto_columns": null,
            "margin": null,
            "display": null,
            "left": null
          }
        },
        "f568c373911246d3a0d0feb02d210d98": {
          "model_module": "@jupyter-widgets/controls",
          "model_name": "DescriptionStyleModel",
          "state": {
            "_view_name": "StyleView",
            "_model_name": "DescriptionStyleModel",
            "description_width": "",
            "_view_module": "@jupyter-widgets/base",
            "_model_module_version": "1.5.0",
            "_view_count": null,
            "_view_module_version": "1.2.0",
            "_model_module": "@jupyter-widgets/controls"
          }
        },
        "f44e62ae322440eaa8c1cabe5e9772d0": {
          "model_module": "@jupyter-widgets/base",
          "model_name": "LayoutModel",
          "state": {
            "_view_name": "LayoutView",
            "grid_template_rows": null,
            "right": null,
            "justify_content": null,
            "_view_module": "@jupyter-widgets/base",
            "overflow": null,
            "_model_module_version": "1.2.0",
            "_view_count": null,
            "flex_flow": null,
            "width": null,
            "min_width": null,
            "border": null,
            "align_items": null,
            "bottom": null,
            "_model_module": "@jupyter-widgets/base",
            "top": null,
            "grid_column": null,
            "overflow_y": null,
            "overflow_x": null,
            "grid_auto_flow": null,
            "grid_area": null,
            "grid_template_columns": null,
            "flex": null,
            "_model_name": "LayoutModel",
            "justify_items": null,
            "grid_row": null,
            "max_height": null,
            "align_content": null,
            "visibility": null,
            "align_self": null,
            "height": null,
            "min_height": null,
            "padding": null,
            "grid_auto_rows": null,
            "grid_gap": null,
            "max_width": null,
            "order": null,
            "_view_module_version": "1.2.0",
            "grid_template_areas": null,
            "object_position": null,
            "object_fit": null,
            "grid_auto_columns": null,
            "margin": null,
            "display": null,
            "left": null
          }
        },
        "c69acbd2775f49358b6b556adabf4fd1": {
          "model_module": "@jupyter-widgets/controls",
          "model_name": "HBoxModel",
          "state": {
            "_view_name": "HBoxView",
            "_dom_classes": [],
            "_model_name": "HBoxModel",
            "_view_module": "@jupyter-widgets/controls",
            "_model_module_version": "1.5.0",
            "_view_count": null,
            "_view_module_version": "1.5.0",
            "box_style": "",
            "layout": "IPY_MODEL_b597aaefde494aa3b44a2c15be5eb7fe",
            "_model_module": "@jupyter-widgets/controls",
            "children": [
              "IPY_MODEL_dce0b94b49194df58c15cdfb61b98836",
              "IPY_MODEL_b15d192650b14fffaf6a1130242e849f"
            ]
          }
        },
        "b597aaefde494aa3b44a2c15be5eb7fe": {
          "model_module": "@jupyter-widgets/base",
          "model_name": "LayoutModel",
          "state": {
            "_view_name": "LayoutView",
            "grid_template_rows": null,
            "right": null,
            "justify_content": null,
            "_view_module": "@jupyter-widgets/base",
            "overflow": null,
            "_model_module_version": "1.2.0",
            "_view_count": null,
            "flex_flow": null,
            "width": null,
            "min_width": null,
            "border": null,
            "align_items": null,
            "bottom": null,
            "_model_module": "@jupyter-widgets/base",
            "top": null,
            "grid_column": null,
            "overflow_y": null,
            "overflow_x": null,
            "grid_auto_flow": null,
            "grid_area": null,
            "grid_template_columns": null,
            "flex": null,
            "_model_name": "LayoutModel",
            "justify_items": null,
            "grid_row": null,
            "max_height": null,
            "align_content": null,
            "visibility": null,
            "align_self": null,
            "height": null,
            "min_height": null,
            "padding": null,
            "grid_auto_rows": null,
            "grid_gap": null,
            "max_width": null,
            "order": null,
            "_view_module_version": "1.2.0",
            "grid_template_areas": null,
            "object_position": null,
            "object_fit": null,
            "grid_auto_columns": null,
            "margin": null,
            "display": null,
            "left": null
          }
        },
        "dce0b94b49194df58c15cdfb61b98836": {
          "model_module": "@jupyter-widgets/controls",
          "model_name": "FloatProgressModel",
          "state": {
            "_view_name": "ProgressView",
            "style": "IPY_MODEL_1129b7561f8a41d7b317779f944b7200",
            "_dom_classes": [],
            "description": "100%",
            "_model_name": "FloatProgressModel",
            "bar_style": "",
            "max": 391,
            "_view_module": "@jupyter-widgets/controls",
            "_model_module_version": "1.5.0",
            "value": 391,
            "_view_count": null,
            "_view_module_version": "1.5.0",
            "orientation": "horizontal",
            "min": 0,
            "description_tooltip": null,
            "_model_module": "@jupyter-widgets/controls",
            "layout": "IPY_MODEL_85bd582ac423427f925a61ba29e4c54b"
          }
        },
        "b15d192650b14fffaf6a1130242e849f": {
          "model_module": "@jupyter-widgets/controls",
          "model_name": "HTMLModel",
          "state": {
            "_view_name": "HTMLView",
            "style": "IPY_MODEL_37f51b10a3fc4f4daa91085812215fff",
            "_dom_classes": [],
            "description": "",
            "_model_name": "HTMLModel",
            "placeholder": "​",
            "_view_module": "@jupyter-widgets/controls",
            "_model_module_version": "1.5.0",
            "value": " 391/391 [00:00&lt;00:00, 408.83it/s]",
            "_view_count": null,
            "_view_module_version": "1.5.0",
            "description_tooltip": null,
            "_model_module": "@jupyter-widgets/controls",
            "layout": "IPY_MODEL_f150a57b15a14713bee5948458fc2938"
          }
        },
        "1129b7561f8a41d7b317779f944b7200": {
          "model_module": "@jupyter-widgets/controls",
          "model_name": "ProgressStyleModel",
          "state": {
            "_view_name": "StyleView",
            "_model_name": "ProgressStyleModel",
            "description_width": "initial",
            "_view_module": "@jupyter-widgets/base",
            "_model_module_version": "1.5.0",
            "_view_count": null,
            "_view_module_version": "1.2.0",
            "bar_color": null,
            "_model_module": "@jupyter-widgets/controls"
          }
        },
        "85bd582ac423427f925a61ba29e4c54b": {
          "model_module": "@jupyter-widgets/base",
          "model_name": "LayoutModel",
          "state": {
            "_view_name": "LayoutView",
            "grid_template_rows": null,
            "right": null,
            "justify_content": null,
            "_view_module": "@jupyter-widgets/base",
            "overflow": null,
            "_model_module_version": "1.2.0",
            "_view_count": null,
            "flex_flow": null,
            "width": null,
            "min_width": null,
            "border": null,
            "align_items": null,
            "bottom": null,
            "_model_module": "@jupyter-widgets/base",
            "top": null,
            "grid_column": null,
            "overflow_y": null,
            "overflow_x": null,
            "grid_auto_flow": null,
            "grid_area": null,
            "grid_template_columns": null,
            "flex": null,
            "_model_name": "LayoutModel",
            "justify_items": null,
            "grid_row": null,
            "max_height": null,
            "align_content": null,
            "visibility": null,
            "align_self": null,
            "height": null,
            "min_height": null,
            "padding": null,
            "grid_auto_rows": null,
            "grid_gap": null,
            "max_width": null,
            "order": null,
            "_view_module_version": "1.2.0",
            "grid_template_areas": null,
            "object_position": null,
            "object_fit": null,
            "grid_auto_columns": null,
            "margin": null,
            "display": null,
            "left": null
          }
        },
        "37f51b10a3fc4f4daa91085812215fff": {
          "model_module": "@jupyter-widgets/controls",
          "model_name": "DescriptionStyleModel",
          "state": {
            "_view_name": "StyleView",
            "_model_name": "DescriptionStyleModel",
            "description_width": "",
            "_view_module": "@jupyter-widgets/base",
            "_model_module_version": "1.5.0",
            "_view_count": null,
            "_view_module_version": "1.2.0",
            "_model_module": "@jupyter-widgets/controls"
          }
        },
        "f150a57b15a14713bee5948458fc2938": {
          "model_module": "@jupyter-widgets/base",
          "model_name": "LayoutModel",
          "state": {
            "_view_name": "LayoutView",
            "grid_template_rows": null,
            "right": null,
            "justify_content": null,
            "_view_module": "@jupyter-widgets/base",
            "overflow": null,
            "_model_module_version": "1.2.0",
            "_view_count": null,
            "flex_flow": null,
            "width": null,
            "min_width": null,
            "border": null,
            "align_items": null,
            "bottom": null,
            "_model_module": "@jupyter-widgets/base",
            "top": null,
            "grid_column": null,
            "overflow_y": null,
            "overflow_x": null,
            "grid_auto_flow": null,
            "grid_area": null,
            "grid_template_columns": null,
            "flex": null,
            "_model_name": "LayoutModel",
            "justify_items": null,
            "grid_row": null,
            "max_height": null,
            "align_content": null,
            "visibility": null,
            "align_self": null,
            "height": null,
            "min_height": null,
            "padding": null,
            "grid_auto_rows": null,
            "grid_gap": null,
            "max_width": null,
            "order": null,
            "_view_module_version": "1.2.0",
            "grid_template_areas": null,
            "object_position": null,
            "object_fit": null,
            "grid_auto_columns": null,
            "margin": null,
            "display": null,
            "left": null
          }
        },
        "979ad7fcaf8d4eecb324933388d63fbc": {
          "model_module": "@jupyter-widgets/controls",
          "model_name": "HBoxModel",
          "state": {
            "_view_name": "HBoxView",
            "_dom_classes": [],
            "_model_name": "HBoxModel",
            "_view_module": "@jupyter-widgets/controls",
            "_model_module_version": "1.5.0",
            "_view_count": null,
            "_view_module_version": "1.5.0",
            "box_style": "",
            "layout": "IPY_MODEL_ed2ce87288b9459e90c150fa78f5265b",
            "_model_module": "@jupyter-widgets/controls",
            "children": [
              "IPY_MODEL_7f25602c95314af4afaaf6868221790c",
              "IPY_MODEL_ae559999e1d44748a96b9d91a3756275"
            ]
          }
        },
        "ed2ce87288b9459e90c150fa78f5265b": {
          "model_module": "@jupyter-widgets/base",
          "model_name": "LayoutModel",
          "state": {
            "_view_name": "LayoutView",
            "grid_template_rows": null,
            "right": null,
            "justify_content": null,
            "_view_module": "@jupyter-widgets/base",
            "overflow": null,
            "_model_module_version": "1.2.0",
            "_view_count": null,
            "flex_flow": null,
            "width": null,
            "min_width": null,
            "border": null,
            "align_items": null,
            "bottom": null,
            "_model_module": "@jupyter-widgets/base",
            "top": null,
            "grid_column": null,
            "overflow_y": null,
            "overflow_x": null,
            "grid_auto_flow": null,
            "grid_area": null,
            "grid_template_columns": null,
            "flex": null,
            "_model_name": "LayoutModel",
            "justify_items": null,
            "grid_row": null,
            "max_height": null,
            "align_content": null,
            "visibility": null,
            "align_self": null,
            "height": null,
            "min_height": null,
            "padding": null,
            "grid_auto_rows": null,
            "grid_gap": null,
            "max_width": null,
            "order": null,
            "_view_module_version": "1.2.0",
            "grid_template_areas": null,
            "object_position": null,
            "object_fit": null,
            "grid_auto_columns": null,
            "margin": null,
            "display": null,
            "left": null
          }
        },
        "7f25602c95314af4afaaf6868221790c": {
          "model_module": "@jupyter-widgets/controls",
          "model_name": "FloatProgressModel",
          "state": {
            "_view_name": "ProgressView",
            "style": "IPY_MODEL_6e28e9407a284317b77b32ca9e0fe8a4",
            "_dom_classes": [],
            "description": "Epoch 4: 100%",
            "_model_name": "FloatProgressModel",
            "bar_style": "",
            "max": 1563,
            "_view_module": "@jupyter-widgets/controls",
            "_model_module_version": "1.5.0",
            "value": 1563,
            "_view_count": null,
            "_view_module_version": "1.5.0",
            "orientation": "horizontal",
            "min": 0,
            "description_tooltip": null,
            "_model_module": "@jupyter-widgets/controls",
            "layout": "IPY_MODEL_5193c1391c704513bf52ff74082073c7"
          }
        },
        "ae559999e1d44748a96b9d91a3756275": {
          "model_module": "@jupyter-widgets/controls",
          "model_name": "HTMLModel",
          "state": {
            "_view_name": "HTMLView",
            "style": "IPY_MODEL_01867c360bd44d92ac9712bffb87e065",
            "_dom_classes": [],
            "description": "",
            "_model_name": "HTMLModel",
            "placeholder": "​",
            "_view_module": "@jupyter-widgets/controls",
            "_model_module_version": "1.5.0",
            "value": " 1563/1563 [00:13&lt;00:00, 115.46it/s, loss=0.255]",
            "_view_count": null,
            "_view_module_version": "1.5.0",
            "description_tooltip": null,
            "_model_module": "@jupyter-widgets/controls",
            "layout": "IPY_MODEL_871f236103a6429b82f1b2834ebc94eb"
          }
        },
        "6e28e9407a284317b77b32ca9e0fe8a4": {
          "model_module": "@jupyter-widgets/controls",
          "model_name": "ProgressStyleModel",
          "state": {
            "_view_name": "StyleView",
            "_model_name": "ProgressStyleModel",
            "description_width": "initial",
            "_view_module": "@jupyter-widgets/base",
            "_model_module_version": "1.5.0",
            "_view_count": null,
            "_view_module_version": "1.2.0",
            "bar_color": null,
            "_model_module": "@jupyter-widgets/controls"
          }
        },
        "5193c1391c704513bf52ff74082073c7": {
          "model_module": "@jupyter-widgets/base",
          "model_name": "LayoutModel",
          "state": {
            "_view_name": "LayoutView",
            "grid_template_rows": null,
            "right": null,
            "justify_content": null,
            "_view_module": "@jupyter-widgets/base",
            "overflow": null,
            "_model_module_version": "1.2.0",
            "_view_count": null,
            "flex_flow": null,
            "width": null,
            "min_width": null,
            "border": null,
            "align_items": null,
            "bottom": null,
            "_model_module": "@jupyter-widgets/base",
            "top": null,
            "grid_column": null,
            "overflow_y": null,
            "overflow_x": null,
            "grid_auto_flow": null,
            "grid_area": null,
            "grid_template_columns": null,
            "flex": null,
            "_model_name": "LayoutModel",
            "justify_items": null,
            "grid_row": null,
            "max_height": null,
            "align_content": null,
            "visibility": null,
            "align_self": null,
            "height": null,
            "min_height": null,
            "padding": null,
            "grid_auto_rows": null,
            "grid_gap": null,
            "max_width": null,
            "order": null,
            "_view_module_version": "1.2.0",
            "grid_template_areas": null,
            "object_position": null,
            "object_fit": null,
            "grid_auto_columns": null,
            "margin": null,
            "display": null,
            "left": null
          }
        },
        "01867c360bd44d92ac9712bffb87e065": {
          "model_module": "@jupyter-widgets/controls",
          "model_name": "DescriptionStyleModel",
          "state": {
            "_view_name": "StyleView",
            "_model_name": "DescriptionStyleModel",
            "description_width": "",
            "_view_module": "@jupyter-widgets/base",
            "_model_module_version": "1.5.0",
            "_view_count": null,
            "_view_module_version": "1.2.0",
            "_model_module": "@jupyter-widgets/controls"
          }
        },
        "871f236103a6429b82f1b2834ebc94eb": {
          "model_module": "@jupyter-widgets/base",
          "model_name": "LayoutModel",
          "state": {
            "_view_name": "LayoutView",
            "grid_template_rows": null,
            "right": null,
            "justify_content": null,
            "_view_module": "@jupyter-widgets/base",
            "overflow": null,
            "_model_module_version": "1.2.0",
            "_view_count": null,
            "flex_flow": null,
            "width": null,
            "min_width": null,
            "border": null,
            "align_items": null,
            "bottom": null,
            "_model_module": "@jupyter-widgets/base",
            "top": null,
            "grid_column": null,
            "overflow_y": null,
            "overflow_x": null,
            "grid_auto_flow": null,
            "grid_area": null,
            "grid_template_columns": null,
            "flex": null,
            "_model_name": "LayoutModel",
            "justify_items": null,
            "grid_row": null,
            "max_height": null,
            "align_content": null,
            "visibility": null,
            "align_self": null,
            "height": null,
            "min_height": null,
            "padding": null,
            "grid_auto_rows": null,
            "grid_gap": null,
            "max_width": null,
            "order": null,
            "_view_module_version": "1.2.0",
            "grid_template_areas": null,
            "object_position": null,
            "object_fit": null,
            "grid_auto_columns": null,
            "margin": null,
            "display": null,
            "left": null
          }
        },
        "8f81aaf119f34737b75592cfd9944911": {
          "model_module": "@jupyter-widgets/controls",
          "model_name": "HBoxModel",
          "state": {
            "_view_name": "HBoxView",
            "_dom_classes": [],
            "_model_name": "HBoxModel",
            "_view_module": "@jupyter-widgets/controls",
            "_model_module_version": "1.5.0",
            "_view_count": null,
            "_view_module_version": "1.5.0",
            "box_style": "",
            "layout": "IPY_MODEL_0922b794ae2c4c42966118a41d601969",
            "_model_module": "@jupyter-widgets/controls",
            "children": [
              "IPY_MODEL_5f967e9d9ddc46a49cef1379a3762562",
              "IPY_MODEL_c56a9ccf3ccf49a69fe6ae6a27680ceb"
            ]
          }
        },
        "0922b794ae2c4c42966118a41d601969": {
          "model_module": "@jupyter-widgets/base",
          "model_name": "LayoutModel",
          "state": {
            "_view_name": "LayoutView",
            "grid_template_rows": null,
            "right": null,
            "justify_content": null,
            "_view_module": "@jupyter-widgets/base",
            "overflow": null,
            "_model_module_version": "1.2.0",
            "_view_count": null,
            "flex_flow": null,
            "width": null,
            "min_width": null,
            "border": null,
            "align_items": null,
            "bottom": null,
            "_model_module": "@jupyter-widgets/base",
            "top": null,
            "grid_column": null,
            "overflow_y": null,
            "overflow_x": null,
            "grid_auto_flow": null,
            "grid_area": null,
            "grid_template_columns": null,
            "flex": null,
            "_model_name": "LayoutModel",
            "justify_items": null,
            "grid_row": null,
            "max_height": null,
            "align_content": null,
            "visibility": null,
            "align_self": null,
            "height": null,
            "min_height": null,
            "padding": null,
            "grid_auto_rows": null,
            "grid_gap": null,
            "max_width": null,
            "order": null,
            "_view_module_version": "1.2.0",
            "grid_template_areas": null,
            "object_position": null,
            "object_fit": null,
            "grid_auto_columns": null,
            "margin": null,
            "display": null,
            "left": null
          }
        },
        "5f967e9d9ddc46a49cef1379a3762562": {
          "model_module": "@jupyter-widgets/controls",
          "model_name": "FloatProgressModel",
          "state": {
            "_view_name": "ProgressView",
            "style": "IPY_MODEL_3d924dae9bfe4a52baee7b86c99e67fe",
            "_dom_classes": [],
            "description": "100%",
            "_model_name": "FloatProgressModel",
            "bar_style": "",
            "max": 391,
            "_view_module": "@jupyter-widgets/controls",
            "_model_module_version": "1.5.0",
            "value": 391,
            "_view_count": null,
            "_view_module_version": "1.5.0",
            "orientation": "horizontal",
            "min": 0,
            "description_tooltip": null,
            "_model_module": "@jupyter-widgets/controls",
            "layout": "IPY_MODEL_adea5217f3da475fa459024ca6aaa039"
          }
        },
        "c56a9ccf3ccf49a69fe6ae6a27680ceb": {
          "model_module": "@jupyter-widgets/controls",
          "model_name": "HTMLModel",
          "state": {
            "_view_name": "HTMLView",
            "style": "IPY_MODEL_a3b5bc75b31d430980f7929da08d621d",
            "_dom_classes": [],
            "description": "",
            "_model_name": "HTMLModel",
            "placeholder": "​",
            "_view_module": "@jupyter-widgets/controls",
            "_model_module_version": "1.5.0",
            "value": " 391/391 [00:00&lt;00:00, 410.47it/s]",
            "_view_count": null,
            "_view_module_version": "1.5.0",
            "description_tooltip": null,
            "_model_module": "@jupyter-widgets/controls",
            "layout": "IPY_MODEL_545fecf7100f4f7ebdd877a5f5927179"
          }
        },
        "3d924dae9bfe4a52baee7b86c99e67fe": {
          "model_module": "@jupyter-widgets/controls",
          "model_name": "ProgressStyleModel",
          "state": {
            "_view_name": "StyleView",
            "_model_name": "ProgressStyleModel",
            "description_width": "initial",
            "_view_module": "@jupyter-widgets/base",
            "_model_module_version": "1.5.0",
            "_view_count": null,
            "_view_module_version": "1.2.0",
            "bar_color": null,
            "_model_module": "@jupyter-widgets/controls"
          }
        },
        "adea5217f3da475fa459024ca6aaa039": {
          "model_module": "@jupyter-widgets/base",
          "model_name": "LayoutModel",
          "state": {
            "_view_name": "LayoutView",
            "grid_template_rows": null,
            "right": null,
            "justify_content": null,
            "_view_module": "@jupyter-widgets/base",
            "overflow": null,
            "_model_module_version": "1.2.0",
            "_view_count": null,
            "flex_flow": null,
            "width": null,
            "min_width": null,
            "border": null,
            "align_items": null,
            "bottom": null,
            "_model_module": "@jupyter-widgets/base",
            "top": null,
            "grid_column": null,
            "overflow_y": null,
            "overflow_x": null,
            "grid_auto_flow": null,
            "grid_area": null,
            "grid_template_columns": null,
            "flex": null,
            "_model_name": "LayoutModel",
            "justify_items": null,
            "grid_row": null,
            "max_height": null,
            "align_content": null,
            "visibility": null,
            "align_self": null,
            "height": null,
            "min_height": null,
            "padding": null,
            "grid_auto_rows": null,
            "grid_gap": null,
            "max_width": null,
            "order": null,
            "_view_module_version": "1.2.0",
            "grid_template_areas": null,
            "object_position": null,
            "object_fit": null,
            "grid_auto_columns": null,
            "margin": null,
            "display": null,
            "left": null
          }
        },
        "a3b5bc75b31d430980f7929da08d621d": {
          "model_module": "@jupyter-widgets/controls",
          "model_name": "DescriptionStyleModel",
          "state": {
            "_view_name": "StyleView",
            "_model_name": "DescriptionStyleModel",
            "description_width": "",
            "_view_module": "@jupyter-widgets/base",
            "_model_module_version": "1.5.0",
            "_view_count": null,
            "_view_module_version": "1.2.0",
            "_model_module": "@jupyter-widgets/controls"
          }
        },
        "545fecf7100f4f7ebdd877a5f5927179": {
          "model_module": "@jupyter-widgets/base",
          "model_name": "LayoutModel",
          "state": {
            "_view_name": "LayoutView",
            "grid_template_rows": null,
            "right": null,
            "justify_content": null,
            "_view_module": "@jupyter-widgets/base",
            "overflow": null,
            "_model_module_version": "1.2.0",
            "_view_count": null,
            "flex_flow": null,
            "width": null,
            "min_width": null,
            "border": null,
            "align_items": null,
            "bottom": null,
            "_model_module": "@jupyter-widgets/base",
            "top": null,
            "grid_column": null,
            "overflow_y": null,
            "overflow_x": null,
            "grid_auto_flow": null,
            "grid_area": null,
            "grid_template_columns": null,
            "flex": null,
            "_model_name": "LayoutModel",
            "justify_items": null,
            "grid_row": null,
            "max_height": null,
            "align_content": null,
            "visibility": null,
            "align_self": null,
            "height": null,
            "min_height": null,
            "padding": null,
            "grid_auto_rows": null,
            "grid_gap": null,
            "max_width": null,
            "order": null,
            "_view_module_version": "1.2.0",
            "grid_template_areas": null,
            "object_position": null,
            "object_fit": null,
            "grid_auto_columns": null,
            "margin": null,
            "display": null,
            "left": null
          }
        },
        "47deee7fbe654c69ad71cfb4a06c53e0": {
          "model_module": "@jupyter-widgets/controls",
          "model_name": "HBoxModel",
          "state": {
            "_view_name": "HBoxView",
            "_dom_classes": [],
            "_model_name": "HBoxModel",
            "_view_module": "@jupyter-widgets/controls",
            "_model_module_version": "1.5.0",
            "_view_count": null,
            "_view_module_version": "1.5.0",
            "box_style": "",
            "layout": "IPY_MODEL_1645cc148b7449d9a17b490904ace484",
            "_model_module": "@jupyter-widgets/controls",
            "children": [
              "IPY_MODEL_1dac3f48632843a982b2ef911ccc4e63",
              "IPY_MODEL_7658ded06219468a997283916f66ed1b"
            ]
          }
        },
        "1645cc148b7449d9a17b490904ace484": {
          "model_module": "@jupyter-widgets/base",
          "model_name": "LayoutModel",
          "state": {
            "_view_name": "LayoutView",
            "grid_template_rows": null,
            "right": null,
            "justify_content": null,
            "_view_module": "@jupyter-widgets/base",
            "overflow": null,
            "_model_module_version": "1.2.0",
            "_view_count": null,
            "flex_flow": null,
            "width": null,
            "min_width": null,
            "border": null,
            "align_items": null,
            "bottom": null,
            "_model_module": "@jupyter-widgets/base",
            "top": null,
            "grid_column": null,
            "overflow_y": null,
            "overflow_x": null,
            "grid_auto_flow": null,
            "grid_area": null,
            "grid_template_columns": null,
            "flex": null,
            "_model_name": "LayoutModel",
            "justify_items": null,
            "grid_row": null,
            "max_height": null,
            "align_content": null,
            "visibility": null,
            "align_self": null,
            "height": null,
            "min_height": null,
            "padding": null,
            "grid_auto_rows": null,
            "grid_gap": null,
            "max_width": null,
            "order": null,
            "_view_module_version": "1.2.0",
            "grid_template_areas": null,
            "object_position": null,
            "object_fit": null,
            "grid_auto_columns": null,
            "margin": null,
            "display": null,
            "left": null
          }
        },
        "1dac3f48632843a982b2ef911ccc4e63": {
          "model_module": "@jupyter-widgets/controls",
          "model_name": "FloatProgressModel",
          "state": {
            "_view_name": "ProgressView",
            "style": "IPY_MODEL_05f0731f56734256aabe7bc02bef6d9d",
            "_dom_classes": [],
            "description": "Epoch 5: 100%",
            "_model_name": "FloatProgressModel",
            "bar_style": "",
            "max": 1563,
            "_view_module": "@jupyter-widgets/controls",
            "_model_module_version": "1.5.0",
            "value": 1563,
            "_view_count": null,
            "_view_module_version": "1.5.0",
            "orientation": "horizontal",
            "min": 0,
            "description_tooltip": null,
            "_model_module": "@jupyter-widgets/controls",
            "layout": "IPY_MODEL_224e904b217b49c999f893d114a38b7e"
          }
        },
        "7658ded06219468a997283916f66ed1b": {
          "model_module": "@jupyter-widgets/controls",
          "model_name": "HTMLModel",
          "state": {
            "_view_name": "HTMLView",
            "style": "IPY_MODEL_4e8bb09bcea54395ac18da6251d26289",
            "_dom_classes": [],
            "description": "",
            "_model_name": "HTMLModel",
            "placeholder": "​",
            "_view_module": "@jupyter-widgets/controls",
            "_model_module_version": "1.5.0",
            "value": " 1563/1563 [00:13&lt;00:00, 116.45it/s, loss=0.356]",
            "_view_count": null,
            "_view_module_version": "1.5.0",
            "description_tooltip": null,
            "_model_module": "@jupyter-widgets/controls",
            "layout": "IPY_MODEL_49735b6e2986411786c4260061c6b7e4"
          }
        },
        "05f0731f56734256aabe7bc02bef6d9d": {
          "model_module": "@jupyter-widgets/controls",
          "model_name": "ProgressStyleModel",
          "state": {
            "_view_name": "StyleView",
            "_model_name": "ProgressStyleModel",
            "description_width": "initial",
            "_view_module": "@jupyter-widgets/base",
            "_model_module_version": "1.5.0",
            "_view_count": null,
            "_view_module_version": "1.2.0",
            "bar_color": null,
            "_model_module": "@jupyter-widgets/controls"
          }
        },
        "224e904b217b49c999f893d114a38b7e": {
          "model_module": "@jupyter-widgets/base",
          "model_name": "LayoutModel",
          "state": {
            "_view_name": "LayoutView",
            "grid_template_rows": null,
            "right": null,
            "justify_content": null,
            "_view_module": "@jupyter-widgets/base",
            "overflow": null,
            "_model_module_version": "1.2.0",
            "_view_count": null,
            "flex_flow": null,
            "width": null,
            "min_width": null,
            "border": null,
            "align_items": null,
            "bottom": null,
            "_model_module": "@jupyter-widgets/base",
            "top": null,
            "grid_column": null,
            "overflow_y": null,
            "overflow_x": null,
            "grid_auto_flow": null,
            "grid_area": null,
            "grid_template_columns": null,
            "flex": null,
            "_model_name": "LayoutModel",
            "justify_items": null,
            "grid_row": null,
            "max_height": null,
            "align_content": null,
            "visibility": null,
            "align_self": null,
            "height": null,
            "min_height": null,
            "padding": null,
            "grid_auto_rows": null,
            "grid_gap": null,
            "max_width": null,
            "order": null,
            "_view_module_version": "1.2.0",
            "grid_template_areas": null,
            "object_position": null,
            "object_fit": null,
            "grid_auto_columns": null,
            "margin": null,
            "display": null,
            "left": null
          }
        },
        "4e8bb09bcea54395ac18da6251d26289": {
          "model_module": "@jupyter-widgets/controls",
          "model_name": "DescriptionStyleModel",
          "state": {
            "_view_name": "StyleView",
            "_model_name": "DescriptionStyleModel",
            "description_width": "",
            "_view_module": "@jupyter-widgets/base",
            "_model_module_version": "1.5.0",
            "_view_count": null,
            "_view_module_version": "1.2.0",
            "_model_module": "@jupyter-widgets/controls"
          }
        },
        "49735b6e2986411786c4260061c6b7e4": {
          "model_module": "@jupyter-widgets/base",
          "model_name": "LayoutModel",
          "state": {
            "_view_name": "LayoutView",
            "grid_template_rows": null,
            "right": null,
            "justify_content": null,
            "_view_module": "@jupyter-widgets/base",
            "overflow": null,
            "_model_module_version": "1.2.0",
            "_view_count": null,
            "flex_flow": null,
            "width": null,
            "min_width": null,
            "border": null,
            "align_items": null,
            "bottom": null,
            "_model_module": "@jupyter-widgets/base",
            "top": null,
            "grid_column": null,
            "overflow_y": null,
            "overflow_x": null,
            "grid_auto_flow": null,
            "grid_area": null,
            "grid_template_columns": null,
            "flex": null,
            "_model_name": "LayoutModel",
            "justify_items": null,
            "grid_row": null,
            "max_height": null,
            "align_content": null,
            "visibility": null,
            "align_self": null,
            "height": null,
            "min_height": null,
            "padding": null,
            "grid_auto_rows": null,
            "grid_gap": null,
            "max_width": null,
            "order": null,
            "_view_module_version": "1.2.0",
            "grid_template_areas": null,
            "object_position": null,
            "object_fit": null,
            "grid_auto_columns": null,
            "margin": null,
            "display": null,
            "left": null
          }
        },
        "5c1a3e33cac1434fb508a8fb07632aa5": {
          "model_module": "@jupyter-widgets/controls",
          "model_name": "HBoxModel",
          "state": {
            "_view_name": "HBoxView",
            "_dom_classes": [],
            "_model_name": "HBoxModel",
            "_view_module": "@jupyter-widgets/controls",
            "_model_module_version": "1.5.0",
            "_view_count": null,
            "_view_module_version": "1.5.0",
            "box_style": "",
            "layout": "IPY_MODEL_46b3f05c95d840d389bf4df563fd6bd0",
            "_model_module": "@jupyter-widgets/controls",
            "children": [
              "IPY_MODEL_9ff60a8da82a4da2b223f84cd3c6f8af",
              "IPY_MODEL_4865f06c55a644d88b9375fd5d125a10"
            ]
          }
        },
        "46b3f05c95d840d389bf4df563fd6bd0": {
          "model_module": "@jupyter-widgets/base",
          "model_name": "LayoutModel",
          "state": {
            "_view_name": "LayoutView",
            "grid_template_rows": null,
            "right": null,
            "justify_content": null,
            "_view_module": "@jupyter-widgets/base",
            "overflow": null,
            "_model_module_version": "1.2.0",
            "_view_count": null,
            "flex_flow": null,
            "width": null,
            "min_width": null,
            "border": null,
            "align_items": null,
            "bottom": null,
            "_model_module": "@jupyter-widgets/base",
            "top": null,
            "grid_column": null,
            "overflow_y": null,
            "overflow_x": null,
            "grid_auto_flow": null,
            "grid_area": null,
            "grid_template_columns": null,
            "flex": null,
            "_model_name": "LayoutModel",
            "justify_items": null,
            "grid_row": null,
            "max_height": null,
            "align_content": null,
            "visibility": null,
            "align_self": null,
            "height": null,
            "min_height": null,
            "padding": null,
            "grid_auto_rows": null,
            "grid_gap": null,
            "max_width": null,
            "order": null,
            "_view_module_version": "1.2.0",
            "grid_template_areas": null,
            "object_position": null,
            "object_fit": null,
            "grid_auto_columns": null,
            "margin": null,
            "display": null,
            "left": null
          }
        },
        "9ff60a8da82a4da2b223f84cd3c6f8af": {
          "model_module": "@jupyter-widgets/controls",
          "model_name": "FloatProgressModel",
          "state": {
            "_view_name": "ProgressView",
            "style": "IPY_MODEL_b0fe8a2e4ba840b1b798215358be21ec",
            "_dom_classes": [],
            "description": "100%",
            "_model_name": "FloatProgressModel",
            "bar_style": "",
            "max": 391,
            "_view_module": "@jupyter-widgets/controls",
            "_model_module_version": "1.5.0",
            "value": 391,
            "_view_count": null,
            "_view_module_version": "1.5.0",
            "orientation": "horizontal",
            "min": 0,
            "description_tooltip": null,
            "_model_module": "@jupyter-widgets/controls",
            "layout": "IPY_MODEL_f86584acb0d8471085a4f26e42ef04ae"
          }
        },
        "4865f06c55a644d88b9375fd5d125a10": {
          "model_module": "@jupyter-widgets/controls",
          "model_name": "HTMLModel",
          "state": {
            "_view_name": "HTMLView",
            "style": "IPY_MODEL_2b32f2706dec475fb80ef0a138c5919b",
            "_dom_classes": [],
            "description": "",
            "_model_name": "HTMLModel",
            "placeholder": "​",
            "_view_module": "@jupyter-widgets/controls",
            "_model_module_version": "1.5.0",
            "value": " 391/391 [00:00&lt;00:00, 401.22it/s]",
            "_view_count": null,
            "_view_module_version": "1.5.0",
            "description_tooltip": null,
            "_model_module": "@jupyter-widgets/controls",
            "layout": "IPY_MODEL_4c3d8055db0e4664914d508e407e7481"
          }
        },
        "b0fe8a2e4ba840b1b798215358be21ec": {
          "model_module": "@jupyter-widgets/controls",
          "model_name": "ProgressStyleModel",
          "state": {
            "_view_name": "StyleView",
            "_model_name": "ProgressStyleModel",
            "description_width": "initial",
            "_view_module": "@jupyter-widgets/base",
            "_model_module_version": "1.5.0",
            "_view_count": null,
            "_view_module_version": "1.2.0",
            "bar_color": null,
            "_model_module": "@jupyter-widgets/controls"
          }
        },
        "f86584acb0d8471085a4f26e42ef04ae": {
          "model_module": "@jupyter-widgets/base",
          "model_name": "LayoutModel",
          "state": {
            "_view_name": "LayoutView",
            "grid_template_rows": null,
            "right": null,
            "justify_content": null,
            "_view_module": "@jupyter-widgets/base",
            "overflow": null,
            "_model_module_version": "1.2.0",
            "_view_count": null,
            "flex_flow": null,
            "width": null,
            "min_width": null,
            "border": null,
            "align_items": null,
            "bottom": null,
            "_model_module": "@jupyter-widgets/base",
            "top": null,
            "grid_column": null,
            "overflow_y": null,
            "overflow_x": null,
            "grid_auto_flow": null,
            "grid_area": null,
            "grid_template_columns": null,
            "flex": null,
            "_model_name": "LayoutModel",
            "justify_items": null,
            "grid_row": null,
            "max_height": null,
            "align_content": null,
            "visibility": null,
            "align_self": null,
            "height": null,
            "min_height": null,
            "padding": null,
            "grid_auto_rows": null,
            "grid_gap": null,
            "max_width": null,
            "order": null,
            "_view_module_version": "1.2.0",
            "grid_template_areas": null,
            "object_position": null,
            "object_fit": null,
            "grid_auto_columns": null,
            "margin": null,
            "display": null,
            "left": null
          }
        },
        "2b32f2706dec475fb80ef0a138c5919b": {
          "model_module": "@jupyter-widgets/controls",
          "model_name": "DescriptionStyleModel",
          "state": {
            "_view_name": "StyleView",
            "_model_name": "DescriptionStyleModel",
            "description_width": "",
            "_view_module": "@jupyter-widgets/base",
            "_model_module_version": "1.5.0",
            "_view_count": null,
            "_view_module_version": "1.2.0",
            "_model_module": "@jupyter-widgets/controls"
          }
        },
        "4c3d8055db0e4664914d508e407e7481": {
          "model_module": "@jupyter-widgets/base",
          "model_name": "LayoutModel",
          "state": {
            "_view_name": "LayoutView",
            "grid_template_rows": null,
            "right": null,
            "justify_content": null,
            "_view_module": "@jupyter-widgets/base",
            "overflow": null,
            "_model_module_version": "1.2.0",
            "_view_count": null,
            "flex_flow": null,
            "width": null,
            "min_width": null,
            "border": null,
            "align_items": null,
            "bottom": null,
            "_model_module": "@jupyter-widgets/base",
            "top": null,
            "grid_column": null,
            "overflow_y": null,
            "overflow_x": null,
            "grid_auto_flow": null,
            "grid_area": null,
            "grid_template_columns": null,
            "flex": null,
            "_model_name": "LayoutModel",
            "justify_items": null,
            "grid_row": null,
            "max_height": null,
            "align_content": null,
            "visibility": null,
            "align_self": null,
            "height": null,
            "min_height": null,
            "padding": null,
            "grid_auto_rows": null,
            "grid_gap": null,
            "max_width": null,
            "order": null,
            "_view_module_version": "1.2.0",
            "grid_template_areas": null,
            "object_position": null,
            "object_fit": null,
            "grid_auto_columns": null,
            "margin": null,
            "display": null,
            "left": null
          }
        },
        "5b05515c084d4e5583d476864e3cadb0": {
          "model_module": "@jupyter-widgets/controls",
          "model_name": "HBoxModel",
          "state": {
            "_view_name": "HBoxView",
            "_dom_classes": [],
            "_model_name": "HBoxModel",
            "_view_module": "@jupyter-widgets/controls",
            "_model_module_version": "1.5.0",
            "_view_count": null,
            "_view_module_version": "1.5.0",
            "box_style": "",
            "layout": "IPY_MODEL_f7376954811c4c5786da0f4abc1bdb80",
            "_model_module": "@jupyter-widgets/controls",
            "children": [
              "IPY_MODEL_5bb514f094c24654afbbef8186563cfc",
              "IPY_MODEL_ce0009d65f184210b1a130535f0aed1d"
            ]
          }
        },
        "f7376954811c4c5786da0f4abc1bdb80": {
          "model_module": "@jupyter-widgets/base",
          "model_name": "LayoutModel",
          "state": {
            "_view_name": "LayoutView",
            "grid_template_rows": null,
            "right": null,
            "justify_content": null,
            "_view_module": "@jupyter-widgets/base",
            "overflow": null,
            "_model_module_version": "1.2.0",
            "_view_count": null,
            "flex_flow": null,
            "width": null,
            "min_width": null,
            "border": null,
            "align_items": null,
            "bottom": null,
            "_model_module": "@jupyter-widgets/base",
            "top": null,
            "grid_column": null,
            "overflow_y": null,
            "overflow_x": null,
            "grid_auto_flow": null,
            "grid_area": null,
            "grid_template_columns": null,
            "flex": null,
            "_model_name": "LayoutModel",
            "justify_items": null,
            "grid_row": null,
            "max_height": null,
            "align_content": null,
            "visibility": null,
            "align_self": null,
            "height": null,
            "min_height": null,
            "padding": null,
            "grid_auto_rows": null,
            "grid_gap": null,
            "max_width": null,
            "order": null,
            "_view_module_version": "1.2.0",
            "grid_template_areas": null,
            "object_position": null,
            "object_fit": null,
            "grid_auto_columns": null,
            "margin": null,
            "display": null,
            "left": null
          }
        },
        "5bb514f094c24654afbbef8186563cfc": {
          "model_module": "@jupyter-widgets/controls",
          "model_name": "FloatProgressModel",
          "state": {
            "_view_name": "ProgressView",
            "style": "IPY_MODEL_5e35a741df1f40298e45320928f9dc40",
            "_dom_classes": [],
            "description": "Epoch 6: 100%",
            "_model_name": "FloatProgressModel",
            "bar_style": "",
            "max": 1563,
            "_view_module": "@jupyter-widgets/controls",
            "_model_module_version": "1.5.0",
            "value": 1563,
            "_view_count": null,
            "_view_module_version": "1.5.0",
            "orientation": "horizontal",
            "min": 0,
            "description_tooltip": null,
            "_model_module": "@jupyter-widgets/controls",
            "layout": "IPY_MODEL_5d0f35b061394f0985df2be487827676"
          }
        },
        "ce0009d65f184210b1a130535f0aed1d": {
          "model_module": "@jupyter-widgets/controls",
          "model_name": "HTMLModel",
          "state": {
            "_view_name": "HTMLView",
            "style": "IPY_MODEL_2b9fb90b2eb846609c93c23cee29e07f",
            "_dom_classes": [],
            "description": "",
            "_model_name": "HTMLModel",
            "placeholder": "​",
            "_view_module": "@jupyter-widgets/controls",
            "_model_module_version": "1.5.0",
            "value": " 1563/1563 [00:13&lt;00:00, 114.68it/s, loss=0.308]",
            "_view_count": null,
            "_view_module_version": "1.5.0",
            "description_tooltip": null,
            "_model_module": "@jupyter-widgets/controls",
            "layout": "IPY_MODEL_e176e72ac2994e9192ebd5120b236376"
          }
        },
        "5e35a741df1f40298e45320928f9dc40": {
          "model_module": "@jupyter-widgets/controls",
          "model_name": "ProgressStyleModel",
          "state": {
            "_view_name": "StyleView",
            "_model_name": "ProgressStyleModel",
            "description_width": "initial",
            "_view_module": "@jupyter-widgets/base",
            "_model_module_version": "1.5.0",
            "_view_count": null,
            "_view_module_version": "1.2.0",
            "bar_color": null,
            "_model_module": "@jupyter-widgets/controls"
          }
        },
        "5d0f35b061394f0985df2be487827676": {
          "model_module": "@jupyter-widgets/base",
          "model_name": "LayoutModel",
          "state": {
            "_view_name": "LayoutView",
            "grid_template_rows": null,
            "right": null,
            "justify_content": null,
            "_view_module": "@jupyter-widgets/base",
            "overflow": null,
            "_model_module_version": "1.2.0",
            "_view_count": null,
            "flex_flow": null,
            "width": null,
            "min_width": null,
            "border": null,
            "align_items": null,
            "bottom": null,
            "_model_module": "@jupyter-widgets/base",
            "top": null,
            "grid_column": null,
            "overflow_y": null,
            "overflow_x": null,
            "grid_auto_flow": null,
            "grid_area": null,
            "grid_template_columns": null,
            "flex": null,
            "_model_name": "LayoutModel",
            "justify_items": null,
            "grid_row": null,
            "max_height": null,
            "align_content": null,
            "visibility": null,
            "align_self": null,
            "height": null,
            "min_height": null,
            "padding": null,
            "grid_auto_rows": null,
            "grid_gap": null,
            "max_width": null,
            "order": null,
            "_view_module_version": "1.2.0",
            "grid_template_areas": null,
            "object_position": null,
            "object_fit": null,
            "grid_auto_columns": null,
            "margin": null,
            "display": null,
            "left": null
          }
        },
        "2b9fb90b2eb846609c93c23cee29e07f": {
          "model_module": "@jupyter-widgets/controls",
          "model_name": "DescriptionStyleModel",
          "state": {
            "_view_name": "StyleView",
            "_model_name": "DescriptionStyleModel",
            "description_width": "",
            "_view_module": "@jupyter-widgets/base",
            "_model_module_version": "1.5.0",
            "_view_count": null,
            "_view_module_version": "1.2.0",
            "_model_module": "@jupyter-widgets/controls"
          }
        },
        "e176e72ac2994e9192ebd5120b236376": {
          "model_module": "@jupyter-widgets/base",
          "model_name": "LayoutModel",
          "state": {
            "_view_name": "LayoutView",
            "grid_template_rows": null,
            "right": null,
            "justify_content": null,
            "_view_module": "@jupyter-widgets/base",
            "overflow": null,
            "_model_module_version": "1.2.0",
            "_view_count": null,
            "flex_flow": null,
            "width": null,
            "min_width": null,
            "border": null,
            "align_items": null,
            "bottom": null,
            "_model_module": "@jupyter-widgets/base",
            "top": null,
            "grid_column": null,
            "overflow_y": null,
            "overflow_x": null,
            "grid_auto_flow": null,
            "grid_area": null,
            "grid_template_columns": null,
            "flex": null,
            "_model_name": "LayoutModel",
            "justify_items": null,
            "grid_row": null,
            "max_height": null,
            "align_content": null,
            "visibility": null,
            "align_self": null,
            "height": null,
            "min_height": null,
            "padding": null,
            "grid_auto_rows": null,
            "grid_gap": null,
            "max_width": null,
            "order": null,
            "_view_module_version": "1.2.0",
            "grid_template_areas": null,
            "object_position": null,
            "object_fit": null,
            "grid_auto_columns": null,
            "margin": null,
            "display": null,
            "left": null
          }
        },
        "7c751e08a19d45dd96be6fa6cdf73f31": {
          "model_module": "@jupyter-widgets/controls",
          "model_name": "HBoxModel",
          "state": {
            "_view_name": "HBoxView",
            "_dom_classes": [],
            "_model_name": "HBoxModel",
            "_view_module": "@jupyter-widgets/controls",
            "_model_module_version": "1.5.0",
            "_view_count": null,
            "_view_module_version": "1.5.0",
            "box_style": "",
            "layout": "IPY_MODEL_ccbe5bc346334ac6961340749b25b909",
            "_model_module": "@jupyter-widgets/controls",
            "children": [
              "IPY_MODEL_c4f54765a7734dbe81429a82789ecaa1",
              "IPY_MODEL_c215356de9ad4ab8b7d9451f4615b106"
            ]
          }
        },
        "ccbe5bc346334ac6961340749b25b909": {
          "model_module": "@jupyter-widgets/base",
          "model_name": "LayoutModel",
          "state": {
            "_view_name": "LayoutView",
            "grid_template_rows": null,
            "right": null,
            "justify_content": null,
            "_view_module": "@jupyter-widgets/base",
            "overflow": null,
            "_model_module_version": "1.2.0",
            "_view_count": null,
            "flex_flow": null,
            "width": null,
            "min_width": null,
            "border": null,
            "align_items": null,
            "bottom": null,
            "_model_module": "@jupyter-widgets/base",
            "top": null,
            "grid_column": null,
            "overflow_y": null,
            "overflow_x": null,
            "grid_auto_flow": null,
            "grid_area": null,
            "grid_template_columns": null,
            "flex": null,
            "_model_name": "LayoutModel",
            "justify_items": null,
            "grid_row": null,
            "max_height": null,
            "align_content": null,
            "visibility": null,
            "align_self": null,
            "height": null,
            "min_height": null,
            "padding": null,
            "grid_auto_rows": null,
            "grid_gap": null,
            "max_width": null,
            "order": null,
            "_view_module_version": "1.2.0",
            "grid_template_areas": null,
            "object_position": null,
            "object_fit": null,
            "grid_auto_columns": null,
            "margin": null,
            "display": null,
            "left": null
          }
        },
        "c4f54765a7734dbe81429a82789ecaa1": {
          "model_module": "@jupyter-widgets/controls",
          "model_name": "FloatProgressModel",
          "state": {
            "_view_name": "ProgressView",
            "style": "IPY_MODEL_e243bbd4903b42e8994d13cf057ca512",
            "_dom_classes": [],
            "description": "100%",
            "_model_name": "FloatProgressModel",
            "bar_style": "",
            "max": 391,
            "_view_module": "@jupyter-widgets/controls",
            "_model_module_version": "1.5.0",
            "value": 391,
            "_view_count": null,
            "_view_module_version": "1.5.0",
            "orientation": "horizontal",
            "min": 0,
            "description_tooltip": null,
            "_model_module": "@jupyter-widgets/controls",
            "layout": "IPY_MODEL_9225a929d3f0406c84cbe4fc55d71025"
          }
        },
        "c215356de9ad4ab8b7d9451f4615b106": {
          "model_module": "@jupyter-widgets/controls",
          "model_name": "HTMLModel",
          "state": {
            "_view_name": "HTMLView",
            "style": "IPY_MODEL_d5fc52fec6d447288998b52bf3c7af3f",
            "_dom_classes": [],
            "description": "",
            "_model_name": "HTMLModel",
            "placeholder": "​",
            "_view_module": "@jupyter-widgets/controls",
            "_model_module_version": "1.5.0",
            "value": " 391/391 [00:00&lt;00:00, 393.07it/s]",
            "_view_count": null,
            "_view_module_version": "1.5.0",
            "description_tooltip": null,
            "_model_module": "@jupyter-widgets/controls",
            "layout": "IPY_MODEL_3f8f630f28f54e4abf5da9dfbe6c3985"
          }
        },
        "e243bbd4903b42e8994d13cf057ca512": {
          "model_module": "@jupyter-widgets/controls",
          "model_name": "ProgressStyleModel",
          "state": {
            "_view_name": "StyleView",
            "_model_name": "ProgressStyleModel",
            "description_width": "initial",
            "_view_module": "@jupyter-widgets/base",
            "_model_module_version": "1.5.0",
            "_view_count": null,
            "_view_module_version": "1.2.0",
            "bar_color": null,
            "_model_module": "@jupyter-widgets/controls"
          }
        },
        "9225a929d3f0406c84cbe4fc55d71025": {
          "model_module": "@jupyter-widgets/base",
          "model_name": "LayoutModel",
          "state": {
            "_view_name": "LayoutView",
            "grid_template_rows": null,
            "right": null,
            "justify_content": null,
            "_view_module": "@jupyter-widgets/base",
            "overflow": null,
            "_model_module_version": "1.2.0",
            "_view_count": null,
            "flex_flow": null,
            "width": null,
            "min_width": null,
            "border": null,
            "align_items": null,
            "bottom": null,
            "_model_module": "@jupyter-widgets/base",
            "top": null,
            "grid_column": null,
            "overflow_y": null,
            "overflow_x": null,
            "grid_auto_flow": null,
            "grid_area": null,
            "grid_template_columns": null,
            "flex": null,
            "_model_name": "LayoutModel",
            "justify_items": null,
            "grid_row": null,
            "max_height": null,
            "align_content": null,
            "visibility": null,
            "align_self": null,
            "height": null,
            "min_height": null,
            "padding": null,
            "grid_auto_rows": null,
            "grid_gap": null,
            "max_width": null,
            "order": null,
            "_view_module_version": "1.2.0",
            "grid_template_areas": null,
            "object_position": null,
            "object_fit": null,
            "grid_auto_columns": null,
            "margin": null,
            "display": null,
            "left": null
          }
        },
        "d5fc52fec6d447288998b52bf3c7af3f": {
          "model_module": "@jupyter-widgets/controls",
          "model_name": "DescriptionStyleModel",
          "state": {
            "_view_name": "StyleView",
            "_model_name": "DescriptionStyleModel",
            "description_width": "",
            "_view_module": "@jupyter-widgets/base",
            "_model_module_version": "1.5.0",
            "_view_count": null,
            "_view_module_version": "1.2.0",
            "_model_module": "@jupyter-widgets/controls"
          }
        },
        "3f8f630f28f54e4abf5da9dfbe6c3985": {
          "model_module": "@jupyter-widgets/base",
          "model_name": "LayoutModel",
          "state": {
            "_view_name": "LayoutView",
            "grid_template_rows": null,
            "right": null,
            "justify_content": null,
            "_view_module": "@jupyter-widgets/base",
            "overflow": null,
            "_model_module_version": "1.2.0",
            "_view_count": null,
            "flex_flow": null,
            "width": null,
            "min_width": null,
            "border": null,
            "align_items": null,
            "bottom": null,
            "_model_module": "@jupyter-widgets/base",
            "top": null,
            "grid_column": null,
            "overflow_y": null,
            "overflow_x": null,
            "grid_auto_flow": null,
            "grid_area": null,
            "grid_template_columns": null,
            "flex": null,
            "_model_name": "LayoutModel",
            "justify_items": null,
            "grid_row": null,
            "max_height": null,
            "align_content": null,
            "visibility": null,
            "align_self": null,
            "height": null,
            "min_height": null,
            "padding": null,
            "grid_auto_rows": null,
            "grid_gap": null,
            "max_width": null,
            "order": null,
            "_view_module_version": "1.2.0",
            "grid_template_areas": null,
            "object_position": null,
            "object_fit": null,
            "grid_auto_columns": null,
            "margin": null,
            "display": null,
            "left": null
          }
        },
        "a08a540c689645b591d57d8b7b3e423a": {
          "model_module": "@jupyter-widgets/controls",
          "model_name": "HBoxModel",
          "state": {
            "_view_name": "HBoxView",
            "_dom_classes": [],
            "_model_name": "HBoxModel",
            "_view_module": "@jupyter-widgets/controls",
            "_model_module_version": "1.5.0",
            "_view_count": null,
            "_view_module_version": "1.5.0",
            "box_style": "",
            "layout": "IPY_MODEL_6f2dce077bbd43709709b1371e07a14e",
            "_model_module": "@jupyter-widgets/controls",
            "children": [
              "IPY_MODEL_abb368956aa74785b1631e9bc13dbc76",
              "IPY_MODEL_bde1a5a8d0854c3da308b83a6cdc0b8b"
            ]
          }
        },
        "6f2dce077bbd43709709b1371e07a14e": {
          "model_module": "@jupyter-widgets/base",
          "model_name": "LayoutModel",
          "state": {
            "_view_name": "LayoutView",
            "grid_template_rows": null,
            "right": null,
            "justify_content": null,
            "_view_module": "@jupyter-widgets/base",
            "overflow": null,
            "_model_module_version": "1.2.0",
            "_view_count": null,
            "flex_flow": null,
            "width": null,
            "min_width": null,
            "border": null,
            "align_items": null,
            "bottom": null,
            "_model_module": "@jupyter-widgets/base",
            "top": null,
            "grid_column": null,
            "overflow_y": null,
            "overflow_x": null,
            "grid_auto_flow": null,
            "grid_area": null,
            "grid_template_columns": null,
            "flex": null,
            "_model_name": "LayoutModel",
            "justify_items": null,
            "grid_row": null,
            "max_height": null,
            "align_content": null,
            "visibility": null,
            "align_self": null,
            "height": null,
            "min_height": null,
            "padding": null,
            "grid_auto_rows": null,
            "grid_gap": null,
            "max_width": null,
            "order": null,
            "_view_module_version": "1.2.0",
            "grid_template_areas": null,
            "object_position": null,
            "object_fit": null,
            "grid_auto_columns": null,
            "margin": null,
            "display": null,
            "left": null
          }
        },
        "abb368956aa74785b1631e9bc13dbc76": {
          "model_module": "@jupyter-widgets/controls",
          "model_name": "FloatProgressModel",
          "state": {
            "_view_name": "ProgressView",
            "style": "IPY_MODEL_8cba4535acbc4338b901ae6769ba4c7b",
            "_dom_classes": [],
            "description": "Epoch 7: 100%",
            "_model_name": "FloatProgressModel",
            "bar_style": "",
            "max": 1563,
            "_view_module": "@jupyter-widgets/controls",
            "_model_module_version": "1.5.0",
            "value": 1563,
            "_view_count": null,
            "_view_module_version": "1.5.0",
            "orientation": "horizontal",
            "min": 0,
            "description_tooltip": null,
            "_model_module": "@jupyter-widgets/controls",
            "layout": "IPY_MODEL_c03cd6b5b763449a867ebc13c6dc241d"
          }
        },
        "bde1a5a8d0854c3da308b83a6cdc0b8b": {
          "model_module": "@jupyter-widgets/controls",
          "model_name": "HTMLModel",
          "state": {
            "_view_name": "HTMLView",
            "style": "IPY_MODEL_398fb2880bc248629684380c1216c716",
            "_dom_classes": [],
            "description": "",
            "_model_name": "HTMLModel",
            "placeholder": "​",
            "_view_module": "@jupyter-widgets/controls",
            "_model_module_version": "1.5.0",
            "value": " 1563/1563 [00:13&lt;00:00, 111.76it/s, loss=0.483]",
            "_view_count": null,
            "_view_module_version": "1.5.0",
            "description_tooltip": null,
            "_model_module": "@jupyter-widgets/controls",
            "layout": "IPY_MODEL_1038fe78bf4445d3ba44719decd7476e"
          }
        },
        "8cba4535acbc4338b901ae6769ba4c7b": {
          "model_module": "@jupyter-widgets/controls",
          "model_name": "ProgressStyleModel",
          "state": {
            "_view_name": "StyleView",
            "_model_name": "ProgressStyleModel",
            "description_width": "initial",
            "_view_module": "@jupyter-widgets/base",
            "_model_module_version": "1.5.0",
            "_view_count": null,
            "_view_module_version": "1.2.0",
            "bar_color": null,
            "_model_module": "@jupyter-widgets/controls"
          }
        },
        "c03cd6b5b763449a867ebc13c6dc241d": {
          "model_module": "@jupyter-widgets/base",
          "model_name": "LayoutModel",
          "state": {
            "_view_name": "LayoutView",
            "grid_template_rows": null,
            "right": null,
            "justify_content": null,
            "_view_module": "@jupyter-widgets/base",
            "overflow": null,
            "_model_module_version": "1.2.0",
            "_view_count": null,
            "flex_flow": null,
            "width": null,
            "min_width": null,
            "border": null,
            "align_items": null,
            "bottom": null,
            "_model_module": "@jupyter-widgets/base",
            "top": null,
            "grid_column": null,
            "overflow_y": null,
            "overflow_x": null,
            "grid_auto_flow": null,
            "grid_area": null,
            "grid_template_columns": null,
            "flex": null,
            "_model_name": "LayoutModel",
            "justify_items": null,
            "grid_row": null,
            "max_height": null,
            "align_content": null,
            "visibility": null,
            "align_self": null,
            "height": null,
            "min_height": null,
            "padding": null,
            "grid_auto_rows": null,
            "grid_gap": null,
            "max_width": null,
            "order": null,
            "_view_module_version": "1.2.0",
            "grid_template_areas": null,
            "object_position": null,
            "object_fit": null,
            "grid_auto_columns": null,
            "margin": null,
            "display": null,
            "left": null
          }
        },
        "398fb2880bc248629684380c1216c716": {
          "model_module": "@jupyter-widgets/controls",
          "model_name": "DescriptionStyleModel",
          "state": {
            "_view_name": "StyleView",
            "_model_name": "DescriptionStyleModel",
            "description_width": "",
            "_view_module": "@jupyter-widgets/base",
            "_model_module_version": "1.5.0",
            "_view_count": null,
            "_view_module_version": "1.2.0",
            "_model_module": "@jupyter-widgets/controls"
          }
        },
        "1038fe78bf4445d3ba44719decd7476e": {
          "model_module": "@jupyter-widgets/base",
          "model_name": "LayoutModel",
          "state": {
            "_view_name": "LayoutView",
            "grid_template_rows": null,
            "right": null,
            "justify_content": null,
            "_view_module": "@jupyter-widgets/base",
            "overflow": null,
            "_model_module_version": "1.2.0",
            "_view_count": null,
            "flex_flow": null,
            "width": null,
            "min_width": null,
            "border": null,
            "align_items": null,
            "bottom": null,
            "_model_module": "@jupyter-widgets/base",
            "top": null,
            "grid_column": null,
            "overflow_y": null,
            "overflow_x": null,
            "grid_auto_flow": null,
            "grid_area": null,
            "grid_template_columns": null,
            "flex": null,
            "_model_name": "LayoutModel",
            "justify_items": null,
            "grid_row": null,
            "max_height": null,
            "align_content": null,
            "visibility": null,
            "align_self": null,
            "height": null,
            "min_height": null,
            "padding": null,
            "grid_auto_rows": null,
            "grid_gap": null,
            "max_width": null,
            "order": null,
            "_view_module_version": "1.2.0",
            "grid_template_areas": null,
            "object_position": null,
            "object_fit": null,
            "grid_auto_columns": null,
            "margin": null,
            "display": null,
            "left": null
          }
        },
        "70c62317ccd14243b3bcbed5879e8e6c": {
          "model_module": "@jupyter-widgets/controls",
          "model_name": "HBoxModel",
          "state": {
            "_view_name": "HBoxView",
            "_dom_classes": [],
            "_model_name": "HBoxModel",
            "_view_module": "@jupyter-widgets/controls",
            "_model_module_version": "1.5.0",
            "_view_count": null,
            "_view_module_version": "1.5.0",
            "box_style": "",
            "layout": "IPY_MODEL_6e779d83e432467ab996c18c0a777e0f",
            "_model_module": "@jupyter-widgets/controls",
            "children": [
              "IPY_MODEL_fe3440ca6934420797dbddbc5657f747",
              "IPY_MODEL_57e1bcd328f34c73bb7ca5e2d64d9a44"
            ]
          }
        },
        "6e779d83e432467ab996c18c0a777e0f": {
          "model_module": "@jupyter-widgets/base",
          "model_name": "LayoutModel",
          "state": {
            "_view_name": "LayoutView",
            "grid_template_rows": null,
            "right": null,
            "justify_content": null,
            "_view_module": "@jupyter-widgets/base",
            "overflow": null,
            "_model_module_version": "1.2.0",
            "_view_count": null,
            "flex_flow": null,
            "width": null,
            "min_width": null,
            "border": null,
            "align_items": null,
            "bottom": null,
            "_model_module": "@jupyter-widgets/base",
            "top": null,
            "grid_column": null,
            "overflow_y": null,
            "overflow_x": null,
            "grid_auto_flow": null,
            "grid_area": null,
            "grid_template_columns": null,
            "flex": null,
            "_model_name": "LayoutModel",
            "justify_items": null,
            "grid_row": null,
            "max_height": null,
            "align_content": null,
            "visibility": null,
            "align_self": null,
            "height": null,
            "min_height": null,
            "padding": null,
            "grid_auto_rows": null,
            "grid_gap": null,
            "max_width": null,
            "order": null,
            "_view_module_version": "1.2.0",
            "grid_template_areas": null,
            "object_position": null,
            "object_fit": null,
            "grid_auto_columns": null,
            "margin": null,
            "display": null,
            "left": null
          }
        },
        "fe3440ca6934420797dbddbc5657f747": {
          "model_module": "@jupyter-widgets/controls",
          "model_name": "FloatProgressModel",
          "state": {
            "_view_name": "ProgressView",
            "style": "IPY_MODEL_5ea351100ec14d4188900da73d136008",
            "_dom_classes": [],
            "description": "100%",
            "_model_name": "FloatProgressModel",
            "bar_style": "",
            "max": 391,
            "_view_module": "@jupyter-widgets/controls",
            "_model_module_version": "1.5.0",
            "value": 391,
            "_view_count": null,
            "_view_module_version": "1.5.0",
            "orientation": "horizontal",
            "min": 0,
            "description_tooltip": null,
            "_model_module": "@jupyter-widgets/controls",
            "layout": "IPY_MODEL_baa8556d00454d8cb732cd580d329972"
          }
        },
        "57e1bcd328f34c73bb7ca5e2d64d9a44": {
          "model_module": "@jupyter-widgets/controls",
          "model_name": "HTMLModel",
          "state": {
            "_view_name": "HTMLView",
            "style": "IPY_MODEL_827084df5263455392259ad9e3f1c868",
            "_dom_classes": [],
            "description": "",
            "_model_name": "HTMLModel",
            "placeholder": "​",
            "_view_module": "@jupyter-widgets/controls",
            "_model_module_version": "1.5.0",
            "value": " 391/391 [00:00&lt;00:00, 402.72it/s]",
            "_view_count": null,
            "_view_module_version": "1.5.0",
            "description_tooltip": null,
            "_model_module": "@jupyter-widgets/controls",
            "layout": "IPY_MODEL_bd8752d4a0d54ec6a0a219c8070f3112"
          }
        },
        "5ea351100ec14d4188900da73d136008": {
          "model_module": "@jupyter-widgets/controls",
          "model_name": "ProgressStyleModel",
          "state": {
            "_view_name": "StyleView",
            "_model_name": "ProgressStyleModel",
            "description_width": "initial",
            "_view_module": "@jupyter-widgets/base",
            "_model_module_version": "1.5.0",
            "_view_count": null,
            "_view_module_version": "1.2.0",
            "bar_color": null,
            "_model_module": "@jupyter-widgets/controls"
          }
        },
        "baa8556d00454d8cb732cd580d329972": {
          "model_module": "@jupyter-widgets/base",
          "model_name": "LayoutModel",
          "state": {
            "_view_name": "LayoutView",
            "grid_template_rows": null,
            "right": null,
            "justify_content": null,
            "_view_module": "@jupyter-widgets/base",
            "overflow": null,
            "_model_module_version": "1.2.0",
            "_view_count": null,
            "flex_flow": null,
            "width": null,
            "min_width": null,
            "border": null,
            "align_items": null,
            "bottom": null,
            "_model_module": "@jupyter-widgets/base",
            "top": null,
            "grid_column": null,
            "overflow_y": null,
            "overflow_x": null,
            "grid_auto_flow": null,
            "grid_area": null,
            "grid_template_columns": null,
            "flex": null,
            "_model_name": "LayoutModel",
            "justify_items": null,
            "grid_row": null,
            "max_height": null,
            "align_content": null,
            "visibility": null,
            "align_self": null,
            "height": null,
            "min_height": null,
            "padding": null,
            "grid_auto_rows": null,
            "grid_gap": null,
            "max_width": null,
            "order": null,
            "_view_module_version": "1.2.0",
            "grid_template_areas": null,
            "object_position": null,
            "object_fit": null,
            "grid_auto_columns": null,
            "margin": null,
            "display": null,
            "left": null
          }
        },
        "827084df5263455392259ad9e3f1c868": {
          "model_module": "@jupyter-widgets/controls",
          "model_name": "DescriptionStyleModel",
          "state": {
            "_view_name": "StyleView",
            "_model_name": "DescriptionStyleModel",
            "description_width": "",
            "_view_module": "@jupyter-widgets/base",
            "_model_module_version": "1.5.0",
            "_view_count": null,
            "_view_module_version": "1.2.0",
            "_model_module": "@jupyter-widgets/controls"
          }
        },
        "bd8752d4a0d54ec6a0a219c8070f3112": {
          "model_module": "@jupyter-widgets/base",
          "model_name": "LayoutModel",
          "state": {
            "_view_name": "LayoutView",
            "grid_template_rows": null,
            "right": null,
            "justify_content": null,
            "_view_module": "@jupyter-widgets/base",
            "overflow": null,
            "_model_module_version": "1.2.0",
            "_view_count": null,
            "flex_flow": null,
            "width": null,
            "min_width": null,
            "border": null,
            "align_items": null,
            "bottom": null,
            "_model_module": "@jupyter-widgets/base",
            "top": null,
            "grid_column": null,
            "overflow_y": null,
            "overflow_x": null,
            "grid_auto_flow": null,
            "grid_area": null,
            "grid_template_columns": null,
            "flex": null,
            "_model_name": "LayoutModel",
            "justify_items": null,
            "grid_row": null,
            "max_height": null,
            "align_content": null,
            "visibility": null,
            "align_self": null,
            "height": null,
            "min_height": null,
            "padding": null,
            "grid_auto_rows": null,
            "grid_gap": null,
            "max_width": null,
            "order": null,
            "_view_module_version": "1.2.0",
            "grid_template_areas": null,
            "object_position": null,
            "object_fit": null,
            "grid_auto_columns": null,
            "margin": null,
            "display": null,
            "left": null
          }
        },
        "cefde4bad7864c09bd66a35866dd567a": {
          "model_module": "@jupyter-widgets/controls",
          "model_name": "HBoxModel",
          "state": {
            "_view_name": "HBoxView",
            "_dom_classes": [],
            "_model_name": "HBoxModel",
            "_view_module": "@jupyter-widgets/controls",
            "_model_module_version": "1.5.0",
            "_view_count": null,
            "_view_module_version": "1.5.0",
            "box_style": "",
            "layout": "IPY_MODEL_cc0e575ed8af451882cf7e01e1c19f7e",
            "_model_module": "@jupyter-widgets/controls",
            "children": [
              "IPY_MODEL_3a667cbfb7bb4876922ce9382927b34f",
              "IPY_MODEL_dfda274b851542a3a5bc7b275ffd19bf"
            ]
          }
        },
        "cc0e575ed8af451882cf7e01e1c19f7e": {
          "model_module": "@jupyter-widgets/base",
          "model_name": "LayoutModel",
          "state": {
            "_view_name": "LayoutView",
            "grid_template_rows": null,
            "right": null,
            "justify_content": null,
            "_view_module": "@jupyter-widgets/base",
            "overflow": null,
            "_model_module_version": "1.2.0",
            "_view_count": null,
            "flex_flow": null,
            "width": null,
            "min_width": null,
            "border": null,
            "align_items": null,
            "bottom": null,
            "_model_module": "@jupyter-widgets/base",
            "top": null,
            "grid_column": null,
            "overflow_y": null,
            "overflow_x": null,
            "grid_auto_flow": null,
            "grid_area": null,
            "grid_template_columns": null,
            "flex": null,
            "_model_name": "LayoutModel",
            "justify_items": null,
            "grid_row": null,
            "max_height": null,
            "align_content": null,
            "visibility": null,
            "align_self": null,
            "height": null,
            "min_height": null,
            "padding": null,
            "grid_auto_rows": null,
            "grid_gap": null,
            "max_width": null,
            "order": null,
            "_view_module_version": "1.2.0",
            "grid_template_areas": null,
            "object_position": null,
            "object_fit": null,
            "grid_auto_columns": null,
            "margin": null,
            "display": null,
            "left": null
          }
        },
        "3a667cbfb7bb4876922ce9382927b34f": {
          "model_module": "@jupyter-widgets/controls",
          "model_name": "FloatProgressModel",
          "state": {
            "_view_name": "ProgressView",
            "style": "IPY_MODEL_c59bec8fd01f46fab0b00097ad4d37c5",
            "_dom_classes": [],
            "description": "Epoch 8: 100%",
            "_model_name": "FloatProgressModel",
            "bar_style": "",
            "max": 1563,
            "_view_module": "@jupyter-widgets/controls",
            "_model_module_version": "1.5.0",
            "value": 1563,
            "_view_count": null,
            "_view_module_version": "1.5.0",
            "orientation": "horizontal",
            "min": 0,
            "description_tooltip": null,
            "_model_module": "@jupyter-widgets/controls",
            "layout": "IPY_MODEL_8ba8041108d44be187155b49c6c4daf3"
          }
        },
        "dfda274b851542a3a5bc7b275ffd19bf": {
          "model_module": "@jupyter-widgets/controls",
          "model_name": "HTMLModel",
          "state": {
            "_view_name": "HTMLView",
            "style": "IPY_MODEL_8909ace7df4049c096afaf115f2fc155",
            "_dom_classes": [],
            "description": "",
            "_model_name": "HTMLModel",
            "placeholder": "​",
            "_view_module": "@jupyter-widgets/controls",
            "_model_module_version": "1.5.0",
            "value": " 1563/1563 [00:13&lt;00:00, 116.36it/s, loss=0.206]",
            "_view_count": null,
            "_view_module_version": "1.5.0",
            "description_tooltip": null,
            "_model_module": "@jupyter-widgets/controls",
            "layout": "IPY_MODEL_76d8e309fc9945aa96ece893b90fc9f6"
          }
        },
        "c59bec8fd01f46fab0b00097ad4d37c5": {
          "model_module": "@jupyter-widgets/controls",
          "model_name": "ProgressStyleModel",
          "state": {
            "_view_name": "StyleView",
            "_model_name": "ProgressStyleModel",
            "description_width": "initial",
            "_view_module": "@jupyter-widgets/base",
            "_model_module_version": "1.5.0",
            "_view_count": null,
            "_view_module_version": "1.2.0",
            "bar_color": null,
            "_model_module": "@jupyter-widgets/controls"
          }
        },
        "8ba8041108d44be187155b49c6c4daf3": {
          "model_module": "@jupyter-widgets/base",
          "model_name": "LayoutModel",
          "state": {
            "_view_name": "LayoutView",
            "grid_template_rows": null,
            "right": null,
            "justify_content": null,
            "_view_module": "@jupyter-widgets/base",
            "overflow": null,
            "_model_module_version": "1.2.0",
            "_view_count": null,
            "flex_flow": null,
            "width": null,
            "min_width": null,
            "border": null,
            "align_items": null,
            "bottom": null,
            "_model_module": "@jupyter-widgets/base",
            "top": null,
            "grid_column": null,
            "overflow_y": null,
            "overflow_x": null,
            "grid_auto_flow": null,
            "grid_area": null,
            "grid_template_columns": null,
            "flex": null,
            "_model_name": "LayoutModel",
            "justify_items": null,
            "grid_row": null,
            "max_height": null,
            "align_content": null,
            "visibility": null,
            "align_self": null,
            "height": null,
            "min_height": null,
            "padding": null,
            "grid_auto_rows": null,
            "grid_gap": null,
            "max_width": null,
            "order": null,
            "_view_module_version": "1.2.0",
            "grid_template_areas": null,
            "object_position": null,
            "object_fit": null,
            "grid_auto_columns": null,
            "margin": null,
            "display": null,
            "left": null
          }
        },
        "8909ace7df4049c096afaf115f2fc155": {
          "model_module": "@jupyter-widgets/controls",
          "model_name": "DescriptionStyleModel",
          "state": {
            "_view_name": "StyleView",
            "_model_name": "DescriptionStyleModel",
            "description_width": "",
            "_view_module": "@jupyter-widgets/base",
            "_model_module_version": "1.5.0",
            "_view_count": null,
            "_view_module_version": "1.2.0",
            "_model_module": "@jupyter-widgets/controls"
          }
        },
        "76d8e309fc9945aa96ece893b90fc9f6": {
          "model_module": "@jupyter-widgets/base",
          "model_name": "LayoutModel",
          "state": {
            "_view_name": "LayoutView",
            "grid_template_rows": null,
            "right": null,
            "justify_content": null,
            "_view_module": "@jupyter-widgets/base",
            "overflow": null,
            "_model_module_version": "1.2.0",
            "_view_count": null,
            "flex_flow": null,
            "width": null,
            "min_width": null,
            "border": null,
            "align_items": null,
            "bottom": null,
            "_model_module": "@jupyter-widgets/base",
            "top": null,
            "grid_column": null,
            "overflow_y": null,
            "overflow_x": null,
            "grid_auto_flow": null,
            "grid_area": null,
            "grid_template_columns": null,
            "flex": null,
            "_model_name": "LayoutModel",
            "justify_items": null,
            "grid_row": null,
            "max_height": null,
            "align_content": null,
            "visibility": null,
            "align_self": null,
            "height": null,
            "min_height": null,
            "padding": null,
            "grid_auto_rows": null,
            "grid_gap": null,
            "max_width": null,
            "order": null,
            "_view_module_version": "1.2.0",
            "grid_template_areas": null,
            "object_position": null,
            "object_fit": null,
            "grid_auto_columns": null,
            "margin": null,
            "display": null,
            "left": null
          }
        },
        "6cbd3ce154204af9a7e26583045f0931": {
          "model_module": "@jupyter-widgets/controls",
          "model_name": "HBoxModel",
          "state": {
            "_view_name": "HBoxView",
            "_dom_classes": [],
            "_model_name": "HBoxModel",
            "_view_module": "@jupyter-widgets/controls",
            "_model_module_version": "1.5.0",
            "_view_count": null,
            "_view_module_version": "1.5.0",
            "box_style": "",
            "layout": "IPY_MODEL_b44cc73c0acf44818deef5fb12509cb6",
            "_model_module": "@jupyter-widgets/controls",
            "children": [
              "IPY_MODEL_4c2ece346a4a48689239cf94b22dd5d3",
              "IPY_MODEL_1ebccd220b6c4ba9bd0765bd41a2e1b6"
            ]
          }
        },
        "b44cc73c0acf44818deef5fb12509cb6": {
          "model_module": "@jupyter-widgets/base",
          "model_name": "LayoutModel",
          "state": {
            "_view_name": "LayoutView",
            "grid_template_rows": null,
            "right": null,
            "justify_content": null,
            "_view_module": "@jupyter-widgets/base",
            "overflow": null,
            "_model_module_version": "1.2.0",
            "_view_count": null,
            "flex_flow": null,
            "width": null,
            "min_width": null,
            "border": null,
            "align_items": null,
            "bottom": null,
            "_model_module": "@jupyter-widgets/base",
            "top": null,
            "grid_column": null,
            "overflow_y": null,
            "overflow_x": null,
            "grid_auto_flow": null,
            "grid_area": null,
            "grid_template_columns": null,
            "flex": null,
            "_model_name": "LayoutModel",
            "justify_items": null,
            "grid_row": null,
            "max_height": null,
            "align_content": null,
            "visibility": null,
            "align_self": null,
            "height": null,
            "min_height": null,
            "padding": null,
            "grid_auto_rows": null,
            "grid_gap": null,
            "max_width": null,
            "order": null,
            "_view_module_version": "1.2.0",
            "grid_template_areas": null,
            "object_position": null,
            "object_fit": null,
            "grid_auto_columns": null,
            "margin": null,
            "display": null,
            "left": null
          }
        },
        "4c2ece346a4a48689239cf94b22dd5d3": {
          "model_module": "@jupyter-widgets/controls",
          "model_name": "FloatProgressModel",
          "state": {
            "_view_name": "ProgressView",
            "style": "IPY_MODEL_7574bceb21324b1b91c4cfc4cdab0d1e",
            "_dom_classes": [],
            "description": "100%",
            "_model_name": "FloatProgressModel",
            "bar_style": "",
            "max": 391,
            "_view_module": "@jupyter-widgets/controls",
            "_model_module_version": "1.5.0",
            "value": 391,
            "_view_count": null,
            "_view_module_version": "1.5.0",
            "orientation": "horizontal",
            "min": 0,
            "description_tooltip": null,
            "_model_module": "@jupyter-widgets/controls",
            "layout": "IPY_MODEL_c120249fec5c4574a882a0bd683f91cd"
          }
        },
        "1ebccd220b6c4ba9bd0765bd41a2e1b6": {
          "model_module": "@jupyter-widgets/controls",
          "model_name": "HTMLModel",
          "state": {
            "_view_name": "HTMLView",
            "style": "IPY_MODEL_aac739fe17d74d39853a51ef7a2a708a",
            "_dom_classes": [],
            "description": "",
            "_model_name": "HTMLModel",
            "placeholder": "​",
            "_view_module": "@jupyter-widgets/controls",
            "_model_module_version": "1.5.0",
            "value": " 391/391 [00:00&lt;00:00, 392.88it/s]",
            "_view_count": null,
            "_view_module_version": "1.5.0",
            "description_tooltip": null,
            "_model_module": "@jupyter-widgets/controls",
            "layout": "IPY_MODEL_25d357f838b44d38bf8ce2a1ad4aa939"
          }
        },
        "7574bceb21324b1b91c4cfc4cdab0d1e": {
          "model_module": "@jupyter-widgets/controls",
          "model_name": "ProgressStyleModel",
          "state": {
            "_view_name": "StyleView",
            "_model_name": "ProgressStyleModel",
            "description_width": "initial",
            "_view_module": "@jupyter-widgets/base",
            "_model_module_version": "1.5.0",
            "_view_count": null,
            "_view_module_version": "1.2.0",
            "bar_color": null,
            "_model_module": "@jupyter-widgets/controls"
          }
        },
        "c120249fec5c4574a882a0bd683f91cd": {
          "model_module": "@jupyter-widgets/base",
          "model_name": "LayoutModel",
          "state": {
            "_view_name": "LayoutView",
            "grid_template_rows": null,
            "right": null,
            "justify_content": null,
            "_view_module": "@jupyter-widgets/base",
            "overflow": null,
            "_model_module_version": "1.2.0",
            "_view_count": null,
            "flex_flow": null,
            "width": null,
            "min_width": null,
            "border": null,
            "align_items": null,
            "bottom": null,
            "_model_module": "@jupyter-widgets/base",
            "top": null,
            "grid_column": null,
            "overflow_y": null,
            "overflow_x": null,
            "grid_auto_flow": null,
            "grid_area": null,
            "grid_template_columns": null,
            "flex": null,
            "_model_name": "LayoutModel",
            "justify_items": null,
            "grid_row": null,
            "max_height": null,
            "align_content": null,
            "visibility": null,
            "align_self": null,
            "height": null,
            "min_height": null,
            "padding": null,
            "grid_auto_rows": null,
            "grid_gap": null,
            "max_width": null,
            "order": null,
            "_view_module_version": "1.2.0",
            "grid_template_areas": null,
            "object_position": null,
            "object_fit": null,
            "grid_auto_columns": null,
            "margin": null,
            "display": null,
            "left": null
          }
        },
        "aac739fe17d74d39853a51ef7a2a708a": {
          "model_module": "@jupyter-widgets/controls",
          "model_name": "DescriptionStyleModel",
          "state": {
            "_view_name": "StyleView",
            "_model_name": "DescriptionStyleModel",
            "description_width": "",
            "_view_module": "@jupyter-widgets/base",
            "_model_module_version": "1.5.0",
            "_view_count": null,
            "_view_module_version": "1.2.0",
            "_model_module": "@jupyter-widgets/controls"
          }
        },
        "25d357f838b44d38bf8ce2a1ad4aa939": {
          "model_module": "@jupyter-widgets/base",
          "model_name": "LayoutModel",
          "state": {
            "_view_name": "LayoutView",
            "grid_template_rows": null,
            "right": null,
            "justify_content": null,
            "_view_module": "@jupyter-widgets/base",
            "overflow": null,
            "_model_module_version": "1.2.0",
            "_view_count": null,
            "flex_flow": null,
            "width": null,
            "min_width": null,
            "border": null,
            "align_items": null,
            "bottom": null,
            "_model_module": "@jupyter-widgets/base",
            "top": null,
            "grid_column": null,
            "overflow_y": null,
            "overflow_x": null,
            "grid_auto_flow": null,
            "grid_area": null,
            "grid_template_columns": null,
            "flex": null,
            "_model_name": "LayoutModel",
            "justify_items": null,
            "grid_row": null,
            "max_height": null,
            "align_content": null,
            "visibility": null,
            "align_self": null,
            "height": null,
            "min_height": null,
            "padding": null,
            "grid_auto_rows": null,
            "grid_gap": null,
            "max_width": null,
            "order": null,
            "_view_module_version": "1.2.0",
            "grid_template_areas": null,
            "object_position": null,
            "object_fit": null,
            "grid_auto_columns": null,
            "margin": null,
            "display": null,
            "left": null
          }
        },
        "b424924e65114c4494e162ec4ba465d1": {
          "model_module": "@jupyter-widgets/controls",
          "model_name": "HBoxModel",
          "state": {
            "_view_name": "HBoxView",
            "_dom_classes": [],
            "_model_name": "HBoxModel",
            "_view_module": "@jupyter-widgets/controls",
            "_model_module_version": "1.5.0",
            "_view_count": null,
            "_view_module_version": "1.5.0",
            "box_style": "",
            "layout": "IPY_MODEL_cd84ddb3867540fd879a86db1f1ca9ec",
            "_model_module": "@jupyter-widgets/controls",
            "children": [
              "IPY_MODEL_960ce0b22720425d884208a427eb9981",
              "IPY_MODEL_2f1860dde332449db9c44d23124361db"
            ]
          }
        },
        "cd84ddb3867540fd879a86db1f1ca9ec": {
          "model_module": "@jupyter-widgets/base",
          "model_name": "LayoutModel",
          "state": {
            "_view_name": "LayoutView",
            "grid_template_rows": null,
            "right": null,
            "justify_content": null,
            "_view_module": "@jupyter-widgets/base",
            "overflow": null,
            "_model_module_version": "1.2.0",
            "_view_count": null,
            "flex_flow": null,
            "width": null,
            "min_width": null,
            "border": null,
            "align_items": null,
            "bottom": null,
            "_model_module": "@jupyter-widgets/base",
            "top": null,
            "grid_column": null,
            "overflow_y": null,
            "overflow_x": null,
            "grid_auto_flow": null,
            "grid_area": null,
            "grid_template_columns": null,
            "flex": null,
            "_model_name": "LayoutModel",
            "justify_items": null,
            "grid_row": null,
            "max_height": null,
            "align_content": null,
            "visibility": null,
            "align_self": null,
            "height": null,
            "min_height": null,
            "padding": null,
            "grid_auto_rows": null,
            "grid_gap": null,
            "max_width": null,
            "order": null,
            "_view_module_version": "1.2.0",
            "grid_template_areas": null,
            "object_position": null,
            "object_fit": null,
            "grid_auto_columns": null,
            "margin": null,
            "display": null,
            "left": null
          }
        },
        "960ce0b22720425d884208a427eb9981": {
          "model_module": "@jupyter-widgets/controls",
          "model_name": "FloatProgressModel",
          "state": {
            "_view_name": "ProgressView",
            "style": "IPY_MODEL_1aa54585ae614ae1a7ecdf83bc2d599c",
            "_dom_classes": [],
            "description": "Epoch 9: 100%",
            "_model_name": "FloatProgressModel",
            "bar_style": "",
            "max": 1563,
            "_view_module": "@jupyter-widgets/controls",
            "_model_module_version": "1.5.0",
            "value": 1563,
            "_view_count": null,
            "_view_module_version": "1.5.0",
            "orientation": "horizontal",
            "min": 0,
            "description_tooltip": null,
            "_model_module": "@jupyter-widgets/controls",
            "layout": "IPY_MODEL_a1fa773990b140d895c67ded91ac2164"
          }
        },
        "2f1860dde332449db9c44d23124361db": {
          "model_module": "@jupyter-widgets/controls",
          "model_name": "HTMLModel",
          "state": {
            "_view_name": "HTMLView",
            "style": "IPY_MODEL_0e73326c7bd542a886cb76207de38f7c",
            "_dom_classes": [],
            "description": "",
            "_model_name": "HTMLModel",
            "placeholder": "​",
            "_view_module": "@jupyter-widgets/controls",
            "_model_module_version": "1.5.0",
            "value": " 1563/1563 [00:13&lt;00:00, 113.08it/s, loss=0.258]",
            "_view_count": null,
            "_view_module_version": "1.5.0",
            "description_tooltip": null,
            "_model_module": "@jupyter-widgets/controls",
            "layout": "IPY_MODEL_bde2f68d70cf41d3a0914823a04f7258"
          }
        },
        "1aa54585ae614ae1a7ecdf83bc2d599c": {
          "model_module": "@jupyter-widgets/controls",
          "model_name": "ProgressStyleModel",
          "state": {
            "_view_name": "StyleView",
            "_model_name": "ProgressStyleModel",
            "description_width": "initial",
            "_view_module": "@jupyter-widgets/base",
            "_model_module_version": "1.5.0",
            "_view_count": null,
            "_view_module_version": "1.2.0",
            "bar_color": null,
            "_model_module": "@jupyter-widgets/controls"
          }
        },
        "a1fa773990b140d895c67ded91ac2164": {
          "model_module": "@jupyter-widgets/base",
          "model_name": "LayoutModel",
          "state": {
            "_view_name": "LayoutView",
            "grid_template_rows": null,
            "right": null,
            "justify_content": null,
            "_view_module": "@jupyter-widgets/base",
            "overflow": null,
            "_model_module_version": "1.2.0",
            "_view_count": null,
            "flex_flow": null,
            "width": null,
            "min_width": null,
            "border": null,
            "align_items": null,
            "bottom": null,
            "_model_module": "@jupyter-widgets/base",
            "top": null,
            "grid_column": null,
            "overflow_y": null,
            "overflow_x": null,
            "grid_auto_flow": null,
            "grid_area": null,
            "grid_template_columns": null,
            "flex": null,
            "_model_name": "LayoutModel",
            "justify_items": null,
            "grid_row": null,
            "max_height": null,
            "align_content": null,
            "visibility": null,
            "align_self": null,
            "height": null,
            "min_height": null,
            "padding": null,
            "grid_auto_rows": null,
            "grid_gap": null,
            "max_width": null,
            "order": null,
            "_view_module_version": "1.2.0",
            "grid_template_areas": null,
            "object_position": null,
            "object_fit": null,
            "grid_auto_columns": null,
            "margin": null,
            "display": null,
            "left": null
          }
        },
        "0e73326c7bd542a886cb76207de38f7c": {
          "model_module": "@jupyter-widgets/controls",
          "model_name": "DescriptionStyleModel",
          "state": {
            "_view_name": "StyleView",
            "_model_name": "DescriptionStyleModel",
            "description_width": "",
            "_view_module": "@jupyter-widgets/base",
            "_model_module_version": "1.5.0",
            "_view_count": null,
            "_view_module_version": "1.2.0",
            "_model_module": "@jupyter-widgets/controls"
          }
        },
        "bde2f68d70cf41d3a0914823a04f7258": {
          "model_module": "@jupyter-widgets/base",
          "model_name": "LayoutModel",
          "state": {
            "_view_name": "LayoutView",
            "grid_template_rows": null,
            "right": null,
            "justify_content": null,
            "_view_module": "@jupyter-widgets/base",
            "overflow": null,
            "_model_module_version": "1.2.0",
            "_view_count": null,
            "flex_flow": null,
            "width": null,
            "min_width": null,
            "border": null,
            "align_items": null,
            "bottom": null,
            "_model_module": "@jupyter-widgets/base",
            "top": null,
            "grid_column": null,
            "overflow_y": null,
            "overflow_x": null,
            "grid_auto_flow": null,
            "grid_area": null,
            "grid_template_columns": null,
            "flex": null,
            "_model_name": "LayoutModel",
            "justify_items": null,
            "grid_row": null,
            "max_height": null,
            "align_content": null,
            "visibility": null,
            "align_self": null,
            "height": null,
            "min_height": null,
            "padding": null,
            "grid_auto_rows": null,
            "grid_gap": null,
            "max_width": null,
            "order": null,
            "_view_module_version": "1.2.0",
            "grid_template_areas": null,
            "object_position": null,
            "object_fit": null,
            "grid_auto_columns": null,
            "margin": null,
            "display": null,
            "left": null
          }
        },
        "b0655bbf9a4a45da8b8fde5e1da458d2": {
          "model_module": "@jupyter-widgets/controls",
          "model_name": "HBoxModel",
          "state": {
            "_view_name": "HBoxView",
            "_dom_classes": [],
            "_model_name": "HBoxModel",
            "_view_module": "@jupyter-widgets/controls",
            "_model_module_version": "1.5.0",
            "_view_count": null,
            "_view_module_version": "1.5.0",
            "box_style": "",
            "layout": "IPY_MODEL_8421f057b6f54a6c901c6256bb33ab2d",
            "_model_module": "@jupyter-widgets/controls",
            "children": [
              "IPY_MODEL_0da6244fd5934aaca6711c2b126bc031",
              "IPY_MODEL_f5d663b76e2944e5a56d230f05173d0e"
            ]
          }
        },
        "8421f057b6f54a6c901c6256bb33ab2d": {
          "model_module": "@jupyter-widgets/base",
          "model_name": "LayoutModel",
          "state": {
            "_view_name": "LayoutView",
            "grid_template_rows": null,
            "right": null,
            "justify_content": null,
            "_view_module": "@jupyter-widgets/base",
            "overflow": null,
            "_model_module_version": "1.2.0",
            "_view_count": null,
            "flex_flow": null,
            "width": null,
            "min_width": null,
            "border": null,
            "align_items": null,
            "bottom": null,
            "_model_module": "@jupyter-widgets/base",
            "top": null,
            "grid_column": null,
            "overflow_y": null,
            "overflow_x": null,
            "grid_auto_flow": null,
            "grid_area": null,
            "grid_template_columns": null,
            "flex": null,
            "_model_name": "LayoutModel",
            "justify_items": null,
            "grid_row": null,
            "max_height": null,
            "align_content": null,
            "visibility": null,
            "align_self": null,
            "height": null,
            "min_height": null,
            "padding": null,
            "grid_auto_rows": null,
            "grid_gap": null,
            "max_width": null,
            "order": null,
            "_view_module_version": "1.2.0",
            "grid_template_areas": null,
            "object_position": null,
            "object_fit": null,
            "grid_auto_columns": null,
            "margin": null,
            "display": null,
            "left": null
          }
        },
        "0da6244fd5934aaca6711c2b126bc031": {
          "model_module": "@jupyter-widgets/controls",
          "model_name": "FloatProgressModel",
          "state": {
            "_view_name": "ProgressView",
            "style": "IPY_MODEL_c240b0e4ea554005a268756e9d904bd8",
            "_dom_classes": [],
            "description": "100%",
            "_model_name": "FloatProgressModel",
            "bar_style": "",
            "max": 391,
            "_view_module": "@jupyter-widgets/controls",
            "_model_module_version": "1.5.0",
            "value": 391,
            "_view_count": null,
            "_view_module_version": "1.5.0",
            "orientation": "horizontal",
            "min": 0,
            "description_tooltip": null,
            "_model_module": "@jupyter-widgets/controls",
            "layout": "IPY_MODEL_d8261b647f4849aaa8d230f6ece2b1e6"
          }
        },
        "f5d663b76e2944e5a56d230f05173d0e": {
          "model_module": "@jupyter-widgets/controls",
          "model_name": "HTMLModel",
          "state": {
            "_view_name": "HTMLView",
            "style": "IPY_MODEL_3926e59c3a0644469c25693f398b3ff8",
            "_dom_classes": [],
            "description": "",
            "_model_name": "HTMLModel",
            "placeholder": "​",
            "_view_module": "@jupyter-widgets/controls",
            "_model_module_version": "1.5.0",
            "value": " 391/391 [00:01&lt;00:00, 371.63it/s]",
            "_view_count": null,
            "_view_module_version": "1.5.0",
            "description_tooltip": null,
            "_model_module": "@jupyter-widgets/controls",
            "layout": "IPY_MODEL_9f52893a3eac4c359eac2a9eaaacc87b"
          }
        },
        "c240b0e4ea554005a268756e9d904bd8": {
          "model_module": "@jupyter-widgets/controls",
          "model_name": "ProgressStyleModel",
          "state": {
            "_view_name": "StyleView",
            "_model_name": "ProgressStyleModel",
            "description_width": "initial",
            "_view_module": "@jupyter-widgets/base",
            "_model_module_version": "1.5.0",
            "_view_count": null,
            "_view_module_version": "1.2.0",
            "bar_color": null,
            "_model_module": "@jupyter-widgets/controls"
          }
        },
        "d8261b647f4849aaa8d230f6ece2b1e6": {
          "model_module": "@jupyter-widgets/base",
          "model_name": "LayoutModel",
          "state": {
            "_view_name": "LayoutView",
            "grid_template_rows": null,
            "right": null,
            "justify_content": null,
            "_view_module": "@jupyter-widgets/base",
            "overflow": null,
            "_model_module_version": "1.2.0",
            "_view_count": null,
            "flex_flow": null,
            "width": null,
            "min_width": null,
            "border": null,
            "align_items": null,
            "bottom": null,
            "_model_module": "@jupyter-widgets/base",
            "top": null,
            "grid_column": null,
            "overflow_y": null,
            "overflow_x": null,
            "grid_auto_flow": null,
            "grid_area": null,
            "grid_template_columns": null,
            "flex": null,
            "_model_name": "LayoutModel",
            "justify_items": null,
            "grid_row": null,
            "max_height": null,
            "align_content": null,
            "visibility": null,
            "align_self": null,
            "height": null,
            "min_height": null,
            "padding": null,
            "grid_auto_rows": null,
            "grid_gap": null,
            "max_width": null,
            "order": null,
            "_view_module_version": "1.2.0",
            "grid_template_areas": null,
            "object_position": null,
            "object_fit": null,
            "grid_auto_columns": null,
            "margin": null,
            "display": null,
            "left": null
          }
        },
        "3926e59c3a0644469c25693f398b3ff8": {
          "model_module": "@jupyter-widgets/controls",
          "model_name": "DescriptionStyleModel",
          "state": {
            "_view_name": "StyleView",
            "_model_name": "DescriptionStyleModel",
            "description_width": "",
            "_view_module": "@jupyter-widgets/base",
            "_model_module_version": "1.5.0",
            "_view_count": null,
            "_view_module_version": "1.2.0",
            "_model_module": "@jupyter-widgets/controls"
          }
        },
        "9f52893a3eac4c359eac2a9eaaacc87b": {
          "model_module": "@jupyter-widgets/base",
          "model_name": "LayoutModel",
          "state": {
            "_view_name": "LayoutView",
            "grid_template_rows": null,
            "right": null,
            "justify_content": null,
            "_view_module": "@jupyter-widgets/base",
            "overflow": null,
            "_model_module_version": "1.2.0",
            "_view_count": null,
            "flex_flow": null,
            "width": null,
            "min_width": null,
            "border": null,
            "align_items": null,
            "bottom": null,
            "_model_module": "@jupyter-widgets/base",
            "top": null,
            "grid_column": null,
            "overflow_y": null,
            "overflow_x": null,
            "grid_auto_flow": null,
            "grid_area": null,
            "grid_template_columns": null,
            "flex": null,
            "_model_name": "LayoutModel",
            "justify_items": null,
            "grid_row": null,
            "max_height": null,
            "align_content": null,
            "visibility": null,
            "align_self": null,
            "height": null,
            "min_height": null,
            "padding": null,
            "grid_auto_rows": null,
            "grid_gap": null,
            "max_width": null,
            "order": null,
            "_view_module_version": "1.2.0",
            "grid_template_areas": null,
            "object_position": null,
            "object_fit": null,
            "grid_auto_columns": null,
            "margin": null,
            "display": null,
            "left": null
          }
        }
      }
    }
  },
  "cells": [
    {
      "cell_type": "markdown",
      "metadata": {
        "id": "uh2Y1u6JkBVG"
      },
      "source": [
        "# Import libraries\n"
      ]
    },
    {
      "cell_type": "markdown",
      "metadata": {
        "id": "xcnJn6OLpUT4"
      },
      "source": [
        "##In this colab, model has been built using NYC taxi dataset. We predict taxi fare by taking refrence from the colab provided in instructions."
      ]
    },
    {
      "cell_type": "code",
      "metadata": {
        "id": "3256OFoIjIrM"
      },
      "source": [
        "## import libraries\n",
        "\n",
        "#PyTorch \n",
        "import torch\n",
        "import torch.nn as nn\n",
        "from torch.utils.data import Dataset, DataLoader\n",
        "import torch.optim as torch_optim\n",
        "from torchvision import models\n",
        "from torch.nn import init\n",
        "import torch.optim as optim\n",
        "from torch.autograd import Variable\n",
        "import torch.nn.functional as F\n",
        "from torch.utils import data\n",
        "from torch.optim import lr_scheduler\n",
        "\n",
        "#sklearn\n",
        "from sklearn.model_selection import train_test_split\n",
        "from sklearn.preprocessing import LabelEncoder\n",
        "from sklearn.metrics import mean_squared_error\n",
        "from sklearn import preprocessing\n",
        "\n",
        "\n",
        "#other\n",
        "from IPython.core.debugger import set_trace\n",
        "import pandas as pd\n",
        "import numpy as np\n",
        "from collections import Counter\n",
        "from datetime import datetime\n",
        "import math \n",
        "from google.colab import files\n",
        "import io\n",
        "import datetime as dt\n",
        "import re\n",
        "import pandas_profiling\n",
        "import pandas_profiling as pp\n",
        "from math import sqrt\n",
        "\n",
        "#graphs\n",
        "import seaborn as sns\n",
        "import matplotlib.pyplot as plt\n",
        "import matplotlib.ticker as ticker\n",
        "import matplotlib.dates as mdates\n",
        "import matplotlib.cbook as cbook\n",
        "import pylab as plt\n",
        "import matplotlib.dates as dates\n",
        "import seaborn as sns\n",
        "import pylab\n",
        "import matplotlib\n",
        "import matplotlib.dates\n",
        "from IPython.display import display\n",
        "import plotly.graph_objects as go\n",
        "\n",
        "\n",
        "%matplotlib inline"
      ],
      "execution_count": null,
      "outputs": []
    },
    {
      "cell_type": "code",
      "metadata": {
        "id": "jENRWz7YBP8v",
        "colab": {
          "base_uri": "https://localhost:8080/"
        },
        "outputId": "c36c0ec8-ae93-4304-c49b-2c9150e24c23"
      },
      "source": [
        "# load tqdm\n",
        "#!pip install --force https://github.com/chengs/tqdm/archive/colab.zip\n",
        "from tqdm import tqdm, tqdm_notebook, tnrange\n",
        "\n",
        "device = torch.device(\"cuda:0\" if torch.cuda.is_available() else \"cpu\")\n",
        "device"
      ],
      "execution_count": null,
      "outputs": [
        {
          "output_type": "execute_result",
          "data": {
            "text/plain": [
              "device(type='cuda', index=0)"
            ]
          },
          "metadata": {
            "tags": []
          },
          "execution_count": 7
        }
      ]
    },
    {
      "cell_type": "markdown",
      "metadata": {
        "id": "0PVX-6qokEWI"
      },
      "source": [
        "# Help Functions"
      ]
    },
    {
      "cell_type": "code",
      "metadata": {
        "id": "uJoaYsqKjjTu"
      },
      "source": [
        "def haversine_distance(df, lat1, long1, lat2, long2):\n",
        "    \"\"\"\n",
        "    Calculates the haversine distance between 2 sets of GPS coordinates in df\n",
        "    \"\"\"\n",
        "    r = 6371  # average radius of Earth in kilometers\n",
        "       \n",
        "    phi1 = np.radians(df[lat1])\n",
        "    phi2 = np.radians(df[lat2])\n",
        "    \n",
        "    delta_phi = np.radians(df[lat2]-df[lat1])\n",
        "    delta_lambda = np.radians(df[long2]-df[long1])\n",
        "     \n",
        "    a = np.sin(delta_phi/2)**2 + np.cos(phi1) * np.cos(phi2) * np.sin(delta_lambda/2)**2\n",
        "    c = 2 * np.arctan2(np.sqrt(a), np.sqrt(1-a))\n",
        "    d = (r * c) # in kilometers\n",
        "\n",
        "    return d"
      ],
      "execution_count": null,
      "outputs": []
    },
    {
      "cell_type": "markdown",
      "metadata": {
        "id": "HVH9aII2kHSj"
      },
      "source": [
        "# Upload Data"
      ]
    },
    {
      "cell_type": "code",
      "metadata": {
        "id": "nSDuT6AWj_Dt",
        "colab": {
          "resources": {
            "http://localhost:8080/nbextensions/google.colab/files.js": {
              "data": "Ly8gQ29weXJpZ2h0IDIwMTcgR29vZ2xlIExMQwovLwovLyBMaWNlbnNlZCB1bmRlciB0aGUgQXBhY2hlIExpY2Vuc2UsIFZlcnNpb24gMi4wICh0aGUgIkxpY2Vuc2UiKTsKLy8geW91IG1heSBub3QgdXNlIHRoaXMgZmlsZSBleGNlcHQgaW4gY29tcGxpYW5jZSB3aXRoIHRoZSBMaWNlbnNlLgovLyBZb3UgbWF5IG9idGFpbiBhIGNvcHkgb2YgdGhlIExpY2Vuc2UgYXQKLy8KLy8gICAgICBodHRwOi8vd3d3LmFwYWNoZS5vcmcvbGljZW5zZXMvTElDRU5TRS0yLjAKLy8KLy8gVW5sZXNzIHJlcXVpcmVkIGJ5IGFwcGxpY2FibGUgbGF3IG9yIGFncmVlZCB0byBpbiB3cml0aW5nLCBzb2Z0d2FyZQovLyBkaXN0cmlidXRlZCB1bmRlciB0aGUgTGljZW5zZSBpcyBkaXN0cmlidXRlZCBvbiBhbiAiQVMgSVMiIEJBU0lTLAovLyBXSVRIT1VUIFdBUlJBTlRJRVMgT1IgQ09ORElUSU9OUyBPRiBBTlkgS0lORCwgZWl0aGVyIGV4cHJlc3Mgb3IgaW1wbGllZC4KLy8gU2VlIHRoZSBMaWNlbnNlIGZvciB0aGUgc3BlY2lmaWMgbGFuZ3VhZ2UgZ292ZXJuaW5nIHBlcm1pc3Npb25zIGFuZAovLyBsaW1pdGF0aW9ucyB1bmRlciB0aGUgTGljZW5zZS4KCi8qKgogKiBAZmlsZW92ZXJ2aWV3IEhlbHBlcnMgZm9yIGdvb2dsZS5jb2xhYiBQeXRob24gbW9kdWxlLgogKi8KKGZ1bmN0aW9uKHNjb3BlKSB7CmZ1bmN0aW9uIHNwYW4odGV4dCwgc3R5bGVBdHRyaWJ1dGVzID0ge30pIHsKICBjb25zdCBlbGVtZW50ID0gZG9jdW1lbnQuY3JlYXRlRWxlbWVudCgnc3BhbicpOwogIGVsZW1lbnQudGV4dENvbnRlbnQgPSB0ZXh0OwogIGZvciAoY29uc3Qga2V5IG9mIE9iamVjdC5rZXlzKHN0eWxlQXR0cmlidXRlcykpIHsKICAgIGVsZW1lbnQuc3R5bGVba2V5XSA9IHN0eWxlQXR0cmlidXRlc1trZXldOwogIH0KICByZXR1cm4gZWxlbWVudDsKfQoKLy8gTWF4IG51bWJlciBvZiBieXRlcyB3aGljaCB3aWxsIGJlIHVwbG9hZGVkIGF0IGEgdGltZS4KY29uc3QgTUFYX1BBWUxPQURfU0laRSA9IDEwMCAqIDEwMjQ7CgpmdW5jdGlvbiBfdXBsb2FkRmlsZXMoaW5wdXRJZCwgb3V0cHV0SWQpIHsKICBjb25zdCBzdGVwcyA9IHVwbG9hZEZpbGVzU3RlcChpbnB1dElkLCBvdXRwdXRJZCk7CiAgY29uc3Qgb3V0cHV0RWxlbWVudCA9IGRvY3VtZW50LmdldEVsZW1lbnRCeUlkKG91dHB1dElkKTsKICAvLyBDYWNoZSBzdGVwcyBvbiB0aGUgb3V0cHV0RWxlbWVudCB0byBtYWtlIGl0IGF2YWlsYWJsZSBmb3IgdGhlIG5leHQgY2FsbAogIC8vIHRvIHVwbG9hZEZpbGVzQ29udGludWUgZnJvbSBQeXRob24uCiAgb3V0cHV0RWxlbWVudC5zdGVwcyA9IHN0ZXBzOwoKICByZXR1cm4gX3VwbG9hZEZpbGVzQ29udGludWUob3V0cHV0SWQpOwp9CgovLyBUaGlzIGlzIHJvdWdobHkgYW4gYXN5bmMgZ2VuZXJhdG9yIChub3Qgc3VwcG9ydGVkIGluIHRoZSBicm93c2VyIHlldCksCi8vIHdoZXJlIHRoZXJlIGFyZSBtdWx0aXBsZSBhc3luY2hyb25vdXMgc3RlcHMgYW5kIHRoZSBQeXRob24gc2lkZSBpcyBnb2luZwovLyB0byBwb2xsIGZvciBjb21wbGV0aW9uIG9mIGVhY2ggc3RlcC4KLy8gVGhpcyB1c2VzIGEgUHJvbWlzZSB0byBibG9jayB0aGUgcHl0aG9uIHNpZGUgb24gY29tcGxldGlvbiBvZiBlYWNoIHN0ZXAsCi8vIHRoZW4gcGFzc2VzIHRoZSByZXN1bHQgb2YgdGhlIHByZXZpb3VzIHN0ZXAgYXMgdGhlIGlucHV0IHRvIHRoZSBuZXh0IHN0ZXAuCmZ1bmN0aW9uIF91cGxvYWRGaWxlc0NvbnRpbnVlKG91dHB1dElkKSB7CiAgY29uc3Qgb3V0cHV0RWxlbWVudCA9IGRvY3VtZW50LmdldEVsZW1lbnRCeUlkKG91dHB1dElkKTsKICBjb25zdCBzdGVwcyA9IG91dHB1dEVsZW1lbnQuc3RlcHM7CgogIGNvbnN0IG5leHQgPSBzdGVwcy5uZXh0KG91dHB1dEVsZW1lbnQubGFzdFByb21pc2VWYWx1ZSk7CiAgcmV0dXJuIFByb21pc2UucmVzb2x2ZShuZXh0LnZhbHVlLnByb21pc2UpLnRoZW4oKHZhbHVlKSA9PiB7CiAgICAvLyBDYWNoZSB0aGUgbGFzdCBwcm9taXNlIHZhbHVlIHRvIG1ha2UgaXQgYXZhaWxhYmxlIHRvIHRoZSBuZXh0CiAgICAvLyBzdGVwIG9mIHRoZSBnZW5lcmF0b3IuCiAgICBvdXRwdXRFbGVtZW50Lmxhc3RQcm9taXNlVmFsdWUgPSB2YWx1ZTsKICAgIHJldHVybiBuZXh0LnZhbHVlLnJlc3BvbnNlOwogIH0pOwp9CgovKioKICogR2VuZXJhdG9yIGZ1bmN0aW9uIHdoaWNoIGlzIGNhbGxlZCBiZXR3ZWVuIGVhY2ggYXN5bmMgc3RlcCBvZiB0aGUgdXBsb2FkCiAqIHByb2Nlc3MuCiAqIEBwYXJhbSB7c3RyaW5nfSBpbnB1dElkIEVsZW1lbnQgSUQgb2YgdGhlIGlucHV0IGZpbGUgcGlja2VyIGVsZW1lbnQuCiAqIEBwYXJhbSB7c3RyaW5nfSBvdXRwdXRJZCBFbGVtZW50IElEIG9mIHRoZSBvdXRwdXQgZGlzcGxheS4KICogQHJldHVybiB7IUl0ZXJhYmxlPCFPYmplY3Q+fSBJdGVyYWJsZSBvZiBuZXh0IHN0ZXBzLgogKi8KZnVuY3Rpb24qIHVwbG9hZEZpbGVzU3RlcChpbnB1dElkLCBvdXRwdXRJZCkgewogIGNvbnN0IGlucHV0RWxlbWVudCA9IGRvY3VtZW50LmdldEVsZW1lbnRCeUlkKGlucHV0SWQpOwogIGlucHV0RWxlbWVudC5kaXNhYmxlZCA9IGZhbHNlOwoKICBjb25zdCBvdXRwdXRFbGVtZW50ID0gZG9jdW1lbnQuZ2V0RWxlbWVudEJ5SWQob3V0cHV0SWQpOwogIG91dHB1dEVsZW1lbnQuaW5uZXJIVE1MID0gJyc7CgogIGNvbnN0IHBpY2tlZFByb21pc2UgPSBuZXcgUHJvbWlzZSgocmVzb2x2ZSkgPT4gewogICAgaW5wdXRFbGVtZW50LmFkZEV2ZW50TGlzdGVuZXIoJ2NoYW5nZScsIChlKSA9PiB7CiAgICAgIHJlc29sdmUoZS50YXJnZXQuZmlsZXMpOwogICAgfSk7CiAgfSk7CgogIGNvbnN0IGNhbmNlbCA9IGRvY3VtZW50LmNyZWF0ZUVsZW1lbnQoJ2J1dHRvbicpOwogIGlucHV0RWxlbWVudC5wYXJlbnRFbGVtZW50LmFwcGVuZENoaWxkKGNhbmNlbCk7CiAgY2FuY2VsLnRleHRDb250ZW50ID0gJ0NhbmNlbCB1cGxvYWQnOwogIGNvbnN0IGNhbmNlbFByb21pc2UgPSBuZXcgUHJvbWlzZSgocmVzb2x2ZSkgPT4gewogICAgY2FuY2VsLm9uY2xpY2sgPSAoKSA9PiB7CiAgICAgIHJlc29sdmUobnVsbCk7CiAgICB9OwogIH0pOwoKICAvLyBXYWl0IGZvciB0aGUgdXNlciB0byBwaWNrIHRoZSBmaWxlcy4KICBjb25zdCBmaWxlcyA9IHlpZWxkIHsKICAgIHByb21pc2U6IFByb21pc2UucmFjZShbcGlja2VkUHJvbWlzZSwgY2FuY2VsUHJvbWlzZV0pLAogICAgcmVzcG9uc2U6IHsKICAgICAgYWN0aW9uOiAnc3RhcnRpbmcnLAogICAgfQogIH07CgogIGNhbmNlbC5yZW1vdmUoKTsKCiAgLy8gRGlzYWJsZSB0aGUgaW5wdXQgZWxlbWVudCBzaW5jZSBmdXJ0aGVyIHBpY2tzIGFyZSBub3QgYWxsb3dlZC4KICBpbnB1dEVsZW1lbnQuZGlzYWJsZWQgPSB0cnVlOwoKICBpZiAoIWZpbGVzKSB7CiAgICByZXR1cm4gewogICAgICByZXNwb25zZTogewogICAgICAgIGFjdGlvbjogJ2NvbXBsZXRlJywKICAgICAgfQogICAgfTsKICB9CgogIGZvciAoY29uc3QgZmlsZSBvZiBmaWxlcykgewogICAgY29uc3QgbGkgPSBkb2N1bWVudC5jcmVhdGVFbGVtZW50KCdsaScpOwogICAgbGkuYXBwZW5kKHNwYW4oZmlsZS5uYW1lLCB7Zm9udFdlaWdodDogJ2JvbGQnfSkpOwogICAgbGkuYXBwZW5kKHNwYW4oCiAgICAgICAgYCgke2ZpbGUudHlwZSB8fCAnbi9hJ30pIC0gJHtmaWxlLnNpemV9IGJ5dGVzLCBgICsKICAgICAgICBgbGFzdCBtb2RpZmllZDogJHsKICAgICAgICAgICAgZmlsZS5sYXN0TW9kaWZpZWREYXRlID8gZmlsZS5sYXN0TW9kaWZpZWREYXRlLnRvTG9jYWxlRGF0ZVN0cmluZygpIDoKICAgICAgICAgICAgICAgICAgICAgICAgICAgICAgICAgICAgJ24vYSd9IC0gYCkpOwogICAgY29uc3QgcGVyY2VudCA9IHNwYW4oJzAlIGRvbmUnKTsKICAgIGxpLmFwcGVuZENoaWxkKHBlcmNlbnQpOwoKICAgIG91dHB1dEVsZW1lbnQuYXBwZW5kQ2hpbGQobGkpOwoKICAgIGNvbnN0IGZpbGVEYXRhUHJvbWlzZSA9IG5ldyBQcm9taXNlKChyZXNvbHZlKSA9PiB7CiAgICAgIGNvbnN0IHJlYWRlciA9IG5ldyBGaWxlUmVhZGVyKCk7CiAgICAgIHJlYWRlci5vbmxvYWQgPSAoZSkgPT4gewogICAgICAgIHJlc29sdmUoZS50YXJnZXQucmVzdWx0KTsKICAgICAgfTsKICAgICAgcmVhZGVyLnJlYWRBc0FycmF5QnVmZmVyKGZpbGUpOwogICAgfSk7CiAgICAvLyBXYWl0IGZvciB0aGUgZGF0YSB0byBiZSByZWFkeS4KICAgIGxldCBmaWxlRGF0YSA9IHlpZWxkIHsKICAgICAgcHJvbWlzZTogZmlsZURhdGFQcm9taXNlLAogICAgICByZXNwb25zZTogewogICAgICAgIGFjdGlvbjogJ2NvbnRpbnVlJywKICAgICAgfQogICAgfTsKCiAgICAvLyBVc2UgYSBjaHVua2VkIHNlbmRpbmcgdG8gYXZvaWQgbWVzc2FnZSBzaXplIGxpbWl0cy4gU2VlIGIvNjIxMTU2NjAuCiAgICBsZXQgcG9zaXRpb24gPSAwOwogICAgd2hpbGUgKHBvc2l0aW9uIDwgZmlsZURhdGEuYnl0ZUxlbmd0aCkgewogICAgICBjb25zdCBsZW5ndGggPSBNYXRoLm1pbihmaWxlRGF0YS5ieXRlTGVuZ3RoIC0gcG9zaXRpb24sIE1BWF9QQVlMT0FEX1NJWkUpOwogICAgICBjb25zdCBjaHVuayA9IG5ldyBVaW50OEFycmF5KGZpbGVEYXRhLCBwb3NpdGlvbiwgbGVuZ3RoKTsKICAgICAgcG9zaXRpb24gKz0gbGVuZ3RoOwoKICAgICAgY29uc3QgYmFzZTY0ID0gYnRvYShTdHJpbmcuZnJvbUNoYXJDb2RlLmFwcGx5KG51bGwsIGNodW5rKSk7CiAgICAgIHlpZWxkIHsKICAgICAgICByZXNwb25zZTogewogICAgICAgICAgYWN0aW9uOiAnYXBwZW5kJywKICAgICAgICAgIGZpbGU6IGZpbGUubmFtZSwKICAgICAgICAgIGRhdGE6IGJhc2U2NCwKICAgICAgICB9LAogICAgICB9OwogICAgICBwZXJjZW50LnRleHRDb250ZW50ID0KICAgICAgICAgIGAke01hdGgucm91bmQoKHBvc2l0aW9uIC8gZmlsZURhdGEuYnl0ZUxlbmd0aCkgKiAxMDApfSUgZG9uZWA7CiAgICB9CiAgfQoKICAvLyBBbGwgZG9uZS4KICB5aWVsZCB7CiAgICByZXNwb25zZTogewogICAgICBhY3Rpb246ICdjb21wbGV0ZScsCiAgICB9CiAgfTsKfQoKc2NvcGUuZ29vZ2xlID0gc2NvcGUuZ29vZ2xlIHx8IHt9OwpzY29wZS5nb29nbGUuY29sYWIgPSBzY29wZS5nb29nbGUuY29sYWIgfHwge307CnNjb3BlLmdvb2dsZS5jb2xhYi5fZmlsZXMgPSB7CiAgX3VwbG9hZEZpbGVzLAogIF91cGxvYWRGaWxlc0NvbnRpbnVlLAp9Owp9KShzZWxmKTsK",
              "ok": true,
              "headers": [
                [
                  "content-type",
                  "application/javascript"
                ]
              ],
              "status": 200,
              "status_text": ""
            }
          },
          "base_uri": "https://localhost:8080/",
          "height": 72
        },
        "outputId": "411199d6-cc73-4f2f-b844-65bae9fe2cde"
      },
      "source": [
        "# upload df_train csv file\n",
        "\n",
        "uploaded = files.upload()\n",
        "df_train = pd.read_csv(io.BytesIO(uploaded['sub_train.csv']))\n"
      ],
      "execution_count": null,
      "outputs": [
        {
          "output_type": "display_data",
          "data": {
            "text/html": [
              "\n",
              "     <input type=\"file\" id=\"files-98fde444-3613-42a4-bbb3-7f16eb8b9e2b\" name=\"files[]\" multiple disabled\n",
              "        style=\"border:none\" />\n",
              "     <output id=\"result-98fde444-3613-42a4-bbb3-7f16eb8b9e2b\">\n",
              "      Upload widget is only available when the cell has been executed in the\n",
              "      current browser session. Please rerun this cell to enable.\n",
              "      </output>\n",
              "      <script src=\"/nbextensions/google.colab/files.js\"></script> "
            ],
            "text/plain": [
              "<IPython.core.display.HTML object>"
            ]
          },
          "metadata": {
            "tags": []
          }
        },
        {
          "output_type": "stream",
          "text": [
            "Saving sub_train.csv to sub_train (1).csv\n"
          ],
          "name": "stdout"
        }
      ]
    },
    {
      "cell_type": "code",
      "metadata": {
        "id": "XSb19Baik5G8",
        "colab": {
          "base_uri": "https://localhost:8080/",
          "height": 204
        },
        "outputId": "b2e4b3e6-4af2-4467-bb5d-fe71d1418970"
      },
      "source": [
        "df_train.head()"
      ],
      "execution_count": null,
      "outputs": [
        {
          "output_type": "execute_result",
          "data": {
            "text/html": [
              "<div>\n",
              "<style scoped>\n",
              "    .dataframe tbody tr th:only-of-type {\n",
              "        vertical-align: middle;\n",
              "    }\n",
              "\n",
              "    .dataframe tbody tr th {\n",
              "        vertical-align: top;\n",
              "    }\n",
              "\n",
              "    .dataframe thead th {\n",
              "        text-align: right;\n",
              "    }\n",
              "</style>\n",
              "<table border=\"1\" class=\"dataframe\">\n",
              "  <thead>\n",
              "    <tr style=\"text-align: right;\">\n",
              "      <th></th>\n",
              "      <th>key</th>\n",
              "      <th>fare_amount</th>\n",
              "      <th>pickup_datetime</th>\n",
              "      <th>pickup_longitude</th>\n",
              "      <th>pickup_latitude</th>\n",
              "      <th>dropoff_longitude</th>\n",
              "      <th>dropoff_latitude</th>\n",
              "      <th>passenger_count</th>\n",
              "    </tr>\n",
              "  </thead>\n",
              "  <tbody>\n",
              "    <tr>\n",
              "      <th>0</th>\n",
              "      <td>2009-06-15 17:26:21.0000001</td>\n",
              "      <td>4.5</td>\n",
              "      <td>2009-06-15 17:26:21 UTC</td>\n",
              "      <td>-73.844311</td>\n",
              "      <td>40.721319</td>\n",
              "      <td>-73.841610</td>\n",
              "      <td>40.712278</td>\n",
              "      <td>1</td>\n",
              "    </tr>\n",
              "    <tr>\n",
              "      <th>1</th>\n",
              "      <td>2010-01-05 16:52:16.0000002</td>\n",
              "      <td>16.9</td>\n",
              "      <td>2010-01-05 16:52:16 UTC</td>\n",
              "      <td>-74.016048</td>\n",
              "      <td>40.711303</td>\n",
              "      <td>-73.979268</td>\n",
              "      <td>40.782004</td>\n",
              "      <td>1</td>\n",
              "    </tr>\n",
              "    <tr>\n",
              "      <th>2</th>\n",
              "      <td>2011-08-18 00:35:00.00000049</td>\n",
              "      <td>5.7</td>\n",
              "      <td>2011-08-18 00:35:00 UTC</td>\n",
              "      <td>-73.982738</td>\n",
              "      <td>40.761270</td>\n",
              "      <td>-73.991242</td>\n",
              "      <td>40.750562</td>\n",
              "      <td>2</td>\n",
              "    </tr>\n",
              "    <tr>\n",
              "      <th>3</th>\n",
              "      <td>2012-04-21 04:30:42.0000001</td>\n",
              "      <td>7.7</td>\n",
              "      <td>2012-04-21 04:30:42 UTC</td>\n",
              "      <td>-73.987130</td>\n",
              "      <td>40.733143</td>\n",
              "      <td>-73.991567</td>\n",
              "      <td>40.758092</td>\n",
              "      <td>1</td>\n",
              "    </tr>\n",
              "    <tr>\n",
              "      <th>4</th>\n",
              "      <td>2010-03-09 07:51:00.000000135</td>\n",
              "      <td>5.3</td>\n",
              "      <td>2010-03-09 07:51:00 UTC</td>\n",
              "      <td>-73.968095</td>\n",
              "      <td>40.768008</td>\n",
              "      <td>-73.956655</td>\n",
              "      <td>40.783762</td>\n",
              "      <td>1</td>\n",
              "    </tr>\n",
              "  </tbody>\n",
              "</table>\n",
              "</div>"
            ],
            "text/plain": [
              "                             key  ...  passenger_count\n",
              "0    2009-06-15 17:26:21.0000001  ...                1\n",
              "1    2010-01-05 16:52:16.0000002  ...                1\n",
              "2   2011-08-18 00:35:00.00000049  ...                2\n",
              "3    2012-04-21 04:30:42.0000001  ...                1\n",
              "4  2010-03-09 07:51:00.000000135  ...                1\n",
              "\n",
              "[5 rows x 8 columns]"
            ]
          },
          "metadata": {
            "tags": []
          },
          "execution_count": 83
        }
      ]
    },
    {
      "cell_type": "code",
      "metadata": {
        "id": "wZvWttcVkIub",
        "colab": {
          "resources": {
            "http://localhost:8080/nbextensions/google.colab/files.js": {
              "data": "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",
              "ok": true,
              "headers": [
                [
                  "content-type",
                  "application/javascript"
                ]
              ],
              "status": 200,
              "status_text": ""
            }
          },
          "base_uri": "https://localhost:8080/",
          "height": 259
        },
        "outputId": "ce3af170-795e-4466-bad0-062af2a1936b"
      },
      "source": [
        "# upload df_Test csv file\n",
        "\n",
        "uploaded = files.upload()\n",
        "df_test = pd.read_csv(io.BytesIO(uploaded['test.csv']))\n",
        "df_test.head()"
      ],
      "execution_count": null,
      "outputs": [
        {
          "output_type": "display_data",
          "data": {
            "text/html": [
              "\n",
              "     <input type=\"file\" id=\"files-80981542-f11e-47ab-8f37-088d86e8189e\" name=\"files[]\" multiple disabled\n",
              "        style=\"border:none\" />\n",
              "     <output id=\"result-80981542-f11e-47ab-8f37-088d86e8189e\">\n",
              "      Upload widget is only available when the cell has been executed in the\n",
              "      current browser session. Please rerun this cell to enable.\n",
              "      </output>\n",
              "      <script src=\"/nbextensions/google.colab/files.js\"></script> "
            ],
            "text/plain": [
              "<IPython.core.display.HTML object>"
            ]
          },
          "metadata": {
            "tags": []
          }
        },
        {
          "output_type": "stream",
          "text": [
            "Saving test.csv to test (2).csv\n"
          ],
          "name": "stdout"
        },
        {
          "output_type": "execute_result",
          "data": {
            "text/html": [
              "<div>\n",
              "<style scoped>\n",
              "    .dataframe tbody tr th:only-of-type {\n",
              "        vertical-align: middle;\n",
              "    }\n",
              "\n",
              "    .dataframe tbody tr th {\n",
              "        vertical-align: top;\n",
              "    }\n",
              "\n",
              "    .dataframe thead th {\n",
              "        text-align: right;\n",
              "    }\n",
              "</style>\n",
              "<table border=\"1\" class=\"dataframe\">\n",
              "  <thead>\n",
              "    <tr style=\"text-align: right;\">\n",
              "      <th></th>\n",
              "      <th>key</th>\n",
              "      <th>pickup_datetime</th>\n",
              "      <th>pickup_longitude</th>\n",
              "      <th>pickup_latitude</th>\n",
              "      <th>dropoff_longitude</th>\n",
              "      <th>dropoff_latitude</th>\n",
              "      <th>passenger_count</th>\n",
              "    </tr>\n",
              "  </thead>\n",
              "  <tbody>\n",
              "    <tr>\n",
              "      <th>0</th>\n",
              "      <td>2015-01-27 13:08:24.0000002</td>\n",
              "      <td>2015-01-27 13:08:24 UTC</td>\n",
              "      <td>-73.973320</td>\n",
              "      <td>40.763805</td>\n",
              "      <td>-73.981430</td>\n",
              "      <td>40.743835</td>\n",
              "      <td>1</td>\n",
              "    </tr>\n",
              "    <tr>\n",
              "      <th>1</th>\n",
              "      <td>2015-01-27 13:08:24.0000003</td>\n",
              "      <td>2015-01-27 13:08:24 UTC</td>\n",
              "      <td>-73.986862</td>\n",
              "      <td>40.719383</td>\n",
              "      <td>-73.998886</td>\n",
              "      <td>40.739201</td>\n",
              "      <td>1</td>\n",
              "    </tr>\n",
              "    <tr>\n",
              "      <th>2</th>\n",
              "      <td>2011-10-08 11:53:44.0000002</td>\n",
              "      <td>2011-10-08 11:53:44 UTC</td>\n",
              "      <td>-73.982524</td>\n",
              "      <td>40.751260</td>\n",
              "      <td>-73.979654</td>\n",
              "      <td>40.746139</td>\n",
              "      <td>1</td>\n",
              "    </tr>\n",
              "    <tr>\n",
              "      <th>3</th>\n",
              "      <td>2012-12-01 21:12:12.0000002</td>\n",
              "      <td>2012-12-01 21:12:12 UTC</td>\n",
              "      <td>-73.981160</td>\n",
              "      <td>40.767807</td>\n",
              "      <td>-73.990448</td>\n",
              "      <td>40.751635</td>\n",
              "      <td>1</td>\n",
              "    </tr>\n",
              "    <tr>\n",
              "      <th>4</th>\n",
              "      <td>2012-12-01 21:12:12.0000003</td>\n",
              "      <td>2012-12-01 21:12:12 UTC</td>\n",
              "      <td>-73.966046</td>\n",
              "      <td>40.789775</td>\n",
              "      <td>-73.988565</td>\n",
              "      <td>40.744427</td>\n",
              "      <td>1</td>\n",
              "    </tr>\n",
              "  </tbody>\n",
              "</table>\n",
              "</div>"
            ],
            "text/plain": [
              "                           key  ... passenger_count\n",
              "0  2015-01-27 13:08:24.0000002  ...               1\n",
              "1  2015-01-27 13:08:24.0000003  ...               1\n",
              "2  2011-10-08 11:53:44.0000002  ...               1\n",
              "3  2012-12-01 21:12:12.0000002  ...               1\n",
              "4  2012-12-01 21:12:12.0000003  ...               1\n",
              "\n",
              "[5 rows x 7 columns]"
            ]
          },
          "metadata": {
            "tags": []
          },
          "execution_count": 84
        }
      ]
    },
    {
      "cell_type": "markdown",
      "metadata": {
        "id": "QSAiBGfNkbhb"
      },
      "source": [
        "# Data preprocessing"
      ]
    },
    {
      "cell_type": "markdown",
      "metadata": {
        "id": "I3gHYEONknVv"
      },
      "source": [
        "## Stacking train and test set so that they undergo the same preprocessing"
      ]
    },
    {
      "cell_type": "code",
      "metadata": {
        "id": "0cgon_xSHSvk",
        "colab": {
          "base_uri": "https://localhost:8080/"
        },
        "outputId": "d0addae5-9958-478c-fc00-a6082f7190d4"
      },
      "source": [
        "# copy for subbmision\n",
        "\n",
        "df_test_for_sub = df_test['key']\n",
        "df_test_for_sub"
      ],
      "execution_count": null,
      "outputs": [
        {
          "output_type": "execute_result",
          "data": {
            "text/plain": [
              "0       2015-01-27 13:08:24.0000002\n",
              "1       2015-01-27 13:08:24.0000003\n",
              "2       2011-10-08 11:53:44.0000002\n",
              "3       2012-12-01 21:12:12.0000002\n",
              "4       2012-12-01 21:12:12.0000003\n",
              "                   ...             \n",
              "9909    2015-05-10 12:37:51.0000002\n",
              "9910    2015-01-12 17:05:51.0000001\n",
              "9911    2015-04-19 20:44:15.0000001\n",
              "9912    2015-01-31 01:05:19.0000005\n",
              "9913    2015-01-18 14:06:23.0000006\n",
              "Name: key, Length: 9914, dtype: object"
            ]
          },
          "metadata": {
            "tags": []
          },
          "execution_count": 85
        }
      ]
    },
    {
      "cell_type": "code",
      "metadata": {
        "id": "ePzgk3cTYnuY",
        "colab": {
          "base_uri": "https://localhost:8080/"
        },
        "outputId": "5c4858e0-fc89-484a-c114-858141a428b3"
      },
      "source": [
        "# delete the fares that are less than 0\n",
        "df_train = df_train.loc[df_train.fare_amount > 0]\n",
        "df_train.fare_amount.min()"
      ],
      "execution_count": null,
      "outputs": [
        {
          "output_type": "execute_result",
          "data": {
            "text/plain": [
              "0.01"
            ]
          },
          "metadata": {
            "tags": []
          },
          "execution_count": 86
        }
      ]
    },
    {
      "cell_type": "code",
      "metadata": {
        "id": "0mzao1s4a2zB",
        "colab": {
          "base_uri": "https://localhost:8080/"
        },
        "outputId": "8a9910c6-1ae0-465a-91f2-7db75453f395"
      },
      "source": [
        "len(df_train)"
      ],
      "execution_count": null,
      "outputs": [
        {
          "output_type": "execute_result",
          "data": {
            "text/plain": [
              "249979"
            ]
          },
          "metadata": {
            "tags": []
          },
          "execution_count": 87
        }
      ]
    },
    {
      "cell_type": "code",
      "metadata": {
        "id": "b5updpaUljUB"
      },
      "source": [
        "train_X = df_train.drop(columns=['fare_amount'])\n",
        "Y = np.log(df_train.fare_amount)\n",
        "\n",
        "#Y = df_train['fare_amount']\n",
        "test_X = df_test\n"
      ],
      "execution_count": null,
      "outputs": []
    },
    {
      "cell_type": "code",
      "metadata": {
        "colab": {
          "base_uri": "https://localhost:8080/"
        },
        "id": "k8gmRK2loqPI",
        "outputId": "d3185d21-f003-458b-8004-d1335b2917cb"
      },
      "source": [
        "train_X.shape"
      ],
      "execution_count": null,
      "outputs": [
        {
          "output_type": "execute_result",
          "data": {
            "text/plain": [
              "(249979, 7)"
            ]
          },
          "metadata": {
            "tags": []
          },
          "execution_count": 89
        }
      ]
    },
    {
      "cell_type": "code",
      "metadata": {
        "colab": {
          "base_uri": "https://localhost:8080/"
        },
        "id": "wPPzdgqcoudp",
        "outputId": "b4d2ad63-9187-42f0-eed7-eb5faf483a91"
      },
      "source": [
        "test_X.shape"
      ],
      "execution_count": null,
      "outputs": [
        {
          "output_type": "execute_result",
          "data": {
            "text/plain": [
              "(9914, 7)"
            ]
          },
          "metadata": {
            "tags": []
          },
          "execution_count": 90
        }
      ]
    },
    {
      "cell_type": "code",
      "metadata": {
        "id": "kNycFQdVkl1q"
      },
      "source": [
        "df = train_X.append(test_X,sort=False)"
      ],
      "execution_count": null,
      "outputs": []
    },
    {
      "cell_type": "code",
      "metadata": {
        "colab": {
          "base_uri": "https://localhost:8080/"
        },
        "id": "XWub8cqsni59",
        "outputId": "00bf7b37-9c70-47d3-bb1c-ba7f9d310f47"
      },
      "source": [
        "df.shape"
      ],
      "execution_count": null,
      "outputs": [
        {
          "output_type": "execute_result",
          "data": {
            "text/plain": [
              "(259893, 7)"
            ]
          },
          "metadata": {
            "tags": []
          },
          "execution_count": 92
        }
      ]
    },
    {
      "cell_type": "markdown",
      "metadata": {
        "id": "lbRO0s7mmtOz"
      },
      "source": [
        "##Calculate the distance traveled"
      ]
    },
    {
      "cell_type": "code",
      "metadata": {
        "id": "U6prpp5lmivr",
        "colab": {
          "base_uri": "https://localhost:8080/",
          "height": 204
        },
        "outputId": "cd912a50-970a-4e4f-809c-2114accad565"
      },
      "source": [
        "#from sklearn.metrics.pairwise import haversine_distance\n",
        "df['dist_km'] = haversine_distance(df,'pickup_latitude', 'pickup_longitude', 'dropoff_latitude', 'dropoff_longitude')\n",
        "df.head()"
      ],
      "execution_count": null,
      "outputs": [
        {
          "output_type": "execute_result",
          "data": {
            "text/html": [
              "<div>\n",
              "<style scoped>\n",
              "    .dataframe tbody tr th:only-of-type {\n",
              "        vertical-align: middle;\n",
              "    }\n",
              "\n",
              "    .dataframe tbody tr th {\n",
              "        vertical-align: top;\n",
              "    }\n",
              "\n",
              "    .dataframe thead th {\n",
              "        text-align: right;\n",
              "    }\n",
              "</style>\n",
              "<table border=\"1\" class=\"dataframe\">\n",
              "  <thead>\n",
              "    <tr style=\"text-align: right;\">\n",
              "      <th></th>\n",
              "      <th>key</th>\n",
              "      <th>pickup_datetime</th>\n",
              "      <th>pickup_longitude</th>\n",
              "      <th>pickup_latitude</th>\n",
              "      <th>dropoff_longitude</th>\n",
              "      <th>dropoff_latitude</th>\n",
              "      <th>passenger_count</th>\n",
              "      <th>dist_km</th>\n",
              "    </tr>\n",
              "  </thead>\n",
              "  <tbody>\n",
              "    <tr>\n",
              "      <th>0</th>\n",
              "      <td>2009-06-15 17:26:21.0000001</td>\n",
              "      <td>2009-06-15 17:26:21 UTC</td>\n",
              "      <td>-73.844311</td>\n",
              "      <td>40.721319</td>\n",
              "      <td>-73.841610</td>\n",
              "      <td>40.712278</td>\n",
              "      <td>1</td>\n",
              "      <td>1.030764</td>\n",
              "    </tr>\n",
              "    <tr>\n",
              "      <th>1</th>\n",
              "      <td>2010-01-05 16:52:16.0000002</td>\n",
              "      <td>2010-01-05 16:52:16 UTC</td>\n",
              "      <td>-74.016048</td>\n",
              "      <td>40.711303</td>\n",
              "      <td>-73.979268</td>\n",
              "      <td>40.782004</td>\n",
              "      <td>1</td>\n",
              "      <td>8.450134</td>\n",
              "    </tr>\n",
              "    <tr>\n",
              "      <th>2</th>\n",
              "      <td>2011-08-18 00:35:00.00000049</td>\n",
              "      <td>2011-08-18 00:35:00 UTC</td>\n",
              "      <td>-73.982738</td>\n",
              "      <td>40.761270</td>\n",
              "      <td>-73.991242</td>\n",
              "      <td>40.750562</td>\n",
              "      <td>2</td>\n",
              "      <td>1.389525</td>\n",
              "    </tr>\n",
              "    <tr>\n",
              "      <th>3</th>\n",
              "      <td>2012-04-21 04:30:42.0000001</td>\n",
              "      <td>2012-04-21 04:30:42 UTC</td>\n",
              "      <td>-73.987130</td>\n",
              "      <td>40.733143</td>\n",
              "      <td>-73.991567</td>\n",
              "      <td>40.758092</td>\n",
              "      <td>1</td>\n",
              "      <td>2.799270</td>\n",
              "    </tr>\n",
              "    <tr>\n",
              "      <th>4</th>\n",
              "      <td>2010-03-09 07:51:00.000000135</td>\n",
              "      <td>2010-03-09 07:51:00 UTC</td>\n",
              "      <td>-73.968095</td>\n",
              "      <td>40.768008</td>\n",
              "      <td>-73.956655</td>\n",
              "      <td>40.783762</td>\n",
              "      <td>1</td>\n",
              "      <td>1.999157</td>\n",
              "    </tr>\n",
              "  </tbody>\n",
              "</table>\n",
              "</div>"
            ],
            "text/plain": [
              "                             key  ...   dist_km\n",
              "0    2009-06-15 17:26:21.0000001  ...  1.030764\n",
              "1    2010-01-05 16:52:16.0000002  ...  8.450134\n",
              "2   2011-08-18 00:35:00.00000049  ...  1.389525\n",
              "3    2012-04-21 04:30:42.0000001  ...  2.799270\n",
              "4  2010-03-09 07:51:00.000000135  ...  1.999157\n",
              "\n",
              "[5 rows x 8 columns]"
            ]
          },
          "metadata": {
            "tags": []
          },
          "execution_count": 93
        }
      ]
    },
    {
      "cell_type": "markdown",
      "metadata": {
        "id": "mxYVYQ3lm2dI"
      },
      "source": [
        "##Add a datetime column and derive useful statistics"
      ]
    },
    {
      "cell_type": "code",
      "metadata": {
        "id": "HLmdLkipktOK",
        "colab": {
          "base_uri": "https://localhost:8080/",
          "height": 289
        },
        "outputId": "82e99778-f95b-48fc-dc84-db0f96dff2d6"
      },
      "source": [
        "df['EDTdate'] = pd.to_datetime(df['pickup_datetime'].str[:19]) - pd.Timedelta(hours=4)\n",
        "df['Hour'] = df['EDTdate'].dt.hour\n",
        "df['AMorPM'] = np.where(df['Hour']<12,'am','pm')\n",
        "df['Weekday'] = df['EDTdate'].dt.strftime(\"%a\")\n",
        "df.head()"
      ],
      "execution_count": null,
      "outputs": [
        {
          "output_type": "execute_result",
          "data": {
            "text/html": [
              "<div>\n",
              "<style scoped>\n",
              "    .dataframe tbody tr th:only-of-type {\n",
              "        vertical-align: middle;\n",
              "    }\n",
              "\n",
              "    .dataframe tbody tr th {\n",
              "        vertical-align: top;\n",
              "    }\n",
              "\n",
              "    .dataframe thead th {\n",
              "        text-align: right;\n",
              "    }\n",
              "</style>\n",
              "<table border=\"1\" class=\"dataframe\">\n",
              "  <thead>\n",
              "    <tr style=\"text-align: right;\">\n",
              "      <th></th>\n",
              "      <th>key</th>\n",
              "      <th>pickup_datetime</th>\n",
              "      <th>pickup_longitude</th>\n",
              "      <th>pickup_latitude</th>\n",
              "      <th>dropoff_longitude</th>\n",
              "      <th>dropoff_latitude</th>\n",
              "      <th>passenger_count</th>\n",
              "      <th>dist_km</th>\n",
              "      <th>EDTdate</th>\n",
              "      <th>Hour</th>\n",
              "      <th>AMorPM</th>\n",
              "      <th>Weekday</th>\n",
              "    </tr>\n",
              "  </thead>\n",
              "  <tbody>\n",
              "    <tr>\n",
              "      <th>0</th>\n",
              "      <td>2009-06-15 17:26:21.0000001</td>\n",
              "      <td>2009-06-15 17:26:21 UTC</td>\n",
              "      <td>-73.844311</td>\n",
              "      <td>40.721319</td>\n",
              "      <td>-73.841610</td>\n",
              "      <td>40.712278</td>\n",
              "      <td>1</td>\n",
              "      <td>1.030764</td>\n",
              "      <td>2009-06-15 13:26:21</td>\n",
              "      <td>13</td>\n",
              "      <td>pm</td>\n",
              "      <td>Mon</td>\n",
              "    </tr>\n",
              "    <tr>\n",
              "      <th>1</th>\n",
              "      <td>2010-01-05 16:52:16.0000002</td>\n",
              "      <td>2010-01-05 16:52:16 UTC</td>\n",
              "      <td>-74.016048</td>\n",
              "      <td>40.711303</td>\n",
              "      <td>-73.979268</td>\n",
              "      <td>40.782004</td>\n",
              "      <td>1</td>\n",
              "      <td>8.450134</td>\n",
              "      <td>2010-01-05 12:52:16</td>\n",
              "      <td>12</td>\n",
              "      <td>pm</td>\n",
              "      <td>Tue</td>\n",
              "    </tr>\n",
              "    <tr>\n",
              "      <th>2</th>\n",
              "      <td>2011-08-18 00:35:00.00000049</td>\n",
              "      <td>2011-08-18 00:35:00 UTC</td>\n",
              "      <td>-73.982738</td>\n",
              "      <td>40.761270</td>\n",
              "      <td>-73.991242</td>\n",
              "      <td>40.750562</td>\n",
              "      <td>2</td>\n",
              "      <td>1.389525</td>\n",
              "      <td>2011-08-17 20:35:00</td>\n",
              "      <td>20</td>\n",
              "      <td>pm</td>\n",
              "      <td>Wed</td>\n",
              "    </tr>\n",
              "    <tr>\n",
              "      <th>3</th>\n",
              "      <td>2012-04-21 04:30:42.0000001</td>\n",
              "      <td>2012-04-21 04:30:42 UTC</td>\n",
              "      <td>-73.987130</td>\n",
              "      <td>40.733143</td>\n",
              "      <td>-73.991567</td>\n",
              "      <td>40.758092</td>\n",
              "      <td>1</td>\n",
              "      <td>2.799270</td>\n",
              "      <td>2012-04-21 00:30:42</td>\n",
              "      <td>0</td>\n",
              "      <td>am</td>\n",
              "      <td>Sat</td>\n",
              "    </tr>\n",
              "    <tr>\n",
              "      <th>4</th>\n",
              "      <td>2010-03-09 07:51:00.000000135</td>\n",
              "      <td>2010-03-09 07:51:00 UTC</td>\n",
              "      <td>-73.968095</td>\n",
              "      <td>40.768008</td>\n",
              "      <td>-73.956655</td>\n",
              "      <td>40.783762</td>\n",
              "      <td>1</td>\n",
              "      <td>1.999157</td>\n",
              "      <td>2010-03-09 03:51:00</td>\n",
              "      <td>3</td>\n",
              "      <td>am</td>\n",
              "      <td>Tue</td>\n",
              "    </tr>\n",
              "  </tbody>\n",
              "</table>\n",
              "</div>"
            ],
            "text/plain": [
              "                             key          pickup_datetime  ...  AMorPM  Weekday\n",
              "0    2009-06-15 17:26:21.0000001  2009-06-15 17:26:21 UTC  ...      pm      Mon\n",
              "1    2010-01-05 16:52:16.0000002  2010-01-05 16:52:16 UTC  ...      pm      Tue\n",
              "2   2011-08-18 00:35:00.00000049  2011-08-18 00:35:00 UTC  ...      pm      Wed\n",
              "3    2012-04-21 04:30:42.0000001  2012-04-21 04:30:42 UTC  ...      am      Sat\n",
              "4  2010-03-09 07:51:00.000000135  2010-03-09 07:51:00 UTC  ...      am      Tue\n",
              "\n",
              "[5 rows x 12 columns]"
            ]
          },
          "metadata": {
            "tags": []
          },
          "execution_count": 94
        }
      ]
    },
    {
      "cell_type": "code",
      "metadata": {
        "colab": {
          "base_uri": "https://localhost:8080/"
        },
        "id": "K6adlzaAA3aD",
        "outputId": "a9d423da-1cce-46cf-9516-fa66b9561b5e"
      },
      "source": [
        "df.isnull().sum()"
      ],
      "execution_count": null,
      "outputs": [
        {
          "output_type": "execute_result",
          "data": {
            "text/plain": [
              "key                  0\n",
              "pickup_datetime      0\n",
              "pickup_longitude     0\n",
              "pickup_latitude      0\n",
              "dropoff_longitude    0\n",
              "dropoff_latitude     0\n",
              "passenger_count      0\n",
              "dist_km              0\n",
              "EDTdate              0\n",
              "Hour                 0\n",
              "AMorPM               0\n",
              "Weekday              0\n",
              "dtype: int64"
            ]
          },
          "metadata": {
            "tags": []
          },
          "execution_count": 98
        }
      ]
    },
    {
      "cell_type": "code",
      "metadata": {
        "id": "MejD8G_lBDxp"
      },
      "source": [
        "df=df.dropna()"
      ],
      "execution_count": null,
      "outputs": []
    },
    {
      "cell_type": "markdown",
      "metadata": {
        "id": "KFNfBofHn2OV"
      },
      "source": [
        "# Prepare the model"
      ]
    },
    {
      "cell_type": "markdown",
      "metadata": {
        "id": "G-0h_LjXn8ha"
      },
      "source": [
        "## Defining Categorical and Continuous columns"
      ]
    },
    {
      "cell_type": "code",
      "metadata": {
        "id": "mN0xUIP0nH-K"
      },
      "source": [
        "cat_cols = ['Hour', 'AMorPM', 'Weekday']\n",
        "cont_cols = ['pickup_latitude', 'pickup_longitude', 'dropoff_latitude', 'dropoff_longitude', 'passenger_count', 'dist_km']\n"
      ],
      "execution_count": null,
      "outputs": []
    },
    {
      "cell_type": "code",
      "metadata": {
        "id": "Gv4IhHNqqFkJ"
      },
      "source": [
        "#df.head()\n",
        "#df.info()"
      ],
      "execution_count": null,
      "outputs": []
    },
    {
      "cell_type": "code",
      "metadata": {
        "id": "G91bMyUroUMw"
      },
      "source": [
        "#make the cat categories as \"category\" and label encoder it.\n",
        "for col in df.columns:\n",
        "  if col in cat_cols:\n",
        "    df[col] = LabelEncoder().fit_transform(df[col])\n",
        "    df[col]= df[col].astype('category')\n",
        "\n"
      ],
      "execution_count": null,
      "outputs": []
    },
    {
      "cell_type": "code",
      "metadata": {
        "id": "TtN1pnhIox7K",
        "colab": {
          "base_uri": "https://localhost:8080/",
          "height": 289
        },
        "outputId": "ae44a1d7-6c43-4e40-b9e4-90216ca90142"
      },
      "source": [
        "df.head()"
      ],
      "execution_count": null,
      "outputs": [
        {
          "output_type": "execute_result",
          "data": {
            "text/html": [
              "<div>\n",
              "<style scoped>\n",
              "    .dataframe tbody tr th:only-of-type {\n",
              "        vertical-align: middle;\n",
              "    }\n",
              "\n",
              "    .dataframe tbody tr th {\n",
              "        vertical-align: top;\n",
              "    }\n",
              "\n",
              "    .dataframe thead th {\n",
              "        text-align: right;\n",
              "    }\n",
              "</style>\n",
              "<table border=\"1\" class=\"dataframe\">\n",
              "  <thead>\n",
              "    <tr style=\"text-align: right;\">\n",
              "      <th></th>\n",
              "      <th>key</th>\n",
              "      <th>pickup_datetime</th>\n",
              "      <th>pickup_longitude</th>\n",
              "      <th>pickup_latitude</th>\n",
              "      <th>dropoff_longitude</th>\n",
              "      <th>dropoff_latitude</th>\n",
              "      <th>passenger_count</th>\n",
              "      <th>dist_km</th>\n",
              "      <th>EDTdate</th>\n",
              "      <th>Hour</th>\n",
              "      <th>AMorPM</th>\n",
              "      <th>Weekday</th>\n",
              "    </tr>\n",
              "  </thead>\n",
              "  <tbody>\n",
              "    <tr>\n",
              "      <th>0</th>\n",
              "      <td>2009-06-15 17:26:21.0000001</td>\n",
              "      <td>2009-06-15 17:26:21 UTC</td>\n",
              "      <td>-73.844311</td>\n",
              "      <td>40.721319</td>\n",
              "      <td>-73.841610</td>\n",
              "      <td>40.712278</td>\n",
              "      <td>1</td>\n",
              "      <td>1.030764</td>\n",
              "      <td>2009-06-15 13:26:21</td>\n",
              "      <td>13</td>\n",
              "      <td>1</td>\n",
              "      <td>1</td>\n",
              "    </tr>\n",
              "    <tr>\n",
              "      <th>1</th>\n",
              "      <td>2010-01-05 16:52:16.0000002</td>\n",
              "      <td>2010-01-05 16:52:16 UTC</td>\n",
              "      <td>-74.016048</td>\n",
              "      <td>40.711303</td>\n",
              "      <td>-73.979268</td>\n",
              "      <td>40.782004</td>\n",
              "      <td>1</td>\n",
              "      <td>8.450134</td>\n",
              "      <td>2010-01-05 12:52:16</td>\n",
              "      <td>12</td>\n",
              "      <td>1</td>\n",
              "      <td>5</td>\n",
              "    </tr>\n",
              "    <tr>\n",
              "      <th>2</th>\n",
              "      <td>2011-08-18 00:35:00.00000049</td>\n",
              "      <td>2011-08-18 00:35:00 UTC</td>\n",
              "      <td>-73.982738</td>\n",
              "      <td>40.761270</td>\n",
              "      <td>-73.991242</td>\n",
              "      <td>40.750562</td>\n",
              "      <td>2</td>\n",
              "      <td>1.389525</td>\n",
              "      <td>2011-08-17 20:35:00</td>\n",
              "      <td>20</td>\n",
              "      <td>1</td>\n",
              "      <td>6</td>\n",
              "    </tr>\n",
              "    <tr>\n",
              "      <th>3</th>\n",
              "      <td>2012-04-21 04:30:42.0000001</td>\n",
              "      <td>2012-04-21 04:30:42 UTC</td>\n",
              "      <td>-73.987130</td>\n",
              "      <td>40.733143</td>\n",
              "      <td>-73.991567</td>\n",
              "      <td>40.758092</td>\n",
              "      <td>1</td>\n",
              "      <td>2.799270</td>\n",
              "      <td>2012-04-21 00:30:42</td>\n",
              "      <td>0</td>\n",
              "      <td>0</td>\n",
              "      <td>2</td>\n",
              "    </tr>\n",
              "    <tr>\n",
              "      <th>4</th>\n",
              "      <td>2010-03-09 07:51:00.000000135</td>\n",
              "      <td>2010-03-09 07:51:00 UTC</td>\n",
              "      <td>-73.968095</td>\n",
              "      <td>40.768008</td>\n",
              "      <td>-73.956655</td>\n",
              "      <td>40.783762</td>\n",
              "      <td>1</td>\n",
              "      <td>1.999157</td>\n",
              "      <td>2010-03-09 03:51:00</td>\n",
              "      <td>3</td>\n",
              "      <td>0</td>\n",
              "      <td>5</td>\n",
              "    </tr>\n",
              "  </tbody>\n",
              "</table>\n",
              "</div>"
            ],
            "text/plain": [
              "                             key          pickup_datetime  ...  AMorPM  Weekday\n",
              "0    2009-06-15 17:26:21.0000001  2009-06-15 17:26:21 UTC  ...       1        1\n",
              "1    2010-01-05 16:52:16.0000002  2010-01-05 16:52:16 UTC  ...       1        5\n",
              "2   2011-08-18 00:35:00.00000049  2011-08-18 00:35:00 UTC  ...       1        6\n",
              "3    2012-04-21 04:30:42.0000001  2012-04-21 04:30:42 UTC  ...       0        2\n",
              "4  2010-03-09 07:51:00.000000135  2010-03-09 07:51:00 UTC  ...       0        5\n",
              "\n",
              "[5 rows x 12 columns]"
            ]
          },
          "metadata": {
            "tags": []
          },
          "execution_count": 100
        }
      ]
    },
    {
      "cell_type": "code",
      "metadata": {
        "id": "ZwW1Ubgeo5ea",
        "colab": {
          "base_uri": "https://localhost:8080/"
        },
        "outputId": "a431bb43-1ae7-4ccd-d77b-5c1b71719302"
      },
      "source": [
        "df.info()"
      ],
      "execution_count": null,
      "outputs": [
        {
          "output_type": "stream",
          "text": [
            "<class 'pandas.core.frame.DataFrame'>\n",
            "Int64Index: 259891 entries, 0 to 9913\n",
            "Data columns (total 12 columns):\n",
            " #   Column             Non-Null Count   Dtype         \n",
            "---  ------             --------------   -----         \n",
            " 0   key                259891 non-null  object        \n",
            " 1   pickup_datetime    259891 non-null  object        \n",
            " 2   pickup_longitude   259891 non-null  float64       \n",
            " 3   pickup_latitude    259891 non-null  float64       \n",
            " 4   dropoff_longitude  259891 non-null  float64       \n",
            " 5   dropoff_latitude   259891 non-null  float64       \n",
            " 6   passenger_count    259891 non-null  int64         \n",
            " 7   dist_km            259891 non-null  float64       \n",
            " 8   EDTdate            259891 non-null  datetime64[ns]\n",
            " 9   Hour               259891 non-null  category      \n",
            " 10  AMorPM             259891 non-null  category      \n",
            " 11  Weekday            259891 non-null  category      \n",
            "dtypes: category(3), datetime64[ns](1), float64(5), int64(1), object(2)\n",
            "memory usage: 20.6+ MB\n"
          ],
          "name": "stdout"
        }
      ]
    },
    {
      "cell_type": "markdown",
      "metadata": {
        "id": "QsebxQMFrLkr"
      },
      "source": [
        "##Drop irrelevent columns for the Model and Split into train and test"
      ]
    },
    {
      "cell_type": "code",
      "metadata": {
        "id": "DMk-Q1RC0-aL",
        "colab": {
          "base_uri": "https://localhost:8080/"
        },
        "outputId": "2a1e0185-d4b1-45d2-ad6a-4893da03f8b9"
      },
      "source": [
        "df.columns"
      ],
      "execution_count": null,
      "outputs": [
        {
          "output_type": "execute_result",
          "data": {
            "text/plain": [
              "Index(['key', 'pickup_datetime', 'pickup_longitude', 'pickup_latitude',\n",
              "       'dropoff_longitude', 'dropoff_latitude', 'passenger_count', 'dist_km',\n",
              "       'EDTdate', 'Hour', 'AMorPM', 'Weekday'],\n",
              "      dtype='object')"
            ]
          },
          "metadata": {
            "tags": []
          },
          "execution_count": 102
        }
      ]
    },
    {
      "cell_type": "code",
      "metadata": {
        "id": "AoSYRIUD1Dbc"
      },
      "source": [
        "# keep only the cols for the model\n",
        "df = df[['Hour', 'AMorPM', 'Weekday','pickup_latitude', 'pickup_longitude', 'dropoff_latitude', 'dropoff_longitude', 'passenger_count', 'dist_km']]"
      ],
      "execution_count": null,
      "outputs": []
    },
    {
      "cell_type": "code",
      "metadata": {
        "id": "6pyrDASAqcxM"
      },
      "source": [
        "df_train = df[:249979]\n",
        "df_test = df[249979:]"
      ],
      "execution_count": null,
      "outputs": []
    },
    {
      "cell_type": "markdown",
      "metadata": {
        "id": "2bxdhrdTrdOv"
      },
      "source": [
        "##Continuous values"
      ]
    },
    {
      "cell_type": "code",
      "metadata": {
        "id": "vgjHk0wzrb_L",
        "colab": {
          "base_uri": "https://localhost:8080/"
        },
        "outputId": "41d4f6f8-b5a5-45a7-e32b-90f6a539ae9c"
      },
      "source": [
        "#Normalizing \n",
        "\n",
        "from pandas.api.types import is_numeric_dtype\n",
        "\n",
        "#\"Compute the means and stds of `self.cont_names` columns to normalize them.\"\n",
        "def Normalize(df):\n",
        "  means,stds = {},{}\n",
        "  cont_names = ['pickup_latitude', 'pickup_longitude', 'dropoff_latitude', 'dropoff_longitude', 'passenger_count', 'dist_km']\n",
        "  for n in cont_names:\n",
        "    assert is_numeric_dtype(df[n]), (f\"\"\"Cannot normalize '{n}' column as it isn't numerical. Are you sure it doesn't belong in the categorical set of columns?\"\"\")\n",
        "    means[n],stds[n] = df[n].mean(),df[n].std()\n",
        "    df[n] = (df[n]-means[n]) / (1e-7 + stds[n])\n",
        "\n",
        "\n",
        "Normalize(df_train)\n",
        "Normalize(df_test)\n",
        "X = df_train"
      ],
      "execution_count": null,
      "outputs": [
        {
          "output_type": "stream",
          "text": [
            "/usr/local/lib/python3.7/dist-packages/ipykernel_launcher.py:12: SettingWithCopyWarning:\n",
            "\n",
            "\n",
            "A value is trying to be set on a copy of a slice from a DataFrame.\n",
            "Try using .loc[row_indexer,col_indexer] = value instead\n",
            "\n",
            "See the caveats in the documentation: https://pandas.pydata.org/pandas-docs/stable/user_guide/indexing.html#returning-a-view-versus-a-copy\n",
            "\n"
          ],
          "name": "stderr"
        }
      ]
    },
    {
      "cell_type": "code",
      "metadata": {
        "id": "5cmS2F6crnFq",
        "colab": {
          "base_uri": "https://localhost:8080/",
          "height": 204
        },
        "outputId": "23baa29a-d519-4549-abb7-4294391201c5"
      },
      "source": [
        "df_train.head()"
      ],
      "execution_count": null,
      "outputs": [
        {
          "output_type": "execute_result",
          "data": {
            "text/html": [
              "<div>\n",
              "<style scoped>\n",
              "    .dataframe tbody tr th:only-of-type {\n",
              "        vertical-align: middle;\n",
              "    }\n",
              "\n",
              "    .dataframe tbody tr th {\n",
              "        vertical-align: top;\n",
              "    }\n",
              "\n",
              "    .dataframe thead th {\n",
              "        text-align: right;\n",
              "    }\n",
              "</style>\n",
              "<table border=\"1\" class=\"dataframe\">\n",
              "  <thead>\n",
              "    <tr style=\"text-align: right;\">\n",
              "      <th></th>\n",
              "      <th>Hour</th>\n",
              "      <th>AMorPM</th>\n",
              "      <th>Weekday</th>\n",
              "      <th>pickup_latitude</th>\n",
              "      <th>pickup_longitude</th>\n",
              "      <th>dropoff_latitude</th>\n",
              "      <th>dropoff_longitude</th>\n",
              "      <th>passenger_count</th>\n",
              "      <th>dist_km</th>\n",
              "    </tr>\n",
              "  </thead>\n",
              "  <tbody>\n",
              "    <tr>\n",
              "      <th>0</th>\n",
              "      <td>13</td>\n",
              "      <td>1</td>\n",
              "      <td>1</td>\n",
              "      <td>0.084500</td>\n",
              "      <td>-0.114733</td>\n",
              "      <td>0.118104</td>\n",
              "      <td>-0.123607</td>\n",
              "      <td>-0.522701</td>\n",
              "      <td>-0.050455</td>\n",
              "    </tr>\n",
              "    <tr>\n",
              "      <th>1</th>\n",
              "      <td>12</td>\n",
              "      <td>1</td>\n",
              "      <td>5</td>\n",
              "      <td>0.083434</td>\n",
              "      <td>-0.129662</td>\n",
              "      <td>0.128620</td>\n",
              "      <td>-0.136549</td>\n",
              "      <td>-0.522701</td>\n",
              "      <td>-0.030396</td>\n",
              "    </tr>\n",
              "    <tr>\n",
              "      <th>2</th>\n",
              "      <td>20</td>\n",
              "      <td>1</td>\n",
              "      <td>6</td>\n",
              "      <td>0.088753</td>\n",
              "      <td>-0.126767</td>\n",
              "      <td>0.123878</td>\n",
              "      <td>-0.137675</td>\n",
              "      <td>0.242205</td>\n",
              "      <td>-0.049485</td>\n",
              "    </tr>\n",
              "    <tr>\n",
              "      <th>3</th>\n",
              "      <td>0</td>\n",
              "      <td>0</td>\n",
              "      <td>2</td>\n",
              "      <td>0.085759</td>\n",
              "      <td>-0.127148</td>\n",
              "      <td>0.125014</td>\n",
              "      <td>-0.137705</td>\n",
              "      <td>-0.522701</td>\n",
              "      <td>-0.045674</td>\n",
              "    </tr>\n",
              "    <tr>\n",
              "      <th>4</th>\n",
              "      <td>3</td>\n",
              "      <td>0</td>\n",
              "      <td>5</td>\n",
              "      <td>0.089470</td>\n",
              "      <td>-0.125494</td>\n",
              "      <td>0.128885</td>\n",
              "      <td>-0.134423</td>\n",
              "      <td>-0.522701</td>\n",
              "      <td>-0.047837</td>\n",
              "    </tr>\n",
              "  </tbody>\n",
              "</table>\n",
              "</div>"
            ],
            "text/plain": [
              "  Hour AMorPM Weekday  ...  dropoff_longitude  passenger_count   dist_km\n",
              "0   13      1       1  ...          -0.123607        -0.522701 -0.050455\n",
              "1   12      1       5  ...          -0.136549        -0.522701 -0.030396\n",
              "2   20      1       6  ...          -0.137675         0.242205 -0.049485\n",
              "3    0      0       2  ...          -0.137705        -0.522701 -0.045674\n",
              "4    3      0       5  ...          -0.134423        -0.522701 -0.047837\n",
              "\n",
              "[5 rows x 9 columns]"
            ]
          },
          "metadata": {
            "tags": []
          },
          "execution_count": 106
        }
      ]
    },
    {
      "cell_type": "code",
      "metadata": {
        "id": "4urVKk9NxDCx",
        "colab": {
          "base_uri": "https://localhost:8080/"
        },
        "outputId": "9fe6b4ea-f32d-4fbc-8d19-31f29680200a"
      },
      "source": [
        "X.shape"
      ],
      "execution_count": null,
      "outputs": [
        {
          "output_type": "execute_result",
          "data": {
            "text/plain": [
              "(249979, 9)"
            ]
          },
          "metadata": {
            "tags": []
          },
          "execution_count": 107
        }
      ]
    },
    {
      "cell_type": "code",
      "metadata": {
        "id": "7vV8_9do4-Oo",
        "colab": {
          "base_uri": "https://localhost:8080/"
        },
        "outputId": "b060c0ee-3816-4f8d-af14-269dca65bcc4"
      },
      "source": [
        "X.info()"
      ],
      "execution_count": null,
      "outputs": [
        {
          "output_type": "stream",
          "text": [
            "<class 'pandas.core.frame.DataFrame'>\n",
            "Int64Index: 249979 entries, 0 to 1\n",
            "Data columns (total 9 columns):\n",
            " #   Column             Non-Null Count   Dtype   \n",
            "---  ------             --------------   -----   \n",
            " 0   Hour               249979 non-null  category\n",
            " 1   AMorPM             249979 non-null  category\n",
            " 2   Weekday            249979 non-null  category\n",
            " 3   pickup_latitude    249979 non-null  float64 \n",
            " 4   pickup_longitude   249979 non-null  float64 \n",
            " 5   dropoff_latitude   249979 non-null  float64 \n",
            " 6   dropoff_longitude  249979 non-null  float64 \n",
            " 7   passenger_count    249979 non-null  float64 \n",
            " 8   dist_km            249979 non-null  float64 \n",
            "dtypes: category(3), float64(6)\n",
            "memory usage: 14.1 MB\n"
          ],
          "name": "stdout"
        }
      ]
    },
    {
      "cell_type": "markdown",
      "metadata": {
        "id": "fTHaK8PusKx9"
      },
      "source": [
        "## train-valid split"
      ]
    },
    {
      "cell_type": "code",
      "metadata": {
        "id": "_RdHsihKtYLK",
        "colab": {
          "base_uri": "https://localhost:8080/",
          "height": 204
        },
        "outputId": "e4a662db-4620-4218-d027-0d9203eeaa6f"
      },
      "source": [
        "X_train, X_val, y_train, y_val = train_test_split(X, Y, test_size=0.20, random_state=42,shuffle=True ) \n",
        "X_train.head()"
      ],
      "execution_count": null,
      "outputs": [
        {
          "output_type": "execute_result",
          "data": {
            "text/html": [
              "<div>\n",
              "<style scoped>\n",
              "    .dataframe tbody tr th:only-of-type {\n",
              "        vertical-align: middle;\n",
              "    }\n",
              "\n",
              "    .dataframe tbody tr th {\n",
              "        vertical-align: top;\n",
              "    }\n",
              "\n",
              "    .dataframe thead th {\n",
              "        text-align: right;\n",
              "    }\n",
              "</style>\n",
              "<table border=\"1\" class=\"dataframe\">\n",
              "  <thead>\n",
              "    <tr style=\"text-align: right;\">\n",
              "      <th></th>\n",
              "      <th>Hour</th>\n",
              "      <th>AMorPM</th>\n",
              "      <th>Weekday</th>\n",
              "      <th>pickup_latitude</th>\n",
              "      <th>pickup_longitude</th>\n",
              "      <th>dropoff_latitude</th>\n",
              "      <th>dropoff_longitude</th>\n",
              "      <th>passenger_count</th>\n",
              "      <th>dist_km</th>\n",
              "    </tr>\n",
              "  </thead>\n",
              "  <tbody>\n",
              "    <tr>\n",
              "      <th>24163</th>\n",
              "      <td>2</td>\n",
              "      <td>0</td>\n",
              "      <td>0</td>\n",
              "      <td>0.086699</td>\n",
              "      <td>-0.126605</td>\n",
              "      <td>0.126492</td>\n",
              "      <td>-0.134980</td>\n",
              "      <td>-0.522701</td>\n",
              "      <td>-0.044407</td>\n",
              "    </tr>\n",
              "    <tr>\n",
              "      <th>2508</th>\n",
              "      <td>11</td>\n",
              "      <td>0</td>\n",
              "      <td>4</td>\n",
              "      <td>0.087860</td>\n",
              "      <td>-0.126639</td>\n",
              "      <td>0.125205</td>\n",
              "      <td>-0.136110</td>\n",
              "      <td>-0.522701</td>\n",
              "      <td>-0.050771</td>\n",
              "    </tr>\n",
              "    <tr>\n",
              "      <th>71038</th>\n",
              "      <td>9</td>\n",
              "      <td>0</td>\n",
              "      <td>2</td>\n",
              "      <td>0.090772</td>\n",
              "      <td>-0.124200</td>\n",
              "      <td>0.126495</td>\n",
              "      <td>-0.134637</td>\n",
              "      <td>-0.522701</td>\n",
              "      <td>-0.049314</td>\n",
              "    </tr>\n",
              "    <tr>\n",
              "      <th>67576</th>\n",
              "      <td>8</td>\n",
              "      <td>0</td>\n",
              "      <td>5</td>\n",
              "      <td>0.090493</td>\n",
              "      <td>-0.124729</td>\n",
              "      <td>0.125006</td>\n",
              "      <td>-0.136112</td>\n",
              "      <td>-0.522701</td>\n",
              "      <td>-0.046399</td>\n",
              "    </tr>\n",
              "    <tr>\n",
              "      <th>187028</th>\n",
              "      <td>22</td>\n",
              "      <td>1</td>\n",
              "      <td>2</td>\n",
              "      <td>0.089375</td>\n",
              "      <td>-0.126875</td>\n",
              "      <td>0.122877</td>\n",
              "      <td>-0.131308</td>\n",
              "      <td>0.242205</td>\n",
              "      <td>-0.037810</td>\n",
              "    </tr>\n",
              "  </tbody>\n",
              "</table>\n",
              "</div>"
            ],
            "text/plain": [
              "       Hour AMorPM Weekday  ...  dropoff_longitude  passenger_count   dist_km\n",
              "24163     2      0       0  ...          -0.134980        -0.522701 -0.044407\n",
              "2508     11      0       4  ...          -0.136110        -0.522701 -0.050771\n",
              "71038     9      0       2  ...          -0.134637        -0.522701 -0.049314\n",
              "67576     8      0       5  ...          -0.136112        -0.522701 -0.046399\n",
              "187028   22      1       2  ...          -0.131308         0.242205 -0.037810\n",
              "\n",
              "[5 rows x 9 columns]"
            ]
          },
          "metadata": {
            "tags": []
          },
          "execution_count": 109
        }
      ]
    },
    {
      "cell_type": "markdown",
      "metadata": {
        "id": "_oCxNy_X3Mp9"
      },
      "source": [
        "## Embeddings"
      ]
    },
    {
      "cell_type": "code",
      "metadata": {
        "id": "vCvmV8v1wMPs",
        "colab": {
          "base_uri": "https://localhost:8080/"
        },
        "outputId": "bf66450f-b85d-4a13-ccb8-9b872192682e"
      },
      "source": [
        "#df.info()\n",
        "cat_szs = [len(df[col].cat.categories) for col in cat_cols]\n",
        "emb_szs = [(size, min(50, (size+1)//2)) for size in cat_szs]\n",
        "emb_szs"
      ],
      "execution_count": null,
      "outputs": [
        {
          "output_type": "execute_result",
          "data": {
            "text/plain": [
              "[(24, 12), (2, 1), (7, 4)]"
            ]
          },
          "metadata": {
            "tags": []
          },
          "execution_count": 110
        }
      ]
    },
    {
      "cell_type": "code",
      "metadata": {
        "id": "i_4YuUvx46la",
        "colab": {
          "base_uri": "https://localhost:8080/"
        },
        "outputId": "43717b97-e64c-489c-8ca9-fc6664685731"
      },
      "source": [
        "type(emb_szs)"
      ],
      "execution_count": null,
      "outputs": [
        {
          "output_type": "execute_result",
          "data": {
            "text/plain": [
              "list"
            ]
          },
          "metadata": {
            "tags": []
          },
          "execution_count": 111
        }
      ]
    },
    {
      "cell_type": "code",
      "metadata": {
        "id": "xB0WRovpW2Ui",
        "colab": {
          "base_uri": "https://localhost:8080/"
        },
        "outputId": "b6d85821-8fed-41b6-9f89-5b8d2b79abd5"
      },
      "source": [
        "X_train.shape\n"
      ],
      "execution_count": null,
      "outputs": [
        {
          "output_type": "execute_result",
          "data": {
            "text/plain": [
              "(199983, 9)"
            ]
          },
          "metadata": {
            "tags": []
          },
          "execution_count": 112
        }
      ]
    },
    {
      "cell_type": "code",
      "metadata": {
        "id": "AL4mUwLxW5Xa",
        "colab": {
          "base_uri": "https://localhost:8080/"
        },
        "outputId": "d70a921f-7401-4b0c-fb1b-ff2cb7ca200c"
      },
      "source": [
        "X_val.shape"
      ],
      "execution_count": null,
      "outputs": [
        {
          "output_type": "execute_result",
          "data": {
            "text/plain": [
              "(49996, 9)"
            ]
          },
          "metadata": {
            "tags": []
          },
          "execution_count": 113
        }
      ]
    },
    {
      "cell_type": "code",
      "metadata": {
        "id": "I-N__07EXSo2",
        "colab": {
          "base_uri": "https://localhost:8080/"
        },
        "outputId": "ca418e01-b8ff-42ba-fc5b-34d0e570e422"
      },
      "source": [
        "y_train.shape"
      ],
      "execution_count": null,
      "outputs": [
        {
          "output_type": "execute_result",
          "data": {
            "text/plain": [
              "(199983,)"
            ]
          },
          "metadata": {
            "tags": []
          },
          "execution_count": 114
        }
      ]
    },
    {
      "cell_type": "code",
      "metadata": {
        "id": "7Hvf57M-XVw4",
        "colab": {
          "base_uri": "https://localhost:8080/"
        },
        "outputId": "40ff28af-f4d7-4de8-a211-76fccb2a747d"
      },
      "source": [
        "y_val.shape"
      ],
      "execution_count": null,
      "outputs": [
        {
          "output_type": "execute_result",
          "data": {
            "text/plain": [
              "(49996,)"
            ]
          },
          "metadata": {
            "tags": []
          },
          "execution_count": 115
        }
      ]
    },
    {
      "cell_type": "markdown",
      "metadata": {
        "id": "DPSMOoA_5cRV"
      },
      "source": [
        "#Model"
      ]
    },
    {
      "cell_type": "markdown",
      "metadata": {
        "id": "PUt8V_eR56DU"
      },
      "source": [
        "##Pytorch data set datasets and dataloaders"
      ]
    },
    {
      "cell_type": "code",
      "metadata": {
        "id": "q2uUbOcllJdF"
      },
      "source": [
        "class RegressionColumnarDataset(data.Dataset):\n",
        "    def __init__(self, df, cats, y):\n",
        "        \n",
        "        \n",
        "        self.dfcats = df[cats] #type: pandas.core.frame.DataFrame\n",
        "        self.dfconts = df.drop(cats, axis=1) #type: pandas.core.frame.DataFrame\n",
        "        \n",
        "        \n",
        "        self.cats = np.stack([c.values for n, c in self.dfcats.items()], axis=1).astype(np.int64) #tpye: numpy.ndarray\n",
        "        self.conts = np.stack([c.values for n, c in self.dfconts.items()], axis=1).astype(np.float32) #tpye: numpy.ndarray\n",
        "        self.y = y.values.astype(np.float32)\n",
        "        \n",
        "        \n",
        "    def __len__(self): return len(self.y)\n",
        "\n",
        "    def __getitem__(self, idx):\n",
        "        \n",
        "        return [self.cats[idx], self.conts[idx], self.y[idx]]\n",
        "        \n",
        "        "
      ],
      "execution_count": null,
      "outputs": []
    },
    {
      "cell_type": "code",
      "metadata": {
        "id": "kJ2KTRgolJA7"
      },
      "source": [
        "trainds = RegressionColumnarDataset(X_train, cat_cols, y_train) #type: __main__.RegressionColumnarDataset\n",
        "valds = RegressionColumnarDataset(X_val, cat_cols, y_val) #type: __main__.RegressionColumnarDataset"
      ],
      "execution_count": null,
      "outputs": []
    },
    {
      "cell_type": "code",
      "metadata": {
        "id": "4iJaFR-24gFf"
      },
      "source": [
        "params = {'batch_size': 128,\n",
        "          'shuffle': True}\n",
        "\n",
        "\n",
        "traindl = DataLoader(trainds, **params) #type: torch.utils.data.dataloader.DataLoader\n",
        "valdl = DataLoader(valds, **params) #type: torch.utils.data.dataloader.DataLoader"
      ],
      "execution_count": null,
      "outputs": []
    },
    {
      "cell_type": "code",
      "metadata": {
        "colab": {
          "base_uri": "https://localhost:8080/"
        },
        "id": "jOmgqCNa5a8n",
        "outputId": "2d3b4d90-fb4b-4ff9-de23-4b49072bface"
      },
      "source": [
        "traindl"
      ],
      "execution_count": null,
      "outputs": [
        {
          "output_type": "execute_result",
          "data": {
            "text/plain": [
              "<torch.utils.data.dataloader.DataLoader at 0x7f34765ea650>"
            ]
          },
          "metadata": {
            "tags": []
          },
          "execution_count": 119
        }
      ]
    },
    {
      "cell_type": "markdown",
      "metadata": {
        "id": "HXMjyAMC-hNo"
      },
      "source": [
        "##Tabular Model"
      ]
    },
    {
      "cell_type": "code",
      "metadata": {
        "id": "dynnFczJ8UhL"
      },
      "source": [
        "# help functions\n",
        "\n",
        "from collections.abc import Iterable\n",
        "\n",
        "\n",
        "def bn_drop_lin(n_in:int, n_out:int, bn:bool=True, p:float=0., actn=None):\n",
        "    \"Sequence of batchnorm (if `bn`), dropout (with `p`) and linear (`n_in`,`n_out`) layers followed by `actn`.\"\n",
        "    layers = [nn.BatchNorm1d(n_in)] if bn else []\n",
        "    if p != 0: layers.append(nn.Dropout(p))\n",
        "    layers.append(nn.Linear(n_in, n_out))\n",
        "    if actn is not None: layers.append(actn)\n",
        "    return layers\n",
        "\n",
        "def ifnone(a,b):\n",
        "    \"`a` if `a` is not None, otherwise `b`.\"\n",
        "    return b if a is None else a\n",
        "\n",
        "def listify(p, q):\n",
        "    \"Make `p` listy and the same length as `q`.\"\n",
        "    if p is None: p=[]\n",
        "    elif isinstance(p, str):          p = [p]\n",
        "    elif not isinstance(p, Iterable): p = [p]\n",
        "    #Rank 0 tensors in PyTorch are Iterable but don't have a length.\n",
        "    else:\n",
        "        try: a = len(p)\n",
        "        except: p = [p]\n",
        "    n = q if type(q)==int else len(p) if q is None else len(q)\n",
        "    if len(p)==1: p = p * n\n",
        "    assert len(p)==n, f'List len mismatch ({len(p)} vs {n})'\n",
        "    return list(p)\n",
        "\n",
        "              \n",
        "\n",
        "class TabularModel(nn.Module):\n",
        "    \"Basic model for tabular data.\"\n",
        "    def __init__(self, emb_szs, n_cont:int, out_sz:int, layers, ps=None,\n",
        "                 emb_drop:float=0., y_range=None, use_bn:bool=True, bn_final:bool=False):\n",
        "        super().__init__()\n",
        "        ps = ifnone(ps, [0]*len(layers))\n",
        "        ps = listify(ps, layers)\n",
        "        self.embeds = nn.ModuleList([nn.Embedding(ni, nf) for ni,nf in emb_szs]) #type: torch.nn.modules.container.ModuleList\n",
        "        self.emb_drop = nn.Dropout(emb_drop) #type: torch.nn.modules.dropout.Dropout\n",
        "        self.bn_cont = nn.BatchNorm1d(n_cont) #type torch.nn.modules.batchnorm.BatchNorm1d\n",
        "        n_emb = sum(e.embedding_dim for e in self.embeds) # n_emb = 17 , type: int\n",
        "        self.n_emb,self.n_cont,self.y_range = n_emb,n_cont,y_range\n",
        "        sizes = [n_emb + n_cont] + layers + [out_sz] #typeL list, len: 4\n",
        "        actns = [nn.ReLU(inplace=True) for _ in range(len(sizes)-2)] + [None] #type: list, len: 3.  the last in None because we finish with linear\n",
        "        layers = []\n",
        "        for i,(n_in,n_out,dp,act) in enumerate(zip(sizes[:-1],sizes[1:],[0.]+ps,actns)):\n",
        "            layers += bn_drop_lin(n_in, n_out, bn=use_bn and i!=0, p=dp, actn=act)\n",
        "        if bn_final: layers.append(nn.BatchNorm1d(sizes[-1]))\n",
        "        self.layers = nn.Sequential(*layers) #type: torch.nn.modules.container.Sequential\n",
        "        \n",
        "\n",
        "\n",
        "\n",
        "    def forward(self, x_cat, x_cont):\n",
        "        if self.n_emb != 0:\n",
        "            x = [e(x_cat[:,i]) for i,e in enumerate(self.embeds)] #take the embedding list and grab an embedding and pass in our single row of data.        \n",
        "            x = torch.cat(x, 1) # concatenate it on dim 1 ## remeber that the len is the batch size\n",
        "            x = self.emb_drop(x) # pass it through a dropout layer\n",
        "        if self.n_cont != 0:\n",
        "            x_cont = self.bn_cont(x_cont) # batchnorm1d\n",
        "            x = torch.cat([x, x_cont], 1) if self.n_emb != 0 else x_cont # combine the categircal and continous variables on dim 1\n",
        "        x = self.layers(x)\n",
        "        if self.y_range is not None:\n",
        "            x = (self.y_range[1]-self.y_range[0]) * torch.sigmoid(x) + self.y_range[0] # deal with y_range\n",
        "        return x.squeeze()\n",
        "    "
      ],
      "execution_count": null,
      "outputs": []
    },
    {
      "cell_type": "code",
      "metadata": {
        "id": "voS5fTPF-mFb",
        "colab": {
          "base_uri": "https://localhost:8080/"
        },
        "outputId": "abd1f51e-9dfd-4a17-cfdf-afdb724f9237"
      },
      "source": [
        "torch.manual_seed(33)"
      ],
      "execution_count": null,
      "outputs": [
        {
          "output_type": "execute_result",
          "data": {
            "text/plain": [
              "<torch._C.Generator at 0x7f354a2c4470>"
            ]
          },
          "metadata": {
            "tags": []
          },
          "execution_count": 121
        }
      ]
    },
    {
      "cell_type": "code",
      "metadata": {
        "id": "Qdy8Vq-eRPvh",
        "colab": {
          "base_uri": "https://localhost:8080/"
        },
        "outputId": "978c6ada-069e-47c5-c729-c33d2d0326fa"
      },
      "source": [
        "y_range = (0, y_train.max()*1.2)\n",
        "y_range"
      ],
      "execution_count": null,
      "outputs": [
        {
          "output_type": "execute_result",
          "data": {
            "text/plain": [
              "(0, 7.445469315082428)"
            ]
          },
          "metadata": {
            "tags": []
          },
          "execution_count": 122
        }
      ]
    },
    {
      "cell_type": "code",
      "metadata": {
        "id": "UxDTmxl6_N_8",
        "colab": {
          "base_uri": "https://localhost:8080/"
        },
        "outputId": "87184fd5-c2b6-4f12-967b-eeff63c03180"
      },
      "source": [
        "model = TabularModel(emb_szs = emb_szs,n_cont = len(cont_cols),out_sz = 1,layers = [1000,500,250],ps= [0.001,0.01,0.01],emb_drop=0.04, y_range=y_range).to(device)\n",
        "model"
      ],
      "execution_count": null,
      "outputs": [
        {
          "output_type": "execute_result",
          "data": {
            "text/plain": [
              "TabularModel(\n",
              "  (embeds): ModuleList(\n",
              "    (0): Embedding(24, 12)\n",
              "    (1): Embedding(2, 1)\n",
              "    (2): Embedding(7, 4)\n",
              "  )\n",
              "  (emb_drop): Dropout(p=0.04, inplace=False)\n",
              "  (bn_cont): BatchNorm1d(6, eps=1e-05, momentum=0.1, affine=True, track_running_stats=True)\n",
              "  (layers): Sequential(\n",
              "    (0): Linear(in_features=23, out_features=1000, bias=True)\n",
              "    (1): ReLU(inplace=True)\n",
              "    (2): BatchNorm1d(1000, eps=1e-05, momentum=0.1, affine=True, track_running_stats=True)\n",
              "    (3): Dropout(p=0.001, inplace=False)\n",
              "    (4): Linear(in_features=1000, out_features=500, bias=True)\n",
              "    (5): ReLU(inplace=True)\n",
              "    (6): BatchNorm1d(500, eps=1e-05, momentum=0.1, affine=True, track_running_stats=True)\n",
              "    (7): Dropout(p=0.01, inplace=False)\n",
              "    (8): Linear(in_features=500, out_features=250, bias=True)\n",
              "    (9): ReLU(inplace=True)\n",
              "    (10): BatchNorm1d(250, eps=1e-05, momentum=0.1, affine=True, track_running_stats=True)\n",
              "    (11): Dropout(p=0.01, inplace=False)\n",
              "    (12): Linear(in_features=250, out_features=1, bias=True)\n",
              "  )\n",
              ")"
            ]
          },
          "metadata": {
            "tags": []
          },
          "execution_count": 123
        }
      ]
    },
    {
      "cell_type": "markdown",
      "metadata": {
        "id": "mCqq3sfY_mku"
      },
      "source": [
        "## optimizer"
      ]
    },
    {
      "cell_type": "code",
      "metadata": {
        "id": "sOkFdhVN4Z6_"
      },
      "source": [
        "from collections import defaultdict\n",
        "opt = torch.optim.Adam(model.parameters(), lr=1e-2) # can add: weight_decay=\n",
        "#lr_cosine = lr_scheduler.CosineAnnealingLR(opt,T_max = 350) #1000 ## if you want to add lr_cosine\n",
        "\n",
        "\n",
        "\n",
        "lr = defaultdict(list)\n",
        "tloss = defaultdict(list)\n",
        "vloss = defaultdict(list)"
      ],
      "execution_count": null,
      "outputs": []
    },
    {
      "cell_type": "markdown",
      "metadata": {
        "id": "dgSawsRpCd40"
      },
      "source": [
        "##Train and Fit"
      ]
    },
    {
      "cell_type": "code",
      "metadata": {
        "id": "IQ4sEx4NsAjO"
      },
      "source": [
        "def inv_y(y): return np.exp(y)\n",
        "\n",
        "def rmse(targ, y_pred):\n",
        "    return np.sqrt(mean_squared_error(inv_y(y_pred), inv_y(targ))) #.detach().numpy()\n",
        "    \n",
        "\n",
        "def rmse(targ, y_pred):\n",
        "   return np.sqrt(mean_squared_error(y_pred, targ)) #.detach().numpy()\n",
        "\n",
        "\n",
        "#def fit(model, train_dl, val_dl, loss_fn, opt, scheduler, epochs=3): ## if you want to add schedular\n",
        "def fit(model, train_dl, val_dl, loss_fn, opt, epochs=3):\n",
        "    num_batch = len(train_dl)\n",
        "    for epoch in tnrange(epochs):      \n",
        "        y_true_train = list()\n",
        "        y_pred_train = list()\n",
        "        total_loss_train = 0          \n",
        "        \n",
        "        t = tqdm_notebook(iter(train_dl), leave=False, total=num_batch)\n",
        "        for cat, cont, y in t:\n",
        "            cat = cat.cuda()\n",
        "            cont = cont.cuda()\n",
        "            y = y.cuda()\n",
        "            \n",
        "            t.set_description(f'Epoch {epoch}')\n",
        "            \n",
        "            opt.zero_grad() #find where the grads are zero\n",
        "            pred = model(cat, cont)\n",
        "            loss = loss_fn(pred, y)\n",
        "            \n",
        "            loss.backward() # do backprop\n",
        "            lr[epoch].append(opt.param_groups[0]['lr'])\n",
        "            tloss[epoch].append(loss.item())\n",
        "            opt.step()\n",
        "            #scheduler.step()\n",
        "            \n",
        "            \n",
        "            t.set_postfix(loss=loss.item())\n",
        "            \n",
        "            y_true_train += list(y.cpu().data.numpy())\n",
        "            y_pred_train += list(pred.cpu().data.numpy())\n",
        "            total_loss_train += loss.item()\n",
        "            \n",
        "        train_acc = rmse(y_true_train, y_pred_train)\n",
        "        train_loss = total_loss_train/len(train_dl) # len train_dl = 704. the calc is number of train examples (89991) / batch size (128)\n",
        "        \n",
        "        if val_dl:\n",
        "            y_true_val = list()\n",
        "            y_pred_val = list()\n",
        "            total_loss_val = 0\n",
        "            for cat, cont, y in tqdm_notebook(val_dl, leave=False):\n",
        "                cat = cat.cuda()\n",
        "                cont = cont.cuda()\n",
        "                y = y.cuda()\n",
        "                pred = model(cat, cont)\n",
        "                loss = loss_fn(pred, y)\n",
        "                \n",
        "                y_true_val += list(y.cpu().data.numpy())\n",
        "                y_pred_val += list(pred.cpu().data.numpy())\n",
        "                total_loss_val += loss.item()\n",
        "                vloss[epoch].append(loss.item())\n",
        "            valacc = rmse(y_true_val, y_pred_val)\n",
        "            valloss = total_loss_val/len(valdl)\n",
        "            print(f'Epoch {epoch}: train_loss: {train_loss:.4f} train_rmse: {train_acc:.4f} | val_loss: {valloss:.4f} val_rmse: {valacc:.4f}')\n",
        "        else:\n",
        "            print(f'Epoch {epoch}: train_loss: {train_loss:.4f} train_rmse: {train_acc:.4f}')\n",
        "    \n",
        "    return lr, tloss, vloss"
      ],
      "execution_count": null,
      "outputs": []
    },
    {
      "cell_type": "markdown",
      "metadata": {
        "id": "CUORRsg-CWKp"
      },
      "source": [
        "## Train the model"
      ]
    },
    {
      "cell_type": "code",
      "metadata": {
        "id": "wAD4aful_uFX",
        "colab": {
          "base_uri": "https://localhost:8080/",
          "height": 1000,
          "referenced_widgets": [
            "1730006f99d2437ebf7efd283c1e10d6",
            "3a754bb107684ef4a6a8b0b7626fe5d9",
            "24d594f18da6462ab678993bbf442bba",
            "3895e046480a4cf6867d14244c6a23cf",
            "64fad78bf720458a91524fbd2a3e94a7",
            "6f816eb8a57c4eaeb8a0f5992e201937",
            "2d6601f0fbf54686a523b9e971f9be95",
            "2cf8359b069948dfa303c46967e3a402",
            "0c130f4341ab4385afc0b628bb6c12cc",
            "1583c93d715d4265add25821505f58df",
            "7ecc6a0a5cc74fdc9a664f78ce2a12cc",
            "c55d60abd3f64f2084b4237cd22ea0eb",
            "eae0b6f888ce44eebc7608ce6c4fb891",
            "ac5050abda854eac9f74a563a17a0063",
            "3cfb5650e0314f95970d268521e21d8f",
            "f4805148771b4273814cec9b2d3e9575",
            "1b21ca41d1524e0db6202171e79f9328",
            "4d3cdd0a4c824f5f8843eb9703b91574",
            "949bb9546f9d4151b1f4d0822071a8fc",
            "c105a555531e4609893b6fa770f94191",
            "c5a24f5b3f2f4a27a44a4223b619a240",
            "1c2e38a1858244eb9e0b5320047372a8",
            "6379a0065b394b158bd9e0d354e45a47",
            "c3f0baf01a01463b96f00d97f5263935",
            "40ad81d4361c486cad88b198b5bf9c40",
            "60307fd3f72542f2b708d79465627858",
            "00307e0e0b1d4b5f85a04de6b100c03b",
            "3f14d597462240a1b938d6c5f9f9761a",
            "159473600060448eb5031c2d9443330a",
            "1055396019184fba9746a3d3550a4c67",
            "f1617a98f8d8447e86f64dca71bce9a6",
            "78e06e9ea7d7402d8bfd13ca949bdbb1",
            "37a8d84d8e0649e7a90e58c278cb1078",
            "339432f5743142b69a2a420a8310c94a",
            "c639911e60ec4fc18e5c566dbe294070",
            "69350e90a3244046adcdcdea4c63a950",
            "faa38e8fe4b943628b5e7b05ed595afb",
            "7ea0faa7ad8e4ebb9f063d227ad67c4a",
            "6ee2240883cf4d49820e23ae6e3ff69c",
            "a5f24ab6b2464d93ad6555e9d2fb27b1",
            "c57abb4a503349b7a80eed78dbedb74d",
            "25f4fad5ceef43caad7c99d4001f84fe",
            "690529d62d73492b9e1f5522644c9bdb",
            "26e08f580a4f47588bbb890a2d3c3ccf",
            "db119974927d497dacecd948e6004795",
            "0b13f5b5fd384155bb6e0e0ab2e65085",
            "b15f9ba3fb174b68b45cc50089ac3436",
            "40f153d6d79042ef8863a23e166bad1b",
            "9cb5eeb0a2e442709f25760327b2e064",
            "469e93586b0b4264b0701d7f0dbd98dd",
            "de68c92013974c8c9c2cc25bd1c7ca7c",
            "af871f63b1e94720b13a7e1990ae74ad",
            "06bc07d76b184ae1a070030c57e2f754",
            "6aea451db0fa4eb487ecc8537e69d338",
            "4aa0ac7a0698477fbad2a2c73a0c4635",
            "25d01a3ffe994f64a163880be017a9ac",
            "aea1f74909ad46359e6241f3dcc54580",
            "776f594420a841cfabcd409ffc74b73e",
            "0e4af8cc08554058927be9f5f6239420",
            "a6e28638565d449fb8f9ab4d23448120",
            "0f85eb397b264ae6997790d11b0a349e",
            "0baa9bb4a5574908a8a06c7a92a02cd0",
            "f568c373911246d3a0d0feb02d210d98",
            "f44e62ae322440eaa8c1cabe5e9772d0",
            "c69acbd2775f49358b6b556adabf4fd1",
            "b597aaefde494aa3b44a2c15be5eb7fe",
            "dce0b94b49194df58c15cdfb61b98836",
            "b15d192650b14fffaf6a1130242e849f",
            "1129b7561f8a41d7b317779f944b7200",
            "85bd582ac423427f925a61ba29e4c54b",
            "37f51b10a3fc4f4daa91085812215fff",
            "f150a57b15a14713bee5948458fc2938",
            "979ad7fcaf8d4eecb324933388d63fbc",
            "ed2ce87288b9459e90c150fa78f5265b",
            "7f25602c95314af4afaaf6868221790c",
            "ae559999e1d44748a96b9d91a3756275",
            "6e28e9407a284317b77b32ca9e0fe8a4",
            "5193c1391c704513bf52ff74082073c7",
            "01867c360bd44d92ac9712bffb87e065",
            "871f236103a6429b82f1b2834ebc94eb",
            "8f81aaf119f34737b75592cfd9944911",
            "0922b794ae2c4c42966118a41d601969",
            "5f967e9d9ddc46a49cef1379a3762562",
            "c56a9ccf3ccf49a69fe6ae6a27680ceb",
            "3d924dae9bfe4a52baee7b86c99e67fe",
            "adea5217f3da475fa459024ca6aaa039",
            "a3b5bc75b31d430980f7929da08d621d",
            "545fecf7100f4f7ebdd877a5f5927179",
            "47deee7fbe654c69ad71cfb4a06c53e0",
            "1645cc148b7449d9a17b490904ace484",
            "1dac3f48632843a982b2ef911ccc4e63",
            "7658ded06219468a997283916f66ed1b",
            "05f0731f56734256aabe7bc02bef6d9d",
            "224e904b217b49c999f893d114a38b7e",
            "4e8bb09bcea54395ac18da6251d26289",
            "49735b6e2986411786c4260061c6b7e4",
            "5c1a3e33cac1434fb508a8fb07632aa5",
            "46b3f05c95d840d389bf4df563fd6bd0",
            "9ff60a8da82a4da2b223f84cd3c6f8af",
            "4865f06c55a644d88b9375fd5d125a10",
            "b0fe8a2e4ba840b1b798215358be21ec",
            "f86584acb0d8471085a4f26e42ef04ae",
            "2b32f2706dec475fb80ef0a138c5919b",
            "4c3d8055db0e4664914d508e407e7481",
            "5b05515c084d4e5583d476864e3cadb0",
            "f7376954811c4c5786da0f4abc1bdb80",
            "5bb514f094c24654afbbef8186563cfc",
            "ce0009d65f184210b1a130535f0aed1d",
            "5e35a741df1f40298e45320928f9dc40",
            "5d0f35b061394f0985df2be487827676",
            "2b9fb90b2eb846609c93c23cee29e07f",
            "e176e72ac2994e9192ebd5120b236376",
            "7c751e08a19d45dd96be6fa6cdf73f31",
            "ccbe5bc346334ac6961340749b25b909",
            "c4f54765a7734dbe81429a82789ecaa1",
            "c215356de9ad4ab8b7d9451f4615b106",
            "e243bbd4903b42e8994d13cf057ca512",
            "9225a929d3f0406c84cbe4fc55d71025",
            "d5fc52fec6d447288998b52bf3c7af3f",
            "3f8f630f28f54e4abf5da9dfbe6c3985",
            "a08a540c689645b591d57d8b7b3e423a",
            "6f2dce077bbd43709709b1371e07a14e",
            "abb368956aa74785b1631e9bc13dbc76",
            "bde1a5a8d0854c3da308b83a6cdc0b8b",
            "8cba4535acbc4338b901ae6769ba4c7b",
            "c03cd6b5b763449a867ebc13c6dc241d",
            "398fb2880bc248629684380c1216c716",
            "1038fe78bf4445d3ba44719decd7476e",
            "70c62317ccd14243b3bcbed5879e8e6c",
            "6e779d83e432467ab996c18c0a777e0f",
            "fe3440ca6934420797dbddbc5657f747",
            "57e1bcd328f34c73bb7ca5e2d64d9a44",
            "5ea351100ec14d4188900da73d136008",
            "baa8556d00454d8cb732cd580d329972",
            "827084df5263455392259ad9e3f1c868",
            "bd8752d4a0d54ec6a0a219c8070f3112",
            "cefde4bad7864c09bd66a35866dd567a",
            "cc0e575ed8af451882cf7e01e1c19f7e",
            "3a667cbfb7bb4876922ce9382927b34f",
            "dfda274b851542a3a5bc7b275ffd19bf",
            "c59bec8fd01f46fab0b00097ad4d37c5",
            "8ba8041108d44be187155b49c6c4daf3",
            "8909ace7df4049c096afaf115f2fc155",
            "76d8e309fc9945aa96ece893b90fc9f6",
            "6cbd3ce154204af9a7e26583045f0931",
            "b44cc73c0acf44818deef5fb12509cb6",
            "4c2ece346a4a48689239cf94b22dd5d3",
            "1ebccd220b6c4ba9bd0765bd41a2e1b6",
            "7574bceb21324b1b91c4cfc4cdab0d1e",
            "c120249fec5c4574a882a0bd683f91cd",
            "aac739fe17d74d39853a51ef7a2a708a",
            "25d357f838b44d38bf8ce2a1ad4aa939",
            "b424924e65114c4494e162ec4ba465d1",
            "cd84ddb3867540fd879a86db1f1ca9ec",
            "960ce0b22720425d884208a427eb9981",
            "2f1860dde332449db9c44d23124361db",
            "1aa54585ae614ae1a7ecdf83bc2d599c",
            "a1fa773990b140d895c67ded91ac2164",
            "0e73326c7bd542a886cb76207de38f7c",
            "bde2f68d70cf41d3a0914823a04f7258",
            "b0655bbf9a4a45da8b8fde5e1da458d2",
            "8421f057b6f54a6c901c6256bb33ab2d",
            "0da6244fd5934aaca6711c2b126bc031",
            "f5d663b76e2944e5a56d230f05173d0e",
            "c240b0e4ea554005a268756e9d904bd8",
            "d8261b647f4849aaa8d230f6ece2b1e6",
            "3926e59c3a0644469c25693f398b3ff8",
            "9f52893a3eac4c359eac2a9eaaacc87b"
          ]
        },
        "outputId": "51793701-bcb7-4969-ab6a-d5ac00805133"
      },
      "source": [
        "#if you want to add lr_cosine\n",
        "#lr, tloss, vloss = fit(model=model, train_dl=traindl, val_dl=valdl, loss_fn=nn.MSELoss(), opt=opt, scheduler=lr_cosine, epochs=10)\n",
        "\n",
        "\n",
        "lr, tloss, vloss = fit(model=model, train_dl=traindl, val_dl=valdl, loss_fn=nn.MSELoss(), opt=opt,  epochs=10)"
      ],
      "execution_count": null,
      "outputs": [
        {
          "output_type": "stream",
          "text": [
            "/usr/local/lib/python3.7/dist-packages/ipykernel_launcher.py:14: TqdmDeprecationWarning:\n",
            "\n",
            "Please use `tqdm.notebook.trange` instead of `tqdm.tnrange`\n",
            "\n"
          ],
          "name": "stderr"
        },
        {
          "output_type": "display_data",
          "data": {
            "application/vnd.jupyter.widget-view+json": {
              "model_id": "1730006f99d2437ebf7efd283c1e10d6",
              "version_minor": 0,
              "version_major": 2
            },
            "text/plain": [
              "HBox(children=(FloatProgress(value=0.0, max=10.0), HTML(value='')))"
            ]
          },
          "metadata": {
            "tags": []
          }
        },
        {
          "output_type": "stream",
          "text": [
            "/usr/local/lib/python3.7/dist-packages/ipykernel_launcher.py:19: TqdmDeprecationWarning:\n",
            "\n",
            "This function will be removed in tqdm==5.0.0\n",
            "Please use `tqdm.notebook.tqdm` instead of `tqdm.tqdm_notebook`\n",
            "\n"
          ],
          "name": "stderr"
        },
        {
          "output_type": "display_data",
          "data": {
            "application/vnd.jupyter.widget-view+json": {
              "model_id": "0c130f4341ab4385afc0b628bb6c12cc",
              "version_minor": 0,
              "version_major": 2
            },
            "text/plain": [
              "HBox(children=(FloatProgress(value=0.0, max=1563.0), HTML(value='')))"
            ]
          },
          "metadata": {
            "tags": []
          }
        },
        {
          "output_type": "stream",
          "text": [
            "/usr/local/lib/python3.7/dist-packages/ipykernel_launcher.py:51: TqdmDeprecationWarning:\n",
            "\n",
            "This function will be removed in tqdm==5.0.0\n",
            "Please use `tqdm.notebook.tqdm` instead of `tqdm.tqdm_notebook`\n",
            "\n"
          ],
          "name": "stderr"
        },
        {
          "output_type": "display_data",
          "data": {
            "application/vnd.jupyter.widget-view+json": {
              "model_id": "1b21ca41d1524e0db6202171e79f9328",
              "version_minor": 0,
              "version_major": 2
            },
            "text/plain": [
              "HBox(children=(FloatProgress(value=0.0, max=391.0), HTML(value='')))"
            ]
          },
          "metadata": {
            "tags": []
          }
        },
        {
          "output_type": "stream",
          "text": [
            "Epoch 0: train_loss: 0.4085 train_rmse: 0.6391 | val_loss: 0.3416 val_rmse: 0.5845\n"
          ],
          "name": "stdout"
        },
        {
          "output_type": "stream",
          "text": [
            "/usr/local/lib/python3.7/dist-packages/ipykernel_launcher.py:19: TqdmDeprecationWarning:\n",
            "\n",
            "This function will be removed in tqdm==5.0.0\n",
            "Please use `tqdm.notebook.tqdm` instead of `tqdm.tqdm_notebook`\n",
            "\n"
          ],
          "name": "stderr"
        },
        {
          "output_type": "display_data",
          "data": {
            "application/vnd.jupyter.widget-view+json": {
              "model_id": "40ad81d4361c486cad88b198b5bf9c40",
              "version_minor": 0,
              "version_major": 2
            },
            "text/plain": [
              "HBox(children=(FloatProgress(value=0.0, max=1563.0), HTML(value='')))"
            ]
          },
          "metadata": {
            "tags": []
          }
        },
        {
          "output_type": "stream",
          "text": [
            "/usr/local/lib/python3.7/dist-packages/ipykernel_launcher.py:51: TqdmDeprecationWarning:\n",
            "\n",
            "This function will be removed in tqdm==5.0.0\n",
            "Please use `tqdm.notebook.tqdm` instead of `tqdm.tqdm_notebook`\n",
            "\n"
          ],
          "name": "stderr"
        },
        {
          "output_type": "display_data",
          "data": {
            "application/vnd.jupyter.widget-view+json": {
              "model_id": "37a8d84d8e0649e7a90e58c278cb1078",
              "version_minor": 0,
              "version_major": 2
            },
            "text/plain": [
              "HBox(children=(FloatProgress(value=0.0, max=391.0), HTML(value='')))"
            ]
          },
          "metadata": {
            "tags": []
          }
        },
        {
          "output_type": "stream",
          "text": [
            "Epoch 1: train_loss: 0.3203 train_rmse: 0.5660 | val_loss: 0.3208 val_rmse: 0.5665\n"
          ],
          "name": "stdout"
        },
        {
          "output_type": "stream",
          "text": [
            "/usr/local/lib/python3.7/dist-packages/ipykernel_launcher.py:19: TqdmDeprecationWarning:\n",
            "\n",
            "This function will be removed in tqdm==5.0.0\n",
            "Please use `tqdm.notebook.tqdm` instead of `tqdm.tqdm_notebook`\n",
            "\n"
          ],
          "name": "stderr"
        },
        {
          "output_type": "display_data",
          "data": {
            "application/vnd.jupyter.widget-view+json": {
              "model_id": "c57abb4a503349b7a80eed78dbedb74d",
              "version_minor": 0,
              "version_major": 2
            },
            "text/plain": [
              "HBox(children=(FloatProgress(value=0.0, max=1563.0), HTML(value='')))"
            ]
          },
          "metadata": {
            "tags": []
          }
        },
        {
          "output_type": "stream",
          "text": [
            "/usr/local/lib/python3.7/dist-packages/ipykernel_launcher.py:51: TqdmDeprecationWarning:\n",
            "\n",
            "This function will be removed in tqdm==5.0.0\n",
            "Please use `tqdm.notebook.tqdm` instead of `tqdm.tqdm_notebook`\n",
            "\n"
          ],
          "name": "stderr"
        },
        {
          "output_type": "display_data",
          "data": {
            "application/vnd.jupyter.widget-view+json": {
              "model_id": "9cb5eeb0a2e442709f25760327b2e064",
              "version_minor": 0,
              "version_major": 2
            },
            "text/plain": [
              "HBox(children=(FloatProgress(value=0.0, max=391.0), HTML(value='')))"
            ]
          },
          "metadata": {
            "tags": []
          }
        },
        {
          "output_type": "stream",
          "text": [
            "Epoch 2: train_loss: 0.3136 train_rmse: 0.5601 | val_loss: 0.3123 val_rmse: 0.5589\n"
          ],
          "name": "stdout"
        },
        {
          "output_type": "stream",
          "text": [
            "/usr/local/lib/python3.7/dist-packages/ipykernel_launcher.py:19: TqdmDeprecationWarning:\n",
            "\n",
            "This function will be removed in tqdm==5.0.0\n",
            "Please use `tqdm.notebook.tqdm` instead of `tqdm.tqdm_notebook`\n",
            "\n"
          ],
          "name": "stderr"
        },
        {
          "output_type": "display_data",
          "data": {
            "application/vnd.jupyter.widget-view+json": {
              "model_id": "aea1f74909ad46359e6241f3dcc54580",
              "version_minor": 0,
              "version_major": 2
            },
            "text/plain": [
              "HBox(children=(FloatProgress(value=0.0, max=1563.0), HTML(value='')))"
            ]
          },
          "metadata": {
            "tags": []
          }
        },
        {
          "output_type": "stream",
          "text": [
            "/usr/local/lib/python3.7/dist-packages/ipykernel_launcher.py:51: TqdmDeprecationWarning:\n",
            "\n",
            "This function will be removed in tqdm==5.0.0\n",
            "Please use `tqdm.notebook.tqdm` instead of `tqdm.tqdm_notebook`\n",
            "\n"
          ],
          "name": "stderr"
        },
        {
          "output_type": "display_data",
          "data": {
            "application/vnd.jupyter.widget-view+json": {
              "model_id": "c69acbd2775f49358b6b556adabf4fd1",
              "version_minor": 0,
              "version_major": 2
            },
            "text/plain": [
              "HBox(children=(FloatProgress(value=0.0, max=391.0), HTML(value='')))"
            ]
          },
          "metadata": {
            "tags": []
          }
        },
        {
          "output_type": "stream",
          "text": [
            "Epoch 3: train_loss: 0.3072 train_rmse: 0.5543 | val_loss: 0.3075 val_rmse: 0.5545\n"
          ],
          "name": "stdout"
        },
        {
          "output_type": "stream",
          "text": [
            "/usr/local/lib/python3.7/dist-packages/ipykernel_launcher.py:19: TqdmDeprecationWarning:\n",
            "\n",
            "This function will be removed in tqdm==5.0.0\n",
            "Please use `tqdm.notebook.tqdm` instead of `tqdm.tqdm_notebook`\n",
            "\n"
          ],
          "name": "stderr"
        },
        {
          "output_type": "display_data",
          "data": {
            "application/vnd.jupyter.widget-view+json": {
              "model_id": "979ad7fcaf8d4eecb324933388d63fbc",
              "version_minor": 0,
              "version_major": 2
            },
            "text/plain": [
              "HBox(children=(FloatProgress(value=0.0, max=1563.0), HTML(value='')))"
            ]
          },
          "metadata": {
            "tags": []
          }
        },
        {
          "output_type": "stream",
          "text": [
            "/usr/local/lib/python3.7/dist-packages/ipykernel_launcher.py:51: TqdmDeprecationWarning:\n",
            "\n",
            "This function will be removed in tqdm==5.0.0\n",
            "Please use `tqdm.notebook.tqdm` instead of `tqdm.tqdm_notebook`\n",
            "\n"
          ],
          "name": "stderr"
        },
        {
          "output_type": "display_data",
          "data": {
            "application/vnd.jupyter.widget-view+json": {
              "model_id": "8f81aaf119f34737b75592cfd9944911",
              "version_minor": 0,
              "version_major": 2
            },
            "text/plain": [
              "HBox(children=(FloatProgress(value=0.0, max=391.0), HTML(value='')))"
            ]
          },
          "metadata": {
            "tags": []
          }
        },
        {
          "output_type": "stream",
          "text": [
            "Epoch 4: train_loss: 0.3065 train_rmse: 0.5537 | val_loss: 0.3086 val_rmse: 0.5555\n"
          ],
          "name": "stdout"
        },
        {
          "output_type": "stream",
          "text": [
            "/usr/local/lib/python3.7/dist-packages/ipykernel_launcher.py:19: TqdmDeprecationWarning:\n",
            "\n",
            "This function will be removed in tqdm==5.0.0\n",
            "Please use `tqdm.notebook.tqdm` instead of `tqdm.tqdm_notebook`\n",
            "\n"
          ],
          "name": "stderr"
        },
        {
          "output_type": "display_data",
          "data": {
            "application/vnd.jupyter.widget-view+json": {
              "model_id": "47deee7fbe654c69ad71cfb4a06c53e0",
              "version_minor": 0,
              "version_major": 2
            },
            "text/plain": [
              "HBox(children=(FloatProgress(value=0.0, max=1563.0), HTML(value='')))"
            ]
          },
          "metadata": {
            "tags": []
          }
        },
        {
          "output_type": "stream",
          "text": [
            "/usr/local/lib/python3.7/dist-packages/ipykernel_launcher.py:51: TqdmDeprecationWarning:\n",
            "\n",
            "This function will be removed in tqdm==5.0.0\n",
            "Please use `tqdm.notebook.tqdm` instead of `tqdm.tqdm_notebook`\n",
            "\n"
          ],
          "name": "stderr"
        },
        {
          "output_type": "display_data",
          "data": {
            "application/vnd.jupyter.widget-view+json": {
              "model_id": "5c1a3e33cac1434fb508a8fb07632aa5",
              "version_minor": 0,
              "version_major": 2
            },
            "text/plain": [
              "HBox(children=(FloatProgress(value=0.0, max=391.0), HTML(value='')))"
            ]
          },
          "metadata": {
            "tags": []
          }
        },
        {
          "output_type": "stream",
          "text": [
            "Epoch 5: train_loss: 0.3061 train_rmse: 0.5532 | val_loss: 0.3081 val_rmse: 0.5551\n"
          ],
          "name": "stdout"
        },
        {
          "output_type": "stream",
          "text": [
            "/usr/local/lib/python3.7/dist-packages/ipykernel_launcher.py:19: TqdmDeprecationWarning:\n",
            "\n",
            "This function will be removed in tqdm==5.0.0\n",
            "Please use `tqdm.notebook.tqdm` instead of `tqdm.tqdm_notebook`\n",
            "\n"
          ],
          "name": "stderr"
        },
        {
          "output_type": "display_data",
          "data": {
            "application/vnd.jupyter.widget-view+json": {
              "model_id": "5b05515c084d4e5583d476864e3cadb0",
              "version_minor": 0,
              "version_major": 2
            },
            "text/plain": [
              "HBox(children=(FloatProgress(value=0.0, max=1563.0), HTML(value='')))"
            ]
          },
          "metadata": {
            "tags": []
          }
        },
        {
          "output_type": "stream",
          "text": [
            "/usr/local/lib/python3.7/dist-packages/ipykernel_launcher.py:51: TqdmDeprecationWarning:\n",
            "\n",
            "This function will be removed in tqdm==5.0.0\n",
            "Please use `tqdm.notebook.tqdm` instead of `tqdm.tqdm_notebook`\n",
            "\n"
          ],
          "name": "stderr"
        },
        {
          "output_type": "display_data",
          "data": {
            "application/vnd.jupyter.widget-view+json": {
              "model_id": "7c751e08a19d45dd96be6fa6cdf73f31",
              "version_minor": 0,
              "version_major": 2
            },
            "text/plain": [
              "HBox(children=(FloatProgress(value=0.0, max=391.0), HTML(value='')))"
            ]
          },
          "metadata": {
            "tags": []
          }
        },
        {
          "output_type": "stream",
          "text": [
            "Epoch 6: train_loss: 0.3066 train_rmse: 0.5537 | val_loss: 0.3085 val_rmse: 0.5555\n"
          ],
          "name": "stdout"
        },
        {
          "output_type": "stream",
          "text": [
            "/usr/local/lib/python3.7/dist-packages/ipykernel_launcher.py:19: TqdmDeprecationWarning:\n",
            "\n",
            "This function will be removed in tqdm==5.0.0\n",
            "Please use `tqdm.notebook.tqdm` instead of `tqdm.tqdm_notebook`\n",
            "\n"
          ],
          "name": "stderr"
        },
        {
          "output_type": "display_data",
          "data": {
            "application/vnd.jupyter.widget-view+json": {
              "model_id": "a08a540c689645b591d57d8b7b3e423a",
              "version_minor": 0,
              "version_major": 2
            },
            "text/plain": [
              "HBox(children=(FloatProgress(value=0.0, max=1563.0), HTML(value='')))"
            ]
          },
          "metadata": {
            "tags": []
          }
        },
        {
          "output_type": "stream",
          "text": [
            "/usr/local/lib/python3.7/dist-packages/ipykernel_launcher.py:51: TqdmDeprecationWarning:\n",
            "\n",
            "This function will be removed in tqdm==5.0.0\n",
            "Please use `tqdm.notebook.tqdm` instead of `tqdm.tqdm_notebook`\n",
            "\n"
          ],
          "name": "stderr"
        },
        {
          "output_type": "display_data",
          "data": {
            "application/vnd.jupyter.widget-view+json": {
              "model_id": "70c62317ccd14243b3bcbed5879e8e6c",
              "version_minor": 0,
              "version_major": 2
            },
            "text/plain": [
              "HBox(children=(FloatProgress(value=0.0, max=391.0), HTML(value='')))"
            ]
          },
          "metadata": {
            "tags": []
          }
        },
        {
          "output_type": "stream",
          "text": [
            "Epoch 7: train_loss: 0.3068 train_rmse: 0.5538 | val_loss: 0.3094 val_rmse: 0.5562\n"
          ],
          "name": "stdout"
        },
        {
          "output_type": "stream",
          "text": [
            "/usr/local/lib/python3.7/dist-packages/ipykernel_launcher.py:19: TqdmDeprecationWarning:\n",
            "\n",
            "This function will be removed in tqdm==5.0.0\n",
            "Please use `tqdm.notebook.tqdm` instead of `tqdm.tqdm_notebook`\n",
            "\n"
          ],
          "name": "stderr"
        },
        {
          "output_type": "display_data",
          "data": {
            "application/vnd.jupyter.widget-view+json": {
              "model_id": "cefde4bad7864c09bd66a35866dd567a",
              "version_minor": 0,
              "version_major": 2
            },
            "text/plain": [
              "HBox(children=(FloatProgress(value=0.0, max=1563.0), HTML(value='')))"
            ]
          },
          "metadata": {
            "tags": []
          }
        },
        {
          "output_type": "stream",
          "text": [
            "/usr/local/lib/python3.7/dist-packages/ipykernel_launcher.py:51: TqdmDeprecationWarning:\n",
            "\n",
            "This function will be removed in tqdm==5.0.0\n",
            "Please use `tqdm.notebook.tqdm` instead of `tqdm.tqdm_notebook`\n",
            "\n"
          ],
          "name": "stderr"
        },
        {
          "output_type": "display_data",
          "data": {
            "application/vnd.jupyter.widget-view+json": {
              "model_id": "6cbd3ce154204af9a7e26583045f0931",
              "version_minor": 0,
              "version_major": 2
            },
            "text/plain": [
              "HBox(children=(FloatProgress(value=0.0, max=391.0), HTML(value='')))"
            ]
          },
          "metadata": {
            "tags": []
          }
        },
        {
          "output_type": "stream",
          "text": [
            "Epoch 8: train_loss: 0.3076 train_rmse: 0.5547 | val_loss: 0.3162 val_rmse: 0.5623\n"
          ],
          "name": "stdout"
        },
        {
          "output_type": "stream",
          "text": [
            "/usr/local/lib/python3.7/dist-packages/ipykernel_launcher.py:19: TqdmDeprecationWarning:\n",
            "\n",
            "This function will be removed in tqdm==5.0.0\n",
            "Please use `tqdm.notebook.tqdm` instead of `tqdm.tqdm_notebook`\n",
            "\n"
          ],
          "name": "stderr"
        },
        {
          "output_type": "display_data",
          "data": {
            "application/vnd.jupyter.widget-view+json": {
              "model_id": "b424924e65114c4494e162ec4ba465d1",
              "version_minor": 0,
              "version_major": 2
            },
            "text/plain": [
              "HBox(children=(FloatProgress(value=0.0, max=1563.0), HTML(value='')))"
            ]
          },
          "metadata": {
            "tags": []
          }
        },
        {
          "output_type": "stream",
          "text": [
            "/usr/local/lib/python3.7/dist-packages/ipykernel_launcher.py:51: TqdmDeprecationWarning:\n",
            "\n",
            "This function will be removed in tqdm==5.0.0\n",
            "Please use `tqdm.notebook.tqdm` instead of `tqdm.tqdm_notebook`\n",
            "\n"
          ],
          "name": "stderr"
        },
        {
          "output_type": "display_data",
          "data": {
            "application/vnd.jupyter.widget-view+json": {
              "model_id": "b0655bbf9a4a45da8b8fde5e1da458d2",
              "version_minor": 0,
              "version_major": 2
            },
            "text/plain": [
              "HBox(children=(FloatProgress(value=0.0, max=391.0), HTML(value='')))"
            ]
          },
          "metadata": {
            "tags": []
          }
        },
        {
          "output_type": "stream",
          "text": [
            "Epoch 9: train_loss: 0.3081 train_rmse: 0.5551 | val_loss: 0.3080 val_rmse: 0.5550\n",
            "\n"
          ],
          "name": "stdout"
        }
      ]
    },
    {
      "cell_type": "markdown",
      "metadata": {
        "id": "dg-YyTMzChI7"
      },
      "source": [
        "## Plots"
      ]
    },
    {
      "cell_type": "code",
      "metadata": {
        "id": "SyqjNOfiIFGB",
        "colab": {
          "base_uri": "https://localhost:8080/"
        },
        "outputId": "5f4614e2-bb83-4494-ddf4-dfc4a6ae1349"
      },
      "source": [
        "#Plot the Learning rate\n",
        "_ = plt.plot(lr[0])\n",
        "_ = plt.title('LR over Epoch (Epoch 0)')"
      ],
      "execution_count": null,
      "outputs": [
        {
          "output_type": "display_data",
          "data": {
            "image/png": "[encoded data removed]",
            "text/plain": [
              "<Figure size 432x288 with 1 Axes>"
            ]
          },
          "metadata": {
            "tags": [],
            "needs_background": "light"
          }
        }
      ]
    },
    {
      "cell_type": "code",
      "metadata": {
        "id": "Y35tlzFRrCPZ"
      },
      "source": [
        ""
      ],
      "execution_count": null,
      "outputs": []
    },
    {
      "cell_type": "code",
      "metadata": {
        "id": "4q-a7-Ylp6JN",
        "colab": {
          "base_uri": "https://localhost:8080/",
          "height": 312
        },
        "outputId": "9021dbc2-8df0-4b83-cc34-11b6fae19ef6"
      },
      "source": [
        "#inspired from: https://nbviewer.jupyter.org/github/FraPochetti/KagglePlaygrounds/blob/master/NYC%20Taxi%20Fares%20Prediction.ipynb \n",
        "# Train VS Validaton Loss\n",
        "\n",
        "t = [np.mean(tloss[el]) for el in tloss]\n",
        "v = [np.mean(vloss[el]) for el in vloss]\n",
        "\n",
        "plt.plot(t, label='Training loss')\n",
        "plt.plot(v, label='Validation loss')\n",
        "plt.title(\"Train VS Validation Loss over Epochs\")\n",
        "plt.xlabel(\"Epochs\")\n",
        "plt.legend(frameon=False)"
      ],
      "execution_count": null,
      "outputs": [
        {
          "output_type": "execute_result",
          "data": {
            "text/plain": [
              "<matplotlib.legend.Legend at 0x7f34749ca110>"
            ]
          },
          "metadata": {
            "tags": []
          },
          "execution_count": 128
        },
        {
          "output_type": "display_data",
          "data": {
            "image/png": "[encoded data removed]",
            "text/plain": [
              "<Figure size 432x288 with 1 Axes>"
            ]
          },
          "metadata": {
            "tags": [],
            "needs_background": "light"
          }
        }
      ]
    },
    {
      "cell_type": "markdown",
      "metadata": {
        "id": "e0lSOupcxzIZ"
      },
      "source": [
        "# Test "
      ]
    },
    {
      "cell_type": "code",
      "metadata": {
        "id": "_xsc3FhFbsGz",
        "colab": {
          "base_uri": "https://localhost:8080/"
        },
        "outputId": "972196af-f702-4ff7-ddbf-37824860b1ce"
      },
      "source": [
        "df_test.info()"
      ],
      "execution_count": null,
      "outputs": [
        {
          "output_type": "stream",
          "text": [
            "<class 'pandas.core.frame.DataFrame'>\n",
            "Int64Index: 9912 entries, 2 to 9913\n",
            "Data columns (total 9 columns):\n",
            " #   Column             Non-Null Count  Dtype   \n",
            "---  ------             --------------  -----   \n",
            " 0   Hour               9912 non-null   category\n",
            " 1   AMorPM             9912 non-null   category\n",
            " 2   Weekday            9912 non-null   category\n",
            " 3   pickup_latitude    9912 non-null   float64 \n",
            " 4   pickup_longitude   9912 non-null   float64 \n",
            " 5   dropoff_latitude   9912 non-null   float64 \n",
            " 6   dropoff_longitude  9912 non-null   float64 \n",
            " 7   passenger_count    9912 non-null   float64 \n",
            " 8   dist_km            9912 non-null   float64 \n",
            "dtypes: category(3), float64(6)\n",
            "memory usage: 572.4 KB\n"
          ],
          "name": "stdout"
        }
      ]
    },
    {
      "cell_type": "code",
      "metadata": {
        "id": "3nrV9kSilNCS"
      },
      "source": [
        "# divide to cats and conts columns + make them a tensor + to.cuda()\n",
        "\n",
        "df_test_cats = df_test[['Hour', 'AMorPM', 'Weekday']]\n",
        "test_cats = df_test_cats.astype(np.int64)\n",
        "test_cats = torch.tensor(test_cats.values).cuda()\n",
        "\n",
        "df_test_conts = df_test[['pickup_latitude', 'pickup_longitude', 'dropoff_latitude', 'dropoff_longitude', 'passenger_count', 'dist_km']]\n",
        "test_conts = df_test_conts.astype(np.float32)\n",
        "test_conts = torch.tensor(test_conts.values).cuda()"
      ],
      "execution_count": null,
      "outputs": []
    },
    {
      "cell_type": "code",
      "metadata": {
        "id": "jgYTtfyVxUFJ"
      },
      "source": [
        "# make prediction\n",
        "\n",
        "with torch.no_grad():\n",
        "    model.eval()\n",
        "    output = model.forward(test_cats,test_conts).cuda()"
      ],
      "execution_count": null,
      "outputs": []
    },
    {
      "cell_type": "code",
      "metadata": {
        "id": "E8Rl4zVZ93ag",
        "colab": {
          "base_uri": "https://localhost:8080/"
        },
        "outputId": "afc7d527-a5e2-4b14-9b7c-d90767d48198"
      },
      "source": [
        "output"
      ],
      "execution_count": null,
      "outputs": [
        {
          "output_type": "execute_result",
          "data": {
            "text/plain": [
              "tensor([2.2199, 2.0848, 2.4333,  ..., 2.7276, 2.5444, 1.9365], device='cuda:0')"
            ]
          },
          "metadata": {
            "tags": []
          },
          "execution_count": 132
        }
      ]
    },
    {
      "cell_type": "code",
      "metadata": {
        "id": "nw6AZdZXAfv7",
        "colab": {
          "base_uri": "https://localhost:8080/"
        },
        "outputId": "4f37ef37-04dc-472c-bc7f-2697e3eb3bc6"
      },
      "source": [
        "len(output)"
      ],
      "execution_count": null,
      "outputs": [
        {
          "output_type": "execute_result",
          "data": {
            "text/plain": [
              "9912"
            ]
          },
          "metadata": {
            "tags": []
          },
          "execution_count": 133
        }
      ]
    },
    {
      "cell_type": "code",
      "metadata": {
        "id": "AFJ9Ny5nAjWA",
        "colab": {
          "base_uri": "https://localhost:8080/"
        },
        "outputId": "8925a4df-1220-43ba-bc13-a93146ea694d"
      },
      "source": [
        "type(output)"
      ],
      "execution_count": null,
      "outputs": [
        {
          "output_type": "execute_result",
          "data": {
            "text/plain": [
              "torch.Tensor"
            ]
          },
          "metadata": {
            "tags": []
          },
          "execution_count": 134
        }
      ]
    },
    {
      "cell_type": "code",
      "metadata": {
        "id": "iLEtdrOoDIBA"
      },
      "source": [
        "# convert to numpy array\n",
        "np_output = output.cpu().numpy()"
      ],
      "execution_count": null,
      "outputs": []
    },
    {
      "cell_type": "code",
      "metadata": {
        "id": "s4HOvUYIE7jx",
        "colab": {
          "base_uri": "https://localhost:8080/"
        },
        "outputId": "af5b0884-9edd-4f98-f707-423e027de328"
      },
      "source": [
        "type(np_output)"
      ],
      "execution_count": null,
      "outputs": [
        {
          "output_type": "execute_result",
          "data": {
            "text/plain": [
              "numpy.ndarray"
            ]
          },
          "metadata": {
            "tags": []
          },
          "execution_count": 136
        }
      ]
    },
    {
      "cell_type": "code",
      "metadata": {
        "id": "CKp9G4XTDZNI",
        "colab": {
          "base_uri": "https://localhost:8080/"
        },
        "outputId": "a6f6e7f5-6000-4801-926c-85f6da4cce8b"
      },
      "source": [
        "np_output"
      ],
      "execution_count": null,
      "outputs": [
        {
          "output_type": "execute_result",
          "data": {
            "text/plain": [
              "array([2.219875 , 2.0847578, 2.4333007, ..., 2.727586 , 2.5443685,\n",
              "       1.9365021], dtype=float32)"
            ]
          },
          "metadata": {
            "tags": []
          },
          "execution_count": 137
        }
      ]
    },
    {
      "cell_type": "code",
      "metadata": {
        "id": "EHo-Vq3AE5zE"
      },
      "source": [
        "#  exp to the output data\n",
        "\n",
        "np_output_exp = np.exp(np_output)"
      ],
      "execution_count": null,
      "outputs": []
    },
    {
      "cell_type": "code",
      "metadata": {
        "id": "hCeCxOKpFayL",
        "colab": {
          "base_uri": "https://localhost:8080/"
        },
        "outputId": "874a42b5-1b22-49dc-d497-c2c662e0b4b6"
      },
      "source": [
        "np_output_exp"
      ],
      "execution_count": null,
      "outputs": [
        {
          "output_type": "execute_result",
          "data": {
            "text/plain": [
              "array([ 9.206182,  8.042644, 11.396436, ..., 15.295918, 12.735183,\n",
              "        6.934452], dtype=float32)"
            ]
          },
          "metadata": {
            "tags": []
          },
          "execution_count": 139
        }
      ]
    },
    {
      "cell_type": "code",
      "metadata": {
        "id": "wC-v0WfmCwEw"
      },
      "source": [
        "# CONVERT to pandas data frame \n",
        "\n",
        "df_output =  pd.DataFrame(np_output_exp)"
      ],
      "execution_count": null,
      "outputs": []
    },
    {
      "cell_type": "code",
      "metadata": {
        "id": "EWeienWcC2t1",
        "colab": {
          "base_uri": "https://localhost:8080/",
          "height": 419
        },
        "outputId": "12400b1a-7dfb-40f3-9848-65ce72897f21"
      },
      "source": [
        "df_output"
      ],
      "execution_count": null,
      "outputs": [
        {
          "output_type": "execute_result",
          "data": {
            "text/html": [
              "<div>\n",
              "<style scoped>\n",
              "    .dataframe tbody tr th:only-of-type {\n",
              "        vertical-align: middle;\n",
              "    }\n",
              "\n",
              "    .dataframe tbody tr th {\n",
              "        vertical-align: top;\n",
              "    }\n",
              "\n",
              "    .dataframe thead th {\n",
              "        text-align: right;\n",
              "    }\n",
              "</style>\n",
              "<table border=\"1\" class=\"dataframe\">\n",
              "  <thead>\n",
              "    <tr style=\"text-align: right;\">\n",
              "      <th></th>\n",
              "      <th>0</th>\n",
              "    </tr>\n",
              "  </thead>\n",
              "  <tbody>\n",
              "    <tr>\n",
              "      <th>0</th>\n",
              "      <td>9.206182</td>\n",
              "    </tr>\n",
              "    <tr>\n",
              "      <th>1</th>\n",
              "      <td>8.042644</td>\n",
              "    </tr>\n",
              "    <tr>\n",
              "      <th>2</th>\n",
              "      <td>11.396436</td>\n",
              "    </tr>\n",
              "    <tr>\n",
              "      <th>3</th>\n",
              "      <td>9.663917</td>\n",
              "    </tr>\n",
              "    <tr>\n",
              "      <th>4</th>\n",
              "      <td>7.263952</td>\n",
              "    </tr>\n",
              "    <tr>\n",
              "      <th>...</th>\n",
              "      <td>...</td>\n",
              "    </tr>\n",
              "    <tr>\n",
              "      <th>9907</th>\n",
              "      <td>8.516577</td>\n",
              "    </tr>\n",
              "    <tr>\n",
              "      <th>9908</th>\n",
              "      <td>9.761715</td>\n",
              "    </tr>\n",
              "    <tr>\n",
              "      <th>9909</th>\n",
              "      <td>15.295918</td>\n",
              "    </tr>\n",
              "    <tr>\n",
              "      <th>9910</th>\n",
              "      <td>12.735183</td>\n",
              "    </tr>\n",
              "    <tr>\n",
              "      <th>9911</th>\n",
              "      <td>6.934452</td>\n",
              "    </tr>\n",
              "  </tbody>\n",
              "</table>\n",
              "<p>9912 rows × 1 columns</p>\n",
              "</div>"
            ],
            "text/plain": [
              "              0\n",
              "0      9.206182\n",
              "1      8.042644\n",
              "2     11.396436\n",
              "3      9.663917\n",
              "4      7.263952\n",
              "...         ...\n",
              "9907   8.516577\n",
              "9908   9.761715\n",
              "9909  15.295918\n",
              "9910  12.735183\n",
              "9911   6.934452\n",
              "\n",
              "[9912 rows x 1 columns]"
            ]
          },
          "metadata": {
            "tags": []
          },
          "execution_count": 141
        }
      ]
    },
    {
      "cell_type": "code",
      "metadata": {
        "id": "UtBEyhHPKCCO",
        "colab": {
          "base_uri": "https://localhost:8080/"
        },
        "outputId": "8b99f7eb-bb02-41b1-f71e-61f4ef57497e"
      },
      "source": [
        "type(df_output)"
      ],
      "execution_count": null,
      "outputs": [
        {
          "output_type": "execute_result",
          "data": {
            "text/plain": [
              "pandas.core.frame.DataFrame"
            ]
          },
          "metadata": {
            "tags": []
          },
          "execution_count": 142
        }
      ]
    },
    {
      "cell_type": "code",
      "metadata": {
        "id": "BHl0PIlDH9ZU"
      },
      "source": [
        "#output file\n",
        "\n",
        "df_output.to_csv('submission.csv', index=False)\n"
      ],
      "execution_count": null,
      "outputs": []
    },
    {
      "cell_type": "code",
      "metadata": {
        "id": "1-y9qE3yIenz"
      },
      "source": [
        "# function that takes in a dataframe and creates a text link to  \n",
        "# download it (will only work for files < 2MB or so)\n",
        "\n",
        "from IPython.display import HTML\n",
        "import base64\n",
        "\n",
        "def create_download_link(df, title = \"Download CSV file\", filename = \"submission.csv\"):  \n",
        "    csv = df.to_csv()\n",
        "    b64 = base64.b64encode(csv.encode())\n",
        "    payload = b64.decode()\n",
        "    html = '<a download=\"{filename}\" href=\"data:text/csv;base64,{payload}\" target=\"_blank\">{title}</a>'\n",
        "    html = html.format(payload=payload,title=title,filename=filename)\n",
        "    return HTML(html)"
      ],
      "execution_count": null,
      "outputs": []
    },
    {
      "cell_type": "code",
      "metadata": {
        "id": "f_jMDav8I82M",
        "colab": {
          "base_uri": "https://localhost:8080/",
          "height": 88
        },
        "outputId": "42e64110-c978-4a29-ca39-090930929153"
      },
      "source": [
        "# create a link to download the dataframe\n",
        "create_download_link(df_output)"
      ],
      "execution_count": null,
      "outputs": [
        {
          "output_type": "execute_result",
          "data": {
            "text/html": [
              "<a download=\"submission.csv\" href=\"data:text/csv;base64,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\" target=\"_blank\">Download CSV file</a>"
            ],
            "text/plain": [
              "<IPython.core.display.HTML object>"
            ]
          },
          "metadata": {
            "tags": []
          },
          "execution_count": 145
        }
      ]
    },
    {
      "cell_type": "code",
      "metadata": {
        "id": "2tqDiZSII-5m"
      },
      "source": [
        ""
      ],
      "execution_count": null,
      "outputs": []
    }
  ]
}